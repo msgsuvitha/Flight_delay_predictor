{
 "cells": [
  {
   "cell_type": "markdown",
   "metadata": {},
   "source": [
    "## Feature Engineering"
   ]
  },
  {
   "cell_type": "code",
   "execution_count": 18,
   "metadata": {},
   "outputs": [],
   "source": [
    "\n",
    "import datetime, warnings, scipy \n",
    "import pandas as pd\n",
    "import numpy as np\n",
    "import seaborn as sns\n",
    "import matplotlib as mpl\n",
    "import matplotlib.pyplot as plt\n",
    "import matplotlib.patches as patches\n",
    "from matplotlib.patches import ConnectionPatch\n",
    "from collections import OrderedDict\n",
    "from matplotlib.gridspec import GridSpec\n",
    "from mpl_toolkits.basemap import Basemap\n",
    "from sklearn import metrics, linear_model\n",
    "from sklearn.preprocessing import PolynomialFeatures, StandardScaler\n",
    "from sklearn.preprocessing import LabelEncoder, OneHotEncoder\n",
    "from sklearn.model_selection import train_test_split, cross_val_score, cross_val_predict\n",
    "from scipy.optimize import curve_fit\n",
    "plt.rcParams[\"patch.force_edgecolor\"] = True\n",
    "plt.style.use('fivethirtyeight')\n",
    "mpl.rc('patch', edgecolor = 'dimgray', linewidth=1)\n",
    "from IPython.core.interactiveshell import InteractiveShell\n",
    "InteractiveShell.ast_node_interactivity = \"last_expr\"\n",
    "pd.options.display.max_columns = 50\n",
    "%matplotlib inline\n",
    "warnings.filterwarnings(\"ignore\")"
   ]
  },
  {
   "cell_type": "code",
   "execution_count": 15,
   "metadata": {},
   "outputs": [],
   "source": [
    "#data=pd.read_csv('B500Kflight.csv',parse_dates= ['fl_date'],encoding='utf-8-sig'\n",
    "#            )   \n",
    "data=pd.read_csv('Bcleaned_Train_data.csv',parse_dates= ['fl_date'],encoding='utf-8-sig'\n",
    "            )   \n",
    "#data['Month'] = data['Date'].dt.month,data['Day'] = data['Date'].dt.day)\n",
    "test=data.copy()"
   ]
  },
  {
   "cell_type": "code",
   "execution_count": 19,
   "metadata": {},
   "outputs": [
    {
     "data": {
      "text/plain": [
       "Unnamed: 0            0\n",
       "fl_date               0\n",
       "mkt_unique_carrier    0\n",
       "mkt_carrier_fl_num    0\n",
       "op_unique_carrier     0\n",
       "tail_num              0\n",
       "op_carrier_fl_num     0\n",
       "origin_airport_id     0\n",
       "origin                0\n",
       "origin_city_name      0\n",
       "dest_airport_id       0\n",
       "dest                  0\n",
       "dest_city_name        0\n",
       "crs_dep_time          0\n",
       "crs_arr_time          0\n",
       "dup                   0\n",
       "crs_elapsed_time      0\n",
       "flights               0\n",
       "distance              0\n",
       "arr_delay             0\n",
       "carrier_delay         0\n",
       "weather_delay         0\n",
       "dep_delay             0\n",
       "taxi_out              0\n",
       "taxi_in               0\n",
       "dtype: int64"
      ]
     },
     "execution_count": 19,
     "metadata": {},
     "output_type": "execute_result"
    }
   ],
   "source": [
    "train_data=data.fillna(0)\n",
    "train_data.isnull().sum()"
   ]
  },
  {
   "cell_type": "markdown",
   "metadata": {},
   "source": [
    "## Adding and testing Features to Train Dataset\n"
   ]
  },
  {
   "cell_type": "markdown",
   "metadata": {},
   "source": [
    "### 1- Total delay"
   ]
  },
  {
   "cell_type": "code",
   "execution_count": 26,
   "metadata": {
    "tags": []
   },
   "outputs": [],
   "source": [
    "test3=train_data.copy() #according to arrvie delay\n",
    "#test3['TotalDelay'] = test3.apply(lambda x: ((x['dep_delay'] + x['arr_delay'] +x['carrier_delay'] +x['weather_delay'] + x['late_aircraft_delay']+x['security_level'])),  axis=1)\n"
   ]
  },
  {
   "cell_type": "code",
   "execution_count": null,
   "metadata": {},
   "outputs": [],
   "source": []
  },
  {
   "cell_type": "markdown",
   "metadata": {},
   "source": [
    "   ### 2- IS DELAYED"
   ]
  },
  {
   "cell_type": "code",
   "execution_count": null,
   "metadata": {},
   "outputs": [],
   "source": [
    "\n",
    "#test3.loc[(test3['TotalDelay'].ge(0)),\"is_delayed\"]=1\n",
    "#test3.loc[~(test3['TotalDelay'].ge(0)),\"is_delayed\"]=0"
   ]
  },
  {
   "cell_type": "code",
   "execution_count": 27,
   "metadata": {},
   "outputs": [],
   "source": [
    "test3.loc[(test3['arr_delay'].ge(0)),\"is_delayed\"]=1\n",
    "test3.loc[~(test3['arr_delay'].ge(0)),\"is_delayed\"]=0"
   ]
  },
  {
   "cell_type": "markdown",
   "metadata": {},
   "source": [
    "## 3,4,5- Day,Month, Day of week"
   ]
  },
  {
   "cell_type": "code",
   "execution_count": 28,
   "metadata": {},
   "outputs": [],
   "source": [
    "\n",
    "test3[\"year\"]=test3['fl_date'].dt.year\n",
    "test3[\"month\"]=test3['fl_date'].dt.month\n",
    "test3[\"day\"]=test3['fl_date'].dt.day\n",
    "test3[\"dayOfWeek\"]=test3['fl_date'].dt.dayofweek\n"
   ]
  },
  {
   "cell_type": "code",
   "execution_count": 29,
   "metadata": {},
   "outputs": [
    {
     "data": {
      "text/html": [
       "<div>\n",
       "<style scoped>\n",
       "    .dataframe tbody tr th:only-of-type {\n",
       "        vertical-align: middle;\n",
       "    }\n",
       "\n",
       "    .dataframe tbody tr th {\n",
       "        vertical-align: top;\n",
       "    }\n",
       "\n",
       "    .dataframe thead th {\n",
       "        text-align: right;\n",
       "    }\n",
       "</style>\n",
       "<table border=\"1\" class=\"dataframe\">\n",
       "  <thead>\n",
       "    <tr style=\"text-align: right;\">\n",
       "      <th></th>\n",
       "      <th>Unnamed: 0</th>\n",
       "      <th>fl_date</th>\n",
       "      <th>mkt_unique_carrier</th>\n",
       "      <th>mkt_carrier_fl_num</th>\n",
       "      <th>op_unique_carrier</th>\n",
       "      <th>tail_num</th>\n",
       "      <th>op_carrier_fl_num</th>\n",
       "      <th>origin_airport_id</th>\n",
       "      <th>origin</th>\n",
       "      <th>origin_city_name</th>\n",
       "      <th>dest_airport_id</th>\n",
       "      <th>dest</th>\n",
       "      <th>dest_city_name</th>\n",
       "      <th>crs_dep_time</th>\n",
       "      <th>crs_arr_time</th>\n",
       "      <th>dup</th>\n",
       "      <th>crs_elapsed_time</th>\n",
       "      <th>flights</th>\n",
       "      <th>distance</th>\n",
       "      <th>arr_delay</th>\n",
       "      <th>carrier_delay</th>\n",
       "      <th>weather_delay</th>\n",
       "      <th>dep_delay</th>\n",
       "      <th>taxi_out</th>\n",
       "      <th>taxi_in</th>\n",
       "      <th>is_delayed</th>\n",
       "      <th>year</th>\n",
       "      <th>month</th>\n",
       "      <th>day</th>\n",
       "      <th>dayOfWeek</th>\n",
       "    </tr>\n",
       "  </thead>\n",
       "  <tbody>\n",
       "    <tr>\n",
       "      <th>0</th>\n",
       "      <td>0</td>\n",
       "      <td>2019-09-14</td>\n",
       "      <td>AA</td>\n",
       "      <td>1059</td>\n",
       "      <td>AA</td>\n",
       "      <td>N552UW</td>\n",
       "      <td>1059</td>\n",
       "      <td>14771</td>\n",
       "      <td>SFO</td>\n",
       "      <td>San Francisco, CA</td>\n",
       "      <td>12892</td>\n",
       "      <td>LAX</td>\n",
       "      <td>Los Angeles, CA</td>\n",
       "      <td>1026</td>\n",
       "      <td>1205</td>\n",
       "      <td>N</td>\n",
       "      <td>99</td>\n",
       "      <td>1</td>\n",
       "      <td>337</td>\n",
       "      <td>-22.0</td>\n",
       "      <td>0.0</td>\n",
       "      <td>0.0</td>\n",
       "      <td>-4.0</td>\n",
       "      <td>13.0</td>\n",
       "      <td>10.0</td>\n",
       "      <td>0.0</td>\n",
       "      <td>2019</td>\n",
       "      <td>9</td>\n",
       "      <td>14</td>\n",
       "      <td>5</td>\n",
       "    </tr>\n",
       "    <tr>\n",
       "      <th>1</th>\n",
       "      <td>1</td>\n",
       "      <td>2019-06-04</td>\n",
       "      <td>DL</td>\n",
       "      <td>1216</td>\n",
       "      <td>DL</td>\n",
       "      <td>N961AT</td>\n",
       "      <td>1216</td>\n",
       "      <td>10431</td>\n",
       "      <td>AVL</td>\n",
       "      <td>Asheville, NC</td>\n",
       "      <td>10397</td>\n",
       "      <td>ATL</td>\n",
       "      <td>Atlanta, GA</td>\n",
       "      <td>600</td>\n",
       "      <td>701</td>\n",
       "      <td>N</td>\n",
       "      <td>61</td>\n",
       "      <td>1</td>\n",
       "      <td>164</td>\n",
       "      <td>-13.0</td>\n",
       "      <td>0.0</td>\n",
       "      <td>0.0</td>\n",
       "      <td>-7.0</td>\n",
       "      <td>15.0</td>\n",
       "      <td>7.0</td>\n",
       "      <td>0.0</td>\n",
       "      <td>2019</td>\n",
       "      <td>6</td>\n",
       "      <td>4</td>\n",
       "      <td>1</td>\n",
       "    </tr>\n",
       "    <tr>\n",
       "      <th>2</th>\n",
       "      <td>2</td>\n",
       "      <td>2019-06-05</td>\n",
       "      <td>UA</td>\n",
       "      <td>236</td>\n",
       "      <td>UA</td>\n",
       "      <td>N24706</td>\n",
       "      <td>236</td>\n",
       "      <td>10397</td>\n",
       "      <td>ATL</td>\n",
       "      <td>Atlanta, GA</td>\n",
       "      <td>12264</td>\n",
       "      <td>IAD</td>\n",
       "      <td>Washington, DC</td>\n",
       "      <td>1430</td>\n",
       "      <td>1617</td>\n",
       "      <td>N</td>\n",
       "      <td>107</td>\n",
       "      <td>1</td>\n",
       "      <td>534</td>\n",
       "      <td>13.0</td>\n",
       "      <td>0.0</td>\n",
       "      <td>0.0</td>\n",
       "      <td>-3.0</td>\n",
       "      <td>30.0</td>\n",
       "      <td>4.0</td>\n",
       "      <td>1.0</td>\n",
       "      <td>2019</td>\n",
       "      <td>6</td>\n",
       "      <td>5</td>\n",
       "      <td>2</td>\n",
       "    </tr>\n",
       "    <tr>\n",
       "      <th>3</th>\n",
       "      <td>3</td>\n",
       "      <td>2019-09-11</td>\n",
       "      <td>AS</td>\n",
       "      <td>1936</td>\n",
       "      <td>AS</td>\n",
       "      <td>N624VA</td>\n",
       "      <td>1936</td>\n",
       "      <td>14771</td>\n",
       "      <td>SFO</td>\n",
       "      <td>San Francisco, CA</td>\n",
       "      <td>12892</td>\n",
       "      <td>LAX</td>\n",
       "      <td>Los Angeles, CA</td>\n",
       "      <td>1800</td>\n",
       "      <td>1935</td>\n",
       "      <td>N</td>\n",
       "      <td>95</td>\n",
       "      <td>1</td>\n",
       "      <td>337</td>\n",
       "      <td>34.0</td>\n",
       "      <td>2.0</td>\n",
       "      <td>0.0</td>\n",
       "      <td>41.0</td>\n",
       "      <td>23.0</td>\n",
       "      <td>11.0</td>\n",
       "      <td>1.0</td>\n",
       "      <td>2019</td>\n",
       "      <td>9</td>\n",
       "      <td>11</td>\n",
       "      <td>2</td>\n",
       "    </tr>\n",
       "    <tr>\n",
       "      <th>4</th>\n",
       "      <td>4</td>\n",
       "      <td>2019-05-19</td>\n",
       "      <td>AA</td>\n",
       "      <td>5714</td>\n",
       "      <td>YV</td>\n",
       "      <td>N919FJ</td>\n",
       "      <td>5714</td>\n",
       "      <td>11298</td>\n",
       "      <td>DFW</td>\n",
       "      <td>Dallas/Fort Worth, TX</td>\n",
       "      <td>11973</td>\n",
       "      <td>GPT</td>\n",
       "      <td>Gulfport/Biloxi, MS</td>\n",
       "      <td>1025</td>\n",
       "      <td>1203</td>\n",
       "      <td>N</td>\n",
       "      <td>98</td>\n",
       "      <td>1</td>\n",
       "      <td>500</td>\n",
       "      <td>104.0</td>\n",
       "      <td>22.0</td>\n",
       "      <td>0.0</td>\n",
       "      <td>106.0</td>\n",
       "      <td>20.0</td>\n",
       "      <td>4.0</td>\n",
       "      <td>1.0</td>\n",
       "      <td>2019</td>\n",
       "      <td>5</td>\n",
       "      <td>19</td>\n",
       "      <td>6</td>\n",
       "    </tr>\n",
       "    <tr>\n",
       "      <th>...</th>\n",
       "      <td>...</td>\n",
       "      <td>...</td>\n",
       "      <td>...</td>\n",
       "      <td>...</td>\n",
       "      <td>...</td>\n",
       "      <td>...</td>\n",
       "      <td>...</td>\n",
       "      <td>...</td>\n",
       "      <td>...</td>\n",
       "      <td>...</td>\n",
       "      <td>...</td>\n",
       "      <td>...</td>\n",
       "      <td>...</td>\n",
       "      <td>...</td>\n",
       "      <td>...</td>\n",
       "      <td>...</td>\n",
       "      <td>...</td>\n",
       "      <td>...</td>\n",
       "      <td>...</td>\n",
       "      <td>...</td>\n",
       "      <td>...</td>\n",
       "      <td>...</td>\n",
       "      <td>...</td>\n",
       "      <td>...</td>\n",
       "      <td>...</td>\n",
       "      <td>...</td>\n",
       "      <td>...</td>\n",
       "      <td>...</td>\n",
       "      <td>...</td>\n",
       "      <td>...</td>\n",
       "    </tr>\n",
       "    <tr>\n",
       "      <th>477394</th>\n",
       "      <td>499995</td>\n",
       "      <td>2019-03-03</td>\n",
       "      <td>UA</td>\n",
       "      <td>2275</td>\n",
       "      <td>UA</td>\n",
       "      <td>N78506</td>\n",
       "      <td>2275</td>\n",
       "      <td>11618</td>\n",
       "      <td>EWR</td>\n",
       "      <td>Newark, NJ</td>\n",
       "      <td>14635</td>\n",
       "      <td>RSW</td>\n",
       "      <td>Fort Myers, FL</td>\n",
       "      <td>1600</td>\n",
       "      <td>1906</td>\n",
       "      <td>N</td>\n",
       "      <td>186</td>\n",
       "      <td>1</td>\n",
       "      <td>1068</td>\n",
       "      <td>-13.0</td>\n",
       "      <td>0.0</td>\n",
       "      <td>0.0</td>\n",
       "      <td>-3.0</td>\n",
       "      <td>15.0</td>\n",
       "      <td>4.0</td>\n",
       "      <td>0.0</td>\n",
       "      <td>2019</td>\n",
       "      <td>3</td>\n",
       "      <td>3</td>\n",
       "      <td>6</td>\n",
       "    </tr>\n",
       "    <tr>\n",
       "      <th>477395</th>\n",
       "      <td>499996</td>\n",
       "      <td>2019-11-10</td>\n",
       "      <td>UA</td>\n",
       "      <td>6061</td>\n",
       "      <td>YV</td>\n",
       "      <td>N88301</td>\n",
       "      <td>6061</td>\n",
       "      <td>12266</td>\n",
       "      <td>IAH</td>\n",
       "      <td>Houston, TX</td>\n",
       "      <td>14492</td>\n",
       "      <td>RDU</td>\n",
       "      <td>Raleigh/Durham, NC</td>\n",
       "      <td>1420</td>\n",
       "      <td>1759</td>\n",
       "      <td>N</td>\n",
       "      <td>159</td>\n",
       "      <td>1</td>\n",
       "      <td>1042</td>\n",
       "      <td>2.0</td>\n",
       "      <td>0.0</td>\n",
       "      <td>0.0</td>\n",
       "      <td>0.0</td>\n",
       "      <td>15.0</td>\n",
       "      <td>6.0</td>\n",
       "      <td>1.0</td>\n",
       "      <td>2019</td>\n",
       "      <td>11</td>\n",
       "      <td>10</td>\n",
       "      <td>6</td>\n",
       "    </tr>\n",
       "    <tr>\n",
       "      <th>477396</th>\n",
       "      <td>499997</td>\n",
       "      <td>2019-03-11</td>\n",
       "      <td>AS</td>\n",
       "      <td>3303</td>\n",
       "      <td>OO</td>\n",
       "      <td>N181SY</td>\n",
       "      <td>3303</td>\n",
       "      <td>15376</td>\n",
       "      <td>TUS</td>\n",
       "      <td>Tucson, AZ</td>\n",
       "      <td>14831</td>\n",
       "      <td>SJC</td>\n",
       "      <td>San Jose, CA</td>\n",
       "      <td>815</td>\n",
       "      <td>1030</td>\n",
       "      <td>N</td>\n",
       "      <td>135</td>\n",
       "      <td>1</td>\n",
       "      <td>722</td>\n",
       "      <td>-16.0</td>\n",
       "      <td>0.0</td>\n",
       "      <td>0.0</td>\n",
       "      <td>-9.0</td>\n",
       "      <td>15.0</td>\n",
       "      <td>7.0</td>\n",
       "      <td>0.0</td>\n",
       "      <td>2019</td>\n",
       "      <td>3</td>\n",
       "      <td>11</td>\n",
       "      <td>0</td>\n",
       "    </tr>\n",
       "    <tr>\n",
       "      <th>477397</th>\n",
       "      <td>499998</td>\n",
       "      <td>2019-01-03</td>\n",
       "      <td>DL</td>\n",
       "      <td>5738</td>\n",
       "      <td>CP</td>\n",
       "      <td>N603CZ</td>\n",
       "      <td>5738</td>\n",
       "      <td>14869</td>\n",
       "      <td>SLC</td>\n",
       "      <td>Salt Lake City, UT</td>\n",
       "      <td>10140</td>\n",
       "      <td>ABQ</td>\n",
       "      <td>Albuquerque, NM</td>\n",
       "      <td>940</td>\n",
       "      <td>1130</td>\n",
       "      <td>N</td>\n",
       "      <td>110</td>\n",
       "      <td>1</td>\n",
       "      <td>493</td>\n",
       "      <td>-10.0</td>\n",
       "      <td>0.0</td>\n",
       "      <td>0.0</td>\n",
       "      <td>0.0</td>\n",
       "      <td>28.0</td>\n",
       "      <td>6.0</td>\n",
       "      <td>0.0</td>\n",
       "      <td>2019</td>\n",
       "      <td>1</td>\n",
       "      <td>3</td>\n",
       "      <td>3</td>\n",
       "    </tr>\n",
       "    <tr>\n",
       "      <th>477398</th>\n",
       "      <td>499999</td>\n",
       "      <td>2019-10-03</td>\n",
       "      <td>UA</td>\n",
       "      <td>1519</td>\n",
       "      <td>UA</td>\n",
       "      <td>N471UA</td>\n",
       "      <td>1519</td>\n",
       "      <td>11618</td>\n",
       "      <td>EWR</td>\n",
       "      <td>Newark, NJ</td>\n",
       "      <td>14027</td>\n",
       "      <td>PBI</td>\n",
       "      <td>West Palm Beach/Palm Beach, FL</td>\n",
       "      <td>830</td>\n",
       "      <td>1135</td>\n",
       "      <td>N</td>\n",
       "      <td>185</td>\n",
       "      <td>1</td>\n",
       "      <td>1023</td>\n",
       "      <td>-23.0</td>\n",
       "      <td>0.0</td>\n",
       "      <td>0.0</td>\n",
       "      <td>-4.0</td>\n",
       "      <td>22.0</td>\n",
       "      <td>5.0</td>\n",
       "      <td>0.0</td>\n",
       "      <td>2019</td>\n",
       "      <td>10</td>\n",
       "      <td>3</td>\n",
       "      <td>3</td>\n",
       "    </tr>\n",
       "  </tbody>\n",
       "</table>\n",
       "<p>477399 rows × 30 columns</p>\n",
       "</div>"
      ],
      "text/plain": [
       "        Unnamed: 0    fl_date mkt_unique_carrier  mkt_carrier_fl_num  \\\n",
       "0                0 2019-09-14                 AA                1059   \n",
       "1                1 2019-06-04                 DL                1216   \n",
       "2                2 2019-06-05                 UA                 236   \n",
       "3                3 2019-09-11                 AS                1936   \n",
       "4                4 2019-05-19                 AA                5714   \n",
       "...            ...        ...                ...                 ...   \n",
       "477394      499995 2019-03-03                 UA                2275   \n",
       "477395      499996 2019-11-10                 UA                6061   \n",
       "477396      499997 2019-03-11                 AS                3303   \n",
       "477397      499998 2019-01-03                 DL                5738   \n",
       "477398      499999 2019-10-03                 UA                1519   \n",
       "\n",
       "       op_unique_carrier tail_num  op_carrier_fl_num  origin_airport_id  \\\n",
       "0                     AA   N552UW               1059              14771   \n",
       "1                     DL   N961AT               1216              10431   \n",
       "2                     UA   N24706                236              10397   \n",
       "3                     AS   N624VA               1936              14771   \n",
       "4                     YV   N919FJ               5714              11298   \n",
       "...                  ...      ...                ...                ...   \n",
       "477394                UA   N78506               2275              11618   \n",
       "477395                YV   N88301               6061              12266   \n",
       "477396                OO   N181SY               3303              15376   \n",
       "477397                CP   N603CZ               5738              14869   \n",
       "477398                UA   N471UA               1519              11618   \n",
       "\n",
       "       origin       origin_city_name  dest_airport_id dest  \\\n",
       "0         SFO      San Francisco, CA            12892  LAX   \n",
       "1         AVL          Asheville, NC            10397  ATL   \n",
       "2         ATL            Atlanta, GA            12264  IAD   \n",
       "3         SFO      San Francisco, CA            12892  LAX   \n",
       "4         DFW  Dallas/Fort Worth, TX            11973  GPT   \n",
       "...       ...                    ...              ...  ...   \n",
       "477394    EWR             Newark, NJ            14635  RSW   \n",
       "477395    IAH            Houston, TX            14492  RDU   \n",
       "477396    TUS             Tucson, AZ            14831  SJC   \n",
       "477397    SLC     Salt Lake City, UT            10140  ABQ   \n",
       "477398    EWR             Newark, NJ            14027  PBI   \n",
       "\n",
       "                        dest_city_name  crs_dep_time  crs_arr_time dup  \\\n",
       "0                      Los Angeles, CA          1026          1205   N   \n",
       "1                          Atlanta, GA           600           701   N   \n",
       "2                       Washington, DC          1430          1617   N   \n",
       "3                      Los Angeles, CA          1800          1935   N   \n",
       "4                  Gulfport/Biloxi, MS          1025          1203   N   \n",
       "...                                ...           ...           ...  ..   \n",
       "477394                  Fort Myers, FL          1600          1906   N   \n",
       "477395              Raleigh/Durham, NC          1420          1759   N   \n",
       "477396                    San Jose, CA           815          1030   N   \n",
       "477397                 Albuquerque, NM           940          1130   N   \n",
       "477398  West Palm Beach/Palm Beach, FL           830          1135   N   \n",
       "\n",
       "        crs_elapsed_time  flights  distance  arr_delay  carrier_delay  \\\n",
       "0                     99        1       337      -22.0            0.0   \n",
       "1                     61        1       164      -13.0            0.0   \n",
       "2                    107        1       534       13.0            0.0   \n",
       "3                     95        1       337       34.0            2.0   \n",
       "4                     98        1       500      104.0           22.0   \n",
       "...                  ...      ...       ...        ...            ...   \n",
       "477394               186        1      1068      -13.0            0.0   \n",
       "477395               159        1      1042        2.0            0.0   \n",
       "477396               135        1       722      -16.0            0.0   \n",
       "477397               110        1       493      -10.0            0.0   \n",
       "477398               185        1      1023      -23.0            0.0   \n",
       "\n",
       "        weather_delay  dep_delay  taxi_out  taxi_in  is_delayed  year  month  \\\n",
       "0                 0.0       -4.0      13.0     10.0         0.0  2019      9   \n",
       "1                 0.0       -7.0      15.0      7.0         0.0  2019      6   \n",
       "2                 0.0       -3.0      30.0      4.0         1.0  2019      6   \n",
       "3                 0.0       41.0      23.0     11.0         1.0  2019      9   \n",
       "4                 0.0      106.0      20.0      4.0         1.0  2019      5   \n",
       "...               ...        ...       ...      ...         ...   ...    ...   \n",
       "477394            0.0       -3.0      15.0      4.0         0.0  2019      3   \n",
       "477395            0.0        0.0      15.0      6.0         1.0  2019     11   \n",
       "477396            0.0       -9.0      15.0      7.0         0.0  2019      3   \n",
       "477397            0.0        0.0      28.0      6.0         0.0  2019      1   \n",
       "477398            0.0       -4.0      22.0      5.0         0.0  2019     10   \n",
       "\n",
       "        day  dayOfWeek  \n",
       "0        14          5  \n",
       "1         4          1  \n",
       "2         5          2  \n",
       "3        11          2  \n",
       "4        19          6  \n",
       "...     ...        ...  \n",
       "477394    3          6  \n",
       "477395   10          6  \n",
       "477396   11          0  \n",
       "477397    3          3  \n",
       "477398    3          3  \n",
       "\n",
       "[477399 rows x 30 columns]"
      ]
     },
     "execution_count": 29,
     "metadata": {},
     "output_type": "execute_result"
    }
   ],
   "source": [
    "test3"
   ]
  },
  {
   "cell_type": "code",
   "execution_count": 35,
   "metadata": {},
   "outputs": [
    {
     "data": {
      "text/plain": [
       "Text(0.5, 0, '')"
      ]
     },
     "execution_count": 35,
     "metadata": {},
     "output_type": "execute_result"
    },
    {
     "data": {
      "image/png": "[encoded data removed]",
      "text/plain": [
       "<Figure size 432x288 with 1 Axes>"
      ]
     },
     "metadata": {
      "needs_background": "light"
     },
     "output_type": "display_data"
    }
   ],
   "source": [
    "test4=test3[(test3['is_delayed']==1)]\n",
    "#test4=test3[(test3['arr_delay']<60)&(test3['arr_delay']>-60)]\n",
    "test5=test3[['dayOfWeek','arr_delay']].groupby('dayOfWeek').count().reset_index()\n",
    "test6=test3[['dayOfWeek','arr_delay']].groupby('dayOfWeek').mean().reset_index()\n",
    "plt.bar(test5['dayOfWeek'],test5['arr_delay'])\n",
    "plt.xlabel('')\n",
    "#plt.yticks(rotation=45)\n"
   ]
  },
  {
   "cell_type": "code",
   "execution_count": 45,
   "metadata": {},
   "outputs": [
    {
     "data": {
      "text/plain": [
       "Text(0.5, 1.0, 'Mean of Arrival delay on the days of the week')"
      ]
     },
     "execution_count": 45,
     "metadata": {},
     "output_type": "execute_result"
    },
    {
     "data": {
      "image/png": "[encoded data removed]",
      "text/plain": [
       "<Figure size 432x288 with 1 Axes>"
      ]
     },
     "metadata": {
      "needs_background": "light"
     },
     "output_type": "display_data"
    }
   ],
   "source": [
    "s=sns.barplot(test6['dayOfWeek'],test6['arr_delay'],palette ='Blues_r')\n",
    "s.set_xlabel(\"Day of the week (Sat is 0)\", fontsize = 10)\n",
    "s.set_ylabel(\"Mean of delay(min)\", fontsize = 10)\n",
    "s.set_title(\"Mean of Arrival delay on the days of the week\", fontsize = 10)"
   ]
  },
  {
   "cell_type": "markdown",
   "metadata": {},
   "source": [
    "the delay is not much related to the day of the week"
   ]
  },
  {
   "cell_type": "code",
   "execution_count": 51,
   "metadata": {},
   "outputs": [
    {
     "data": {
      "text/plain": [
       "<BarContainer object of 12 artists>"
      ]
     },
     "execution_count": 51,
     "metadata": {},
     "output_type": "execute_result"
    },
    {
     "data": {
      "image/png": "[encoded data removed]",
      "text/plain": [
       "<Figure size 432x288 with 1 Axes>"
      ]
     },
     "metadata": {
      "needs_background": "light"
     },
     "output_type": "display_data"
    }
   ],
   "source": [
    "test5=test3[['month','arr_delay']].groupby('month').count().reset_index()\n",
    "test6=test3[['month','arr_delay']].groupby('month').mean().reset_index()\n",
    "plt.bar(test5['month'],test5['arr_delay'])"
   ]
  },
  {
   "cell_type": "code",
   "execution_count": 58,
   "metadata": {},
   "outputs": [
    {
     "data": {
      "text/plain": [
       "Text(0.5, 1.0, 'Mean of Arrival delay on the days of the week')"
      ]
     },
     "execution_count": 58,
     "metadata": {},
     "output_type": "execute_result"
    },
    {
     "data": {
      "image/png": "[encoded data removed]",
      "text/plain": [
       "<Figure size 432x288 with 1 Axes>"
      ]
     },
     "metadata": {
      "needs_background": "light"
     },
     "output_type": "display_data"
    }
   ],
   "source": [
    "#plt.bar(test6['month'],test6['arr_delay'])\n",
    "\n",
    "s=sns.barplot(test6['month'],test6['arr_delay'],color ='Blue')\n",
    "s.set_xlabel(\"Month (Jan is 0)\", fontsize = 10)\n",
    "s.set_ylabel(\"Mean of delay(min)\", fontsize = 10)\n",
    "s.set_title(\"Mean of Arrival delay on the days of the week\", fontsize = 10)"
   ]
  },
  {
   "cell_type": "markdown",
   "metadata": {},
   "source": [
    "### 5-  AirLine (carrier)"
   ]
  },
  {
   "cell_type": "code",
   "execution_count": 73,
   "metadata": {},
   "outputs": [
    {
     "data": {
      "text/plain": [
       "Text(0.5, 1.0, 'The flights with Arrival delay by each Airline ')"
      ]
     },
     "execution_count": 73,
     "metadata": {},
     "output_type": "execute_result"
    },
    {
     "data": {
      "image/png": "[encoded data removed]",
      "text/plain": [
       "<Figure size 432x288 with 1 Axes>"
      ]
     },
     "metadata": {},
     "output_type": "display_data"
    }
   ],
   "source": [
    "test5=test4[['mkt_unique_carrier','arr_delay']].groupby('mkt_unique_carrier').count().reset_index()\n",
    "plt.pie(test5['arr_delay'],labels=test5['mkt_unique_carrier'],autopct='%1.1f%%', )\n",
    "plt.title('The flights with Arrival delay by each Airline ',fontsize=12)\n"
   ]
  },
  {
   "cell_type": "code",
   "execution_count": 74,
   "metadata": {},
   "outputs": [
    {
     "data": {
      "text/html": [
       "<div>\n",
       "<style scoped>\n",
       "    .dataframe tbody tr th:only-of-type {\n",
       "        vertical-align: middle;\n",
       "    }\n",
       "\n",
       "    .dataframe tbody tr th {\n",
       "        vertical-align: top;\n",
       "    }\n",
       "\n",
       "    .dataframe thead th {\n",
       "        text-align: right;\n",
       "    }\n",
       "</style>\n",
       "<table border=\"1\" class=\"dataframe\">\n",
       "  <thead>\n",
       "    <tr style=\"text-align: right;\">\n",
       "      <th></th>\n",
       "      <th>mkt_unique_carrier</th>\n",
       "      <th>arr_delay</th>\n",
       "    </tr>\n",
       "  </thead>\n",
       "  <tbody>\n",
       "    <tr>\n",
       "      <th>0</th>\n",
       "      <td>AA</td>\n",
       "      <td>45902</td>\n",
       "    </tr>\n",
       "    <tr>\n",
       "      <th>8</th>\n",
       "      <td>UA</td>\n",
       "      <td>33083</td>\n",
       "    </tr>\n",
       "    <tr>\n",
       "      <th>3</th>\n",
       "      <td>DL</td>\n",
       "      <td>30779</td>\n",
       "    </tr>\n",
       "    <tr>\n",
       "      <th>9</th>\n",
       "      <td>WN</td>\n",
       "      <td>28696</td>\n",
       "    </tr>\n",
       "    <tr>\n",
       "      <th>1</th>\n",
       "      <td>AS</td>\n",
       "      <td>9774</td>\n",
       "    </tr>\n",
       "    <tr>\n",
       "      <th>2</th>\n",
       "      <td>B6</td>\n",
       "      <td>6346</td>\n",
       "    </tr>\n",
       "    <tr>\n",
       "      <th>7</th>\n",
       "      <td>NK</td>\n",
       "      <td>4022</td>\n",
       "    </tr>\n",
       "    <tr>\n",
       "      <th>4</th>\n",
       "      <td>F9</td>\n",
       "      <td>3148</td>\n",
       "    </tr>\n",
       "    <tr>\n",
       "      <th>5</th>\n",
       "      <td>G4</td>\n",
       "      <td>2447</td>\n",
       "    </tr>\n",
       "    <tr>\n",
       "      <th>6</th>\n",
       "      <td>HA</td>\n",
       "      <td>2166</td>\n",
       "    </tr>\n",
       "  </tbody>\n",
       "</table>\n",
       "</div>"
      ],
      "text/plain": [
       "  mkt_unique_carrier  arr_delay\n",
       "0                 AA      45902\n",
       "8                 UA      33083\n",
       "3                 DL      30779\n",
       "9                 WN      28696\n",
       "1                 AS       9774\n",
       "2                 B6       6346\n",
       "7                 NK       4022\n",
       "4                 F9       3148\n",
       "5                 G4       2447\n",
       "6                 HA       2166"
      ]
     },
     "execution_count": 74,
     "metadata": {},
     "output_type": "execute_result"
    }
   ],
   "source": [
    "test51=test5[['mkt_unique_carrier','arr_delay']].sort_values(by ='arr_delay',ascending=False)\n",
    "test51"
   ]
  },
  {
   "cell_type": "code",
   "execution_count": 75,
   "metadata": {},
   "outputs": [],
   "source": [
    "test55=test5['arr_delay'].describe().reset_index()\n",
    "mean=test55.loc[test55['index']=='mean','arr_delay'].values[0]\n",
    "test52=test5[test51['arr_delay'].gt(mean)]"
   ]
  },
  {
   "cell_type": "code",
   "execution_count": 76,
   "metadata": {},
   "outputs": [],
   "source": [
    "test52['Airline_coeff']=(test52['arr_delay']-mean)/mean"
   ]
  },
  {
   "cell_type": "code",
   "execution_count": 77,
   "metadata": {},
   "outputs": [],
   "source": [
    "test52.to_csv('Ariline_coeff.csv')"
   ]
  },
  {
   "cell_type": "code",
   "execution_count": 78,
   "metadata": {},
   "outputs": [],
   "source": [
    "for a in test52.iterrows():\n",
    "    test3.loc[test3['mkt_unique_carrier']==a[1]['mkt_unique_carrier'],'Airline_coeff']=\\\n",
    "    a[1]['Airline_coeff']\n",
    "test3['Airline_coeff'].fillna(0,inplace=True)"
   ]
  },
  {
   "cell_type": "code",
   "execution_count": null,
   "metadata": {},
   "outputs": [],
   "source": [
    "#test3['Airline_coeff'].isnull().sum()"
   ]
  },
  {
   "cell_type": "markdown",
   "metadata": {},
   "source": [
    "##  6- Origin airport"
   ]
  },
  {
   "cell_type": "code",
   "execution_count": 79,
   "metadata": {},
   "outputs": [],
   "source": [
    "test3.dest.str.strip()\n",
    "test3.origin.str.strip()\n",
    "Dest=test3.dest.unique()\n",
    "Orig=test3.origin.unique()\n"
   ]
  },
  {
   "cell_type": "code",
   "execution_count": 80,
   "metadata": {},
   "outputs": [
    {
     "name": "stdout",
     "output_type": "stream",
     "text": [
      "ISN Airport\n"
     ]
    }
   ],
   "source": [
    "from geopy.geocoders import Nominatim\n",
    "origloc=[]\n",
    "for a in Orig:\n",
    "    address=a+' Airport'   \n",
    "    geolocator = Nominatim(user_agent=\"Your_Name\")\n",
    "    location = geolocator.geocode(address)\n",
    "\n",
    "    #print(location.address)\n",
    "    try:\n",
    "        origloc.append([a,location.latitude, location.longitude])\n",
    "    except:\n",
    "        print(address)\n",
    "        origloc.append([a,0, 0])"
   ]
  },
  {
   "cell_type": "code",
   "execution_count": null,
   "metadata": {},
   "outputs": [],
   "source": [
    "test8=test3[['origin','arr_delay']].groupby('origin').sum().reset_index()"
   ]
  },
  {
   "cell_type": "code",
   "execution_count": null,
   "metadata": {},
   "outputs": [
    {
     "data": {
      "text/html": [
       "<div>\n",
       "<style scoped>\n",
       "    .dataframe tbody tr th:only-of-type {\n",
       "        vertical-align: middle;\n",
       "    }\n",
       "\n",
       "    .dataframe tbody tr th {\n",
       "        vertical-align: top;\n",
       "    }\n",
       "\n",
       "    .dataframe thead th {\n",
       "        text-align: right;\n",
       "    }\n",
       "</style>\n",
       "<table border=\"1\" class=\"dataframe\">\n",
       "  <thead>\n",
       "    <tr style=\"text-align: right;\">\n",
       "      <th></th>\n",
       "      <th>origin</th>\n",
       "      <th>arr_delay</th>\n",
       "    </tr>\n",
       "  </thead>\n",
       "  <tbody>\n",
       "    <tr>\n",
       "      <th>0</th>\n",
       "      <td>ABE</td>\n",
       "      <td>-888.0</td>\n",
       "    </tr>\n",
       "    <tr>\n",
       "      <th>1</th>\n",
       "      <td>ABI</td>\n",
       "      <td>-707.0</td>\n",
       "    </tr>\n",
       "    <tr>\n",
       "      <th>2</th>\n",
       "      <td>ABQ</td>\n",
       "      <td>735.0</td>\n",
       "    </tr>\n",
       "    <tr>\n",
       "      <th>3</th>\n",
       "      <td>ABR</td>\n",
       "      <td>-1.0</td>\n",
       "    </tr>\n",
       "    <tr>\n",
       "      <th>4</th>\n",
       "      <td>ABY</td>\n",
       "      <td>-391.0</td>\n",
       "    </tr>\n",
       "    <tr>\n",
       "      <th>...</th>\n",
       "      <td>...</td>\n",
       "      <td>...</td>\n",
       "    </tr>\n",
       "    <tr>\n",
       "      <th>368</th>\n",
       "      <td>XNA</td>\n",
       "      <td>-459.0</td>\n",
       "    </tr>\n",
       "    <tr>\n",
       "      <th>369</th>\n",
       "      <td>XWA</td>\n",
       "      <td>-45.0</td>\n",
       "    </tr>\n",
       "    <tr>\n",
       "      <th>370</th>\n",
       "      <td>YAK</td>\n",
       "      <td>-140.0</td>\n",
       "    </tr>\n",
       "    <tr>\n",
       "      <th>371</th>\n",
       "      <td>YKM</td>\n",
       "      <td>72.0</td>\n",
       "    </tr>\n",
       "    <tr>\n",
       "      <th>372</th>\n",
       "      <td>YUM</td>\n",
       "      <td>-539.0</td>\n",
       "    </tr>\n",
       "  </tbody>\n",
       "</table>\n",
       "<p>373 rows × 2 columns</p>\n",
       "</div>"
      ],
      "text/plain": [
       "    origin  arr_delay\n",
       "0      ABE     -888.0\n",
       "1      ABI     -707.0\n",
       "2      ABQ      735.0\n",
       "3      ABR       -1.0\n",
       "4      ABY     -391.0\n",
       "..     ...        ...\n",
       "368    XNA     -459.0\n",
       "369    XWA      -45.0\n",
       "370    YAK     -140.0\n",
       "371    YKM       72.0\n",
       "372    YUM     -539.0\n",
       "\n",
       "[373 rows x 2 columns]"
      ]
     },
     "execution_count": 105,
     "metadata": {},
     "output_type": "execute_result"
    }
   ],
   "source": [
    "test8"
   ]
  },
  {
   "cell_type": "code",
   "execution_count": 82,
   "metadata": {},
   "outputs": [
    {
     "data": {
      "text/html": [
       "<div>\n",
       "<style scoped>\n",
       "    .dataframe tbody tr th:only-of-type {\n",
       "        vertical-align: middle;\n",
       "    }\n",
       "\n",
       "    .dataframe tbody tr th {\n",
       "        vertical-align: top;\n",
       "    }\n",
       "\n",
       "    .dataframe thead th {\n",
       "        text-align: right;\n",
       "    }\n",
       "</style>\n",
       "<table border=\"1\" class=\"dataframe\">\n",
       "  <thead>\n",
       "    <tr style=\"text-align: right;\">\n",
       "      <th></th>\n",
       "      <th>Origin_Arprt</th>\n",
       "      <th>Lat</th>\n",
       "      <th>Lon</th>\n",
       "    </tr>\n",
       "  </thead>\n",
       "  <tbody>\n",
       "    <tr>\n",
       "      <th>271</th>\n",
       "      <td>ISN</td>\n",
       "      <td>48.162246</td>\n",
       "      <td>-103.631308</td>\n",
       "    </tr>\n",
       "  </tbody>\n",
       "</table>\n",
       "</div>"
      ],
      "text/plain": [
       "    Origin_Arprt        Lat         Lon\n",
       "271          ISN  48.162246 -103.631308"
      ]
     },
     "execution_count": 82,
     "metadata": {},
     "output_type": "execute_result"
    }
   ],
   "source": [
    "orig_loc=pd.DataFrame(origloc,columns=['Origin_Arprt','Lat','Lon'])\n",
    "orig_loc['Lat'].replace({0:48.162246},inplace=True)\n",
    "orig_loc['Lon'].replace({0:-103.6313081 },inplace=True)\n",
    "orig_loc[orig_loc['Origin_Arprt']=='ISN']"
   ]
  },
  {
   "cell_type": "code",
   "execution_count": 83,
   "metadata": {},
   "outputs": [
    {
     "data": {
      "text/html": [
       "<div>\n",
       "<style scoped>\n",
       "    .dataframe tbody tr th:only-of-type {\n",
       "        vertical-align: middle;\n",
       "    }\n",
       "\n",
       "    .dataframe tbody tr th {\n",
       "        vertical-align: top;\n",
       "    }\n",
       "\n",
       "    .dataframe thead th {\n",
       "        text-align: right;\n",
       "    }\n",
       "</style>\n",
       "<table border=\"1\" class=\"dataframe\">\n",
       "  <thead>\n",
       "    <tr style=\"text-align: right;\">\n",
       "      <th></th>\n",
       "      <th>Origin_Arprt</th>\n",
       "      <th>Lat</th>\n",
       "      <th>Lon</th>\n",
       "    </tr>\n",
       "  </thead>\n",
       "  <tbody>\n",
       "    <tr>\n",
       "      <th>0</th>\n",
       "      <td>SFO</td>\n",
       "      <td>37.622452</td>\n",
       "      <td>-122.384072</td>\n",
       "    </tr>\n",
       "    <tr>\n",
       "      <th>1</th>\n",
       "      <td>AVL</td>\n",
       "      <td>35.436423</td>\n",
       "      <td>-82.540881</td>\n",
       "    </tr>\n",
       "    <tr>\n",
       "      <th>2</th>\n",
       "      <td>ATL</td>\n",
       "      <td>33.637799</td>\n",
       "      <td>-84.429271</td>\n",
       "    </tr>\n",
       "    <tr>\n",
       "      <th>3</th>\n",
       "      <td>DFW</td>\n",
       "      <td>32.896519</td>\n",
       "      <td>-97.046522</td>\n",
       "    </tr>\n",
       "    <tr>\n",
       "      <th>4</th>\n",
       "      <td>DCA</td>\n",
       "      <td>38.851289</td>\n",
       "      <td>-77.039689</td>\n",
       "    </tr>\n",
       "    <tr>\n",
       "      <th>...</th>\n",
       "      <td>...</td>\n",
       "      <td>...</td>\n",
       "      <td>...</td>\n",
       "    </tr>\n",
       "    <tr>\n",
       "      <th>368</th>\n",
       "      <td>HYA</td>\n",
       "      <td>41.670766</td>\n",
       "      <td>-70.284390</td>\n",
       "    </tr>\n",
       "    <tr>\n",
       "      <th>369</th>\n",
       "      <td>OGD</td>\n",
       "      <td>41.194563</td>\n",
       "      <td>-112.013520</td>\n",
       "    </tr>\n",
       "    <tr>\n",
       "      <th>370</th>\n",
       "      <td>GST</td>\n",
       "      <td>12.982778</td>\n",
       "      <td>80.169325</td>\n",
       "    </tr>\n",
       "    <tr>\n",
       "      <th>371</th>\n",
       "      <td>AKN</td>\n",
       "      <td>58.675317</td>\n",
       "      <td>-156.649387</td>\n",
       "    </tr>\n",
       "    <tr>\n",
       "      <th>372</th>\n",
       "      <td>DLG</td>\n",
       "      <td>59.043357</td>\n",
       "      <td>-158.511203</td>\n",
       "    </tr>\n",
       "  </tbody>\n",
       "</table>\n",
       "<p>373 rows × 3 columns</p>\n",
       "</div>"
      ],
      "text/plain": [
       "    Origin_Arprt        Lat         Lon\n",
       "0            SFO  37.622452 -122.384072\n",
       "1            AVL  35.436423  -82.540881\n",
       "2            ATL  33.637799  -84.429271\n",
       "3            DFW  32.896519  -97.046522\n",
       "4            DCA  38.851289  -77.039689\n",
       "..           ...        ...         ...\n",
       "368          HYA  41.670766  -70.284390\n",
       "369          OGD  41.194563 -112.013520\n",
       "370          GST  12.982778   80.169325\n",
       "371          AKN  58.675317 -156.649387\n",
       "372          DLG  59.043357 -158.511203\n",
       "\n",
       "[373 rows x 3 columns]"
      ]
     },
     "execution_count": 83,
     "metadata": {},
     "output_type": "execute_result"
    }
   ],
   "source": [
    "orig_loc"
   ]
  },
  {
   "cell_type": "code",
   "execution_count": 84,
   "metadata": {},
   "outputs": [],
   "source": [
    "for a in orig_loc.iterrows():\n",
    "    \n",
    "    test3.loc[test3['origin']==a[1]['Origin_Arprt'],\"Lat\"]=a[1][\"Lat\"]\n",
    "    test3.loc[test3['origin']==a[1]['Origin_Arprt'],\"Lon\"]=a[1][\"Lon\"]\n"
   ]
  },
  {
   "cell_type": "code",
   "execution_count": null,
   "metadata": {},
   "outputs": [
    {
     "data": {
      "text/html": [
       "<div>\n",
       "<style scoped>\n",
       "    .dataframe tbody tr th:only-of-type {\n",
       "        vertical-align: middle;\n",
       "    }\n",
       "\n",
       "    .dataframe tbody tr th {\n",
       "        vertical-align: top;\n",
       "    }\n",
       "\n",
       "    .dataframe thead th {\n",
       "        text-align: right;\n",
       "    }\n",
       "</style>\n",
       "<table border=\"1\" class=\"dataframe\">\n",
       "  <thead>\n",
       "    <tr style=\"text-align: right;\">\n",
       "      <th></th>\n",
       "      <th>Unnamed: 0</th>\n",
       "      <th>fl_date</th>\n",
       "      <th>mkt_unique_carrier</th>\n",
       "      <th>mkt_carrier_fl_num</th>\n",
       "      <th>op_unique_carrier</th>\n",
       "      <th>tail_num</th>\n",
       "      <th>op_carrier_fl_num</th>\n",
       "      <th>origin_airport_id</th>\n",
       "      <th>origin</th>\n",
       "      <th>origin_city_name</th>\n",
       "      <th>dest_airport_id</th>\n",
       "      <th>dest</th>\n",
       "      <th>dest_city_name</th>\n",
       "      <th>crs_dep_time</th>\n",
       "      <th>crs_arr_time</th>\n",
       "      <th>dup</th>\n",
       "      <th>crs_elapsed_time</th>\n",
       "      <th>flights</th>\n",
       "      <th>distance</th>\n",
       "      <th>arr_delay</th>\n",
       "      <th>carrier_delay</th>\n",
       "      <th>weather_delay</th>\n",
       "      <th>dep_delay</th>\n",
       "      <th>taxi_out</th>\n",
       "      <th>taxi_in</th>\n",
       "      <th>is_delayed</th>\n",
       "      <th>year</th>\n",
       "      <th>month</th>\n",
       "      <th>day</th>\n",
       "      <th>dayOfWeek</th>\n",
       "      <th>crs_Speed Mile/Min</th>\n",
       "      <th>Airline_coeff</th>\n",
       "      <th>Lat</th>\n",
       "      <th>Lon</th>\n",
       "    </tr>\n",
       "  </thead>\n",
       "  <tbody>\n",
       "    <tr>\n",
       "      <th>0</th>\n",
       "      <td>0</td>\n",
       "      <td>2019-09-14</td>\n",
       "      <td>AA</td>\n",
       "      <td>1059</td>\n",
       "      <td>AA</td>\n",
       "      <td>N552UW</td>\n",
       "      <td>1059</td>\n",
       "      <td>14771</td>\n",
       "      <td>SFO</td>\n",
       "      <td>San Francisco, CA</td>\n",
       "      <td>12892</td>\n",
       "      <td>LAX</td>\n",
       "      <td>Los Angeles, CA</td>\n",
       "      <td>1026</td>\n",
       "      <td>1205</td>\n",
       "      <td>N</td>\n",
       "      <td>99</td>\n",
       "      <td>1</td>\n",
       "      <td>337</td>\n",
       "      <td>-22.0</td>\n",
       "      <td>0.0</td>\n",
       "      <td>0.0</td>\n",
       "      <td>-4.0</td>\n",
       "      <td>13.0</td>\n",
       "      <td>10.0</td>\n",
       "      <td>0.0</td>\n",
       "      <td>2019</td>\n",
       "      <td>9</td>\n",
       "      <td>14</td>\n",
       "      <td>5</td>\n",
       "      <td>204.242424</td>\n",
       "      <td>1.759147</td>\n",
       "      <td>37.622452</td>\n",
       "      <td>-122.384072</td>\n",
       "    </tr>\n",
       "    <tr>\n",
       "      <th>1</th>\n",
       "      <td>1</td>\n",
       "      <td>2019-06-04</td>\n",
       "      <td>DL</td>\n",
       "      <td>1216</td>\n",
       "      <td>DL</td>\n",
       "      <td>N961AT</td>\n",
       "      <td>1216</td>\n",
       "      <td>10431</td>\n",
       "      <td>AVL</td>\n",
       "      <td>Asheville, NC</td>\n",
       "      <td>10397</td>\n",
       "      <td>ATL</td>\n",
       "      <td>Atlanta, GA</td>\n",
       "      <td>600</td>\n",
       "      <td>701</td>\n",
       "      <td>N</td>\n",
       "      <td>61</td>\n",
       "      <td>1</td>\n",
       "      <td>164</td>\n",
       "      <td>-13.0</td>\n",
       "      <td>0.0</td>\n",
       "      <td>0.0</td>\n",
       "      <td>-7.0</td>\n",
       "      <td>15.0</td>\n",
       "      <td>7.0</td>\n",
       "      <td>0.0</td>\n",
       "      <td>2019</td>\n",
       "      <td>6</td>\n",
       "      <td>4</td>\n",
       "      <td>1</td>\n",
       "      <td>161.311475</td>\n",
       "      <td>0.850111</td>\n",
       "      <td>35.436423</td>\n",
       "      <td>-82.540881</td>\n",
       "    </tr>\n",
       "    <tr>\n",
       "      <th>2</th>\n",
       "      <td>2</td>\n",
       "      <td>2019-06-05</td>\n",
       "      <td>UA</td>\n",
       "      <td>236</td>\n",
       "      <td>UA</td>\n",
       "      <td>N24706</td>\n",
       "      <td>236</td>\n",
       "      <td>10397</td>\n",
       "      <td>ATL</td>\n",
       "      <td>Atlanta, GA</td>\n",
       "      <td>12264</td>\n",
       "      <td>IAD</td>\n",
       "      <td>Washington, DC</td>\n",
       "      <td>1430</td>\n",
       "      <td>1617</td>\n",
       "      <td>N</td>\n",
       "      <td>107</td>\n",
       "      <td>1</td>\n",
       "      <td>534</td>\n",
       "      <td>13.0</td>\n",
       "      <td>0.0</td>\n",
       "      <td>0.0</td>\n",
       "      <td>-3.0</td>\n",
       "      <td>30.0</td>\n",
       "      <td>4.0</td>\n",
       "      <td>1.0</td>\n",
       "      <td>2019</td>\n",
       "      <td>6</td>\n",
       "      <td>5</td>\n",
       "      <td>2</td>\n",
       "      <td>299.439252</td>\n",
       "      <td>0.988603</td>\n",
       "      <td>33.637799</td>\n",
       "      <td>-84.429271</td>\n",
       "    </tr>\n",
       "    <tr>\n",
       "      <th>3</th>\n",
       "      <td>3</td>\n",
       "      <td>2019-09-11</td>\n",
       "      <td>AS</td>\n",
       "      <td>1936</td>\n",
       "      <td>AS</td>\n",
       "      <td>N624VA</td>\n",
       "      <td>1936</td>\n",
       "      <td>14771</td>\n",
       "      <td>SFO</td>\n",
       "      <td>San Francisco, CA</td>\n",
       "      <td>12892</td>\n",
       "      <td>LAX</td>\n",
       "      <td>Los Angeles, CA</td>\n",
       "      <td>1800</td>\n",
       "      <td>1935</td>\n",
       "      <td>N</td>\n",
       "      <td>95</td>\n",
       "      <td>1</td>\n",
       "      <td>337</td>\n",
       "      <td>34.0</td>\n",
       "      <td>2.0</td>\n",
       "      <td>0.0</td>\n",
       "      <td>41.0</td>\n",
       "      <td>23.0</td>\n",
       "      <td>11.0</td>\n",
       "      <td>1.0</td>\n",
       "      <td>2019</td>\n",
       "      <td>9</td>\n",
       "      <td>11</td>\n",
       "      <td>2</td>\n",
       "      <td>212.842105</td>\n",
       "      <td>0.000000</td>\n",
       "      <td>37.622452</td>\n",
       "      <td>-122.384072</td>\n",
       "    </tr>\n",
       "    <tr>\n",
       "      <th>4</th>\n",
       "      <td>4</td>\n",
       "      <td>2019-05-19</td>\n",
       "      <td>AA</td>\n",
       "      <td>5714</td>\n",
       "      <td>YV</td>\n",
       "      <td>N919FJ</td>\n",
       "      <td>5714</td>\n",
       "      <td>11298</td>\n",
       "      <td>DFW</td>\n",
       "      <td>Dallas/Fort Worth, TX</td>\n",
       "      <td>11973</td>\n",
       "      <td>GPT</td>\n",
       "      <td>Gulfport/Biloxi, MS</td>\n",
       "      <td>1025</td>\n",
       "      <td>1203</td>\n",
       "      <td>N</td>\n",
       "      <td>98</td>\n",
       "      <td>1</td>\n",
       "      <td>500</td>\n",
       "      <td>104.0</td>\n",
       "      <td>22.0</td>\n",
       "      <td>0.0</td>\n",
       "      <td>106.0</td>\n",
       "      <td>20.0</td>\n",
       "      <td>4.0</td>\n",
       "      <td>1.0</td>\n",
       "      <td>2019</td>\n",
       "      <td>5</td>\n",
       "      <td>19</td>\n",
       "      <td>6</td>\n",
       "      <td>306.122449</td>\n",
       "      <td>1.759147</td>\n",
       "      <td>32.896519</td>\n",
       "      <td>-97.046522</td>\n",
       "    </tr>\n",
       "    <tr>\n",
       "      <th>...</th>\n",
       "      <td>...</td>\n",
       "      <td>...</td>\n",
       "      <td>...</td>\n",
       "      <td>...</td>\n",
       "      <td>...</td>\n",
       "      <td>...</td>\n",
       "      <td>...</td>\n",
       "      <td>...</td>\n",
       "      <td>...</td>\n",
       "      <td>...</td>\n",
       "      <td>...</td>\n",
       "      <td>...</td>\n",
       "      <td>...</td>\n",
       "      <td>...</td>\n",
       "      <td>...</td>\n",
       "      <td>...</td>\n",
       "      <td>...</td>\n",
       "      <td>...</td>\n",
       "      <td>...</td>\n",
       "      <td>...</td>\n",
       "      <td>...</td>\n",
       "      <td>...</td>\n",
       "      <td>...</td>\n",
       "      <td>...</td>\n",
       "      <td>...</td>\n",
       "      <td>...</td>\n",
       "      <td>...</td>\n",
       "      <td>...</td>\n",
       "      <td>...</td>\n",
       "      <td>...</td>\n",
       "      <td>...</td>\n",
       "      <td>...</td>\n",
       "      <td>...</td>\n",
       "      <td>...</td>\n",
       "    </tr>\n",
       "    <tr>\n",
       "      <th>477394</th>\n",
       "      <td>499995</td>\n",
       "      <td>2019-03-03</td>\n",
       "      <td>UA</td>\n",
       "      <td>2275</td>\n",
       "      <td>UA</td>\n",
       "      <td>N78506</td>\n",
       "      <td>2275</td>\n",
       "      <td>11618</td>\n",
       "      <td>EWR</td>\n",
       "      <td>Newark, NJ</td>\n",
       "      <td>14635</td>\n",
       "      <td>RSW</td>\n",
       "      <td>Fort Myers, FL</td>\n",
       "      <td>1600</td>\n",
       "      <td>1906</td>\n",
       "      <td>N</td>\n",
       "      <td>186</td>\n",
       "      <td>1</td>\n",
       "      <td>1068</td>\n",
       "      <td>-13.0</td>\n",
       "      <td>0.0</td>\n",
       "      <td>0.0</td>\n",
       "      <td>-3.0</td>\n",
       "      <td>15.0</td>\n",
       "      <td>4.0</td>\n",
       "      <td>0.0</td>\n",
       "      <td>2019</td>\n",
       "      <td>3</td>\n",
       "      <td>3</td>\n",
       "      <td>6</td>\n",
       "      <td>344.516129</td>\n",
       "      <td>0.988603</td>\n",
       "      <td>40.689064</td>\n",
       "      <td>-74.177255</td>\n",
       "    </tr>\n",
       "    <tr>\n",
       "      <th>477395</th>\n",
       "      <td>499996</td>\n",
       "      <td>2019-11-10</td>\n",
       "      <td>UA</td>\n",
       "      <td>6061</td>\n",
       "      <td>YV</td>\n",
       "      <td>N88301</td>\n",
       "      <td>6061</td>\n",
       "      <td>12266</td>\n",
       "      <td>IAH</td>\n",
       "      <td>Houston, TX</td>\n",
       "      <td>14492</td>\n",
       "      <td>RDU</td>\n",
       "      <td>Raleigh/Durham, NC</td>\n",
       "      <td>1420</td>\n",
       "      <td>1759</td>\n",
       "      <td>N</td>\n",
       "      <td>159</td>\n",
       "      <td>1</td>\n",
       "      <td>1042</td>\n",
       "      <td>2.0</td>\n",
       "      <td>0.0</td>\n",
       "      <td>0.0</td>\n",
       "      <td>0.0</td>\n",
       "      <td>15.0</td>\n",
       "      <td>6.0</td>\n",
       "      <td>1.0</td>\n",
       "      <td>2019</td>\n",
       "      <td>11</td>\n",
       "      <td>10</td>\n",
       "      <td>6</td>\n",
       "      <td>393.207547</td>\n",
       "      <td>0.988603</td>\n",
       "      <td>29.984142</td>\n",
       "      <td>-95.332986</td>\n",
       "    </tr>\n",
       "    <tr>\n",
       "      <th>477396</th>\n",
       "      <td>499997</td>\n",
       "      <td>2019-03-11</td>\n",
       "      <td>AS</td>\n",
       "      <td>3303</td>\n",
       "      <td>OO</td>\n",
       "      <td>N181SY</td>\n",
       "      <td>3303</td>\n",
       "      <td>15376</td>\n",
       "      <td>TUS</td>\n",
       "      <td>Tucson, AZ</td>\n",
       "      <td>14831</td>\n",
       "      <td>SJC</td>\n",
       "      <td>San Jose, CA</td>\n",
       "      <td>815</td>\n",
       "      <td>1030</td>\n",
       "      <td>N</td>\n",
       "      <td>135</td>\n",
       "      <td>1</td>\n",
       "      <td>722</td>\n",
       "      <td>-16.0</td>\n",
       "      <td>0.0</td>\n",
       "      <td>0.0</td>\n",
       "      <td>-9.0</td>\n",
       "      <td>15.0</td>\n",
       "      <td>7.0</td>\n",
       "      <td>0.0</td>\n",
       "      <td>2019</td>\n",
       "      <td>3</td>\n",
       "      <td>11</td>\n",
       "      <td>0</td>\n",
       "      <td>320.888889</td>\n",
       "      <td>0.000000</td>\n",
       "      <td>32.112379</td>\n",
       "      <td>-110.939388</td>\n",
       "    </tr>\n",
       "    <tr>\n",
       "      <th>477397</th>\n",
       "      <td>499998</td>\n",
       "      <td>2019-01-03</td>\n",
       "      <td>DL</td>\n",
       "      <td>5738</td>\n",
       "      <td>CP</td>\n",
       "      <td>N603CZ</td>\n",
       "      <td>5738</td>\n",
       "      <td>14869</td>\n",
       "      <td>SLC</td>\n",
       "      <td>Salt Lake City, UT</td>\n",
       "      <td>10140</td>\n",
       "      <td>ABQ</td>\n",
       "      <td>Albuquerque, NM</td>\n",
       "      <td>940</td>\n",
       "      <td>1130</td>\n",
       "      <td>N</td>\n",
       "      <td>110</td>\n",
       "      <td>1</td>\n",
       "      <td>493</td>\n",
       "      <td>-10.0</td>\n",
       "      <td>0.0</td>\n",
       "      <td>0.0</td>\n",
       "      <td>0.0</td>\n",
       "      <td>28.0</td>\n",
       "      <td>6.0</td>\n",
       "      <td>0.0</td>\n",
       "      <td>2019</td>\n",
       "      <td>1</td>\n",
       "      <td>3</td>\n",
       "      <td>3</td>\n",
       "      <td>268.909091</td>\n",
       "      <td>0.850111</td>\n",
       "      <td>40.790066</td>\n",
       "      <td>-111.979898</td>\n",
       "    </tr>\n",
       "    <tr>\n",
       "      <th>477398</th>\n",
       "      <td>499999</td>\n",
       "      <td>2019-10-03</td>\n",
       "      <td>UA</td>\n",
       "      <td>1519</td>\n",
       "      <td>UA</td>\n",
       "      <td>N471UA</td>\n",
       "      <td>1519</td>\n",
       "      <td>11618</td>\n",
       "      <td>EWR</td>\n",
       "      <td>Newark, NJ</td>\n",
       "      <td>14027</td>\n",
       "      <td>PBI</td>\n",
       "      <td>West Palm Beach/Palm Beach, FL</td>\n",
       "      <td>830</td>\n",
       "      <td>1135</td>\n",
       "      <td>N</td>\n",
       "      <td>185</td>\n",
       "      <td>1</td>\n",
       "      <td>1023</td>\n",
       "      <td>-23.0</td>\n",
       "      <td>0.0</td>\n",
       "      <td>0.0</td>\n",
       "      <td>-4.0</td>\n",
       "      <td>22.0</td>\n",
       "      <td>5.0</td>\n",
       "      <td>0.0</td>\n",
       "      <td>2019</td>\n",
       "      <td>10</td>\n",
       "      <td>3</td>\n",
       "      <td>3</td>\n",
       "      <td>331.783784</td>\n",
       "      <td>0.988603</td>\n",
       "      <td>40.689064</td>\n",
       "      <td>-74.177255</td>\n",
       "    </tr>\n",
       "  </tbody>\n",
       "</table>\n",
       "<p>477399 rows × 34 columns</p>\n",
       "</div>"
      ],
      "text/plain": [
       "        Unnamed: 0    fl_date mkt_unique_carrier  mkt_carrier_fl_num  \\\n",
       "0                0 2019-09-14                 AA                1059   \n",
       "1                1 2019-06-04                 DL                1216   \n",
       "2                2 2019-06-05                 UA                 236   \n",
       "3                3 2019-09-11                 AS                1936   \n",
       "4                4 2019-05-19                 AA                5714   \n",
       "...            ...        ...                ...                 ...   \n",
       "477394      499995 2019-03-03                 UA                2275   \n",
       "477395      499996 2019-11-10                 UA                6061   \n",
       "477396      499997 2019-03-11                 AS                3303   \n",
       "477397      499998 2019-01-03                 DL                5738   \n",
       "477398      499999 2019-10-03                 UA                1519   \n",
       "\n",
       "       op_unique_carrier tail_num  op_carrier_fl_num  origin_airport_id  \\\n",
       "0                     AA   N552UW               1059              14771   \n",
       "1                     DL   N961AT               1216              10431   \n",
       "2                     UA   N24706                236              10397   \n",
       "3                     AS   N624VA               1936              14771   \n",
       "4                     YV   N919FJ               5714              11298   \n",
       "...                  ...      ...                ...                ...   \n",
       "477394                UA   N78506               2275              11618   \n",
       "477395                YV   N88301               6061              12266   \n",
       "477396                OO   N181SY               3303              15376   \n",
       "477397                CP   N603CZ               5738              14869   \n",
       "477398                UA   N471UA               1519              11618   \n",
       "\n",
       "       origin       origin_city_name  dest_airport_id dest  \\\n",
       "0         SFO      San Francisco, CA            12892  LAX   \n",
       "1         AVL          Asheville, NC            10397  ATL   \n",
       "2         ATL            Atlanta, GA            12264  IAD   \n",
       "3         SFO      San Francisco, CA            12892  LAX   \n",
       "4         DFW  Dallas/Fort Worth, TX            11973  GPT   \n",
       "...       ...                    ...              ...  ...   \n",
       "477394    EWR             Newark, NJ            14635  RSW   \n",
       "477395    IAH            Houston, TX            14492  RDU   \n",
       "477396    TUS             Tucson, AZ            14831  SJC   \n",
       "477397    SLC     Salt Lake City, UT            10140  ABQ   \n",
       "477398    EWR             Newark, NJ            14027  PBI   \n",
       "\n",
       "                        dest_city_name  crs_dep_time  crs_arr_time dup  \\\n",
       "0                      Los Angeles, CA          1026          1205   N   \n",
       "1                          Atlanta, GA           600           701   N   \n",
       "2                       Washington, DC          1430          1617   N   \n",
       "3                      Los Angeles, CA          1800          1935   N   \n",
       "4                  Gulfport/Biloxi, MS          1025          1203   N   \n",
       "...                                ...           ...           ...  ..   \n",
       "477394                  Fort Myers, FL          1600          1906   N   \n",
       "477395              Raleigh/Durham, NC          1420          1759   N   \n",
       "477396                    San Jose, CA           815          1030   N   \n",
       "477397                 Albuquerque, NM           940          1130   N   \n",
       "477398  West Palm Beach/Palm Beach, FL           830          1135   N   \n",
       "\n",
       "        crs_elapsed_time  flights  distance  arr_delay  carrier_delay  \\\n",
       "0                     99        1       337      -22.0            0.0   \n",
       "1                     61        1       164      -13.0            0.0   \n",
       "2                    107        1       534       13.0            0.0   \n",
       "3                     95        1       337       34.0            2.0   \n",
       "4                     98        1       500      104.0           22.0   \n",
       "...                  ...      ...       ...        ...            ...   \n",
       "477394               186        1      1068      -13.0            0.0   \n",
       "477395               159        1      1042        2.0            0.0   \n",
       "477396               135        1       722      -16.0            0.0   \n",
       "477397               110        1       493      -10.0            0.0   \n",
       "477398               185        1      1023      -23.0            0.0   \n",
       "\n",
       "        weather_delay  dep_delay  taxi_out  taxi_in  is_delayed  year  month  \\\n",
       "0                 0.0       -4.0      13.0     10.0         0.0  2019      9   \n",
       "1                 0.0       -7.0      15.0      7.0         0.0  2019      6   \n",
       "2                 0.0       -3.0      30.0      4.0         1.0  2019      6   \n",
       "3                 0.0       41.0      23.0     11.0         1.0  2019      9   \n",
       "4                 0.0      106.0      20.0      4.0         1.0  2019      5   \n",
       "...               ...        ...       ...      ...         ...   ...    ...   \n",
       "477394            0.0       -3.0      15.0      4.0         0.0  2019      3   \n",
       "477395            0.0        0.0      15.0      6.0         1.0  2019     11   \n",
       "477396            0.0       -9.0      15.0      7.0         0.0  2019      3   \n",
       "477397            0.0        0.0      28.0      6.0         0.0  2019      1   \n",
       "477398            0.0       -4.0      22.0      5.0         0.0  2019     10   \n",
       "\n",
       "        day  dayOfWeek  crs_Speed Mile/Min  Airline_coeff        Lat  \\\n",
       "0        14          5          204.242424       1.759147  37.622452   \n",
       "1         4          1          161.311475       0.850111  35.436423   \n",
       "2         5          2          299.439252       0.988603  33.637799   \n",
       "3        11          2          212.842105       0.000000  37.622452   \n",
       "4        19          6          306.122449       1.759147  32.896519   \n",
       "...     ...        ...                 ...            ...        ...   \n",
       "477394    3          6          344.516129       0.988603  40.689064   \n",
       "477395   10          6          393.207547       0.988603  29.984142   \n",
       "477396   11          0          320.888889       0.000000  32.112379   \n",
       "477397    3          3          268.909091       0.850111  40.790066   \n",
       "477398    3          3          331.783784       0.988603  40.689064   \n",
       "\n",
       "               Lon  \n",
       "0      -122.384072  \n",
       "1       -82.540881  \n",
       "2       -84.429271  \n",
       "3      -122.384072  \n",
       "4       -97.046522  \n",
       "...            ...  \n",
       "477394  -74.177255  \n",
       "477395  -95.332986  \n",
       "477396 -110.939388  \n",
       "477397 -111.979898  \n",
       "477398  -74.177255  \n",
       "\n",
       "[477399 rows x 34 columns]"
      ]
     },
     "execution_count": 109,
     "metadata": {},
     "output_type": "execute_result"
    }
   ],
   "source": [
    "test3"
   ]
  },
  {
   "cell_type": "code",
   "execution_count": null,
   "metadata": {},
   "outputs": [],
   "source": [
    "test4=test3[(test3['is_delayed']==1)]"
   ]
  },
  {
   "cell_type": "code",
   "execution_count": 96,
   "metadata": {},
   "outputs": [
    {
     "name": "stdout",
     "output_type": "stream",
     "text": [
      "           Lat  arr_delay  flights\n",
      "0   -27.785336 -10.297297       37\n",
      "1   -27.189103  -1.203343      359\n",
      "2   -27.164672  -1.722488      418\n",
      "3   -20.433889  -9.846154       52\n",
      "4   -18.181825  -7.943396       53\n",
      "..         ...        ...      ...\n",
      "358  64.512464  -4.250000       40\n",
      "359  64.817610  -8.545455      308\n",
      "360  65.331951  -7.475000       40\n",
      "361  66.883684  -4.619048       42\n",
      "362  70.195160  -6.553571       56\n",
      "\n",
      "[363 rows x 3 columns]\n"
     ]
    },
    {
     "data": {
      "text/plain": [
       "Text(0.5, 1.0, 'Mean of Delays by each Lattitude')"
      ]
     },
     "execution_count": 96,
     "metadata": {},
     "output_type": "execute_result"
    },
    {
     "data": {
      "image/png": "[encoded data removed]",
      "text/plain": [
       "<Figure size 432x288 with 1 Axes>"
      ]
     },
     "metadata": {
      "needs_background": "light"
     },
     "output_type": "display_data"
    }
   ],
   "source": [
    "te5=test3.groupby(\"Lat\").agg({'arr_delay':'mean','flights':'count'}).reset_index()\n",
    "print(te5)\n",
    "plt.scatter(te5[\"Lat\"],te5[\"arr_delay\"])\n",
    "#plt.scatter(te5[\"Lat\"],te5[\"flights\"])\n",
    "plt.xlabel('Origine Lattitude')\n",
    "plt.ylabel('Mean of Delays')\n",
    "plt.title('Mean of Delays by each Lattitude')\n"
   ]
  },
  {
   "cell_type": "code",
   "execution_count": 98,
   "metadata": {},
   "outputs": [
    {
     "data": {
      "text/plain": [
       "Text(0.5, 1.0, 'Number of flights by each Lattitude')"
      ]
     },
     "execution_count": 98,
     "metadata": {},
     "output_type": "execute_result"
    },
    {
     "data": {
      "image/png": "[encoded data removed]",
      "text/plain": [
       "<Figure size 432x288 with 1 Axes>"
      ]
     },
     "metadata": {
      "needs_background": "light"
     },
     "output_type": "display_data"
    }
   ],
   "source": [
    "plt.scatter(te5[\"Lat\"],te5[\"flights\"])\n",
    "plt.xlabel('Origine Lattitude')\n",
    "plt.ylabel('Number of flights')\n",
    "plt.title('Number of flights by each Lattitude',fontsize=12)"
   ]
  },
  {
   "cell_type": "code",
   "execution_count": 101,
   "metadata": {},
   "outputs": [
    {
     "name": "stdout",
     "output_type": "stream",
     "text": [
      "            Lon  arr_delay  flights\n",
      "0   -176.644353   8.000000        7\n",
      "1   -170.715969   5.250000        4\n",
      "2   -166.541541  18.400000       35\n",
      "3   -166.470379  -7.475000       40\n",
      "4   -165.456037  -4.250000       40\n",
      "..          ...        ...      ...\n",
      "358  126.510681  -0.476496      468\n",
      "359  141.670326  -0.938547      358\n",
      "360  144.802060  -5.456140       57\n",
      "361  145.729625  -7.550000       20\n",
      "362  152.010155  -0.457364      129\n",
      "\n",
      "[363 rows x 3 columns]\n"
     ]
    },
    {
     "data": {
      "text/plain": [
       "Text(0.5, 1.0, 'Mean of Delays by each Longtitude')"
      ]
     },
     "execution_count": 101,
     "metadata": {},
     "output_type": "execute_result"
    },
    {
     "data": {
      "image/png": "[encoded data removed]",
      "text/plain": [
       "<Figure size 432x288 with 1 Axes>"
      ]
     },
     "metadata": {
      "needs_background": "light"
     },
     "output_type": "display_data"
    }
   ],
   "source": [
    "te5=test3.groupby(\"Lon\").agg({'arr_delay':'mean','flights':'count'}).reset_index()\n",
    "print(te5)\n",
    "plt.scatter(te5[\"Lon\"],te5[\"arr_delay\"])\n",
    "#plt.scatter(te5[\"Lat\"],te5[\"flights\"])\n",
    "plt.xlabel('Origine Longtitude')\n",
    "plt.ylabel('Mean of Delays')\n",
    "plt.title('Mean of Delays by each Longtitude')\n",
    "#plt.scatter(test4[\"Lat\"],test4[\"arr_delay\"])"
   ]
  },
  {
   "cell_type": "code",
   "execution_count": 103,
   "metadata": {},
   "outputs": [
    {
     "data": {
      "text/plain": [
       "Text(0.5, 1.0, 'Number of flights by each Longtitude')"
      ]
     },
     "execution_count": 103,
     "metadata": {},
     "output_type": "execute_result"
    },
    {
     "data": {
      "image/png": "[encoded data removed]",
      "text/plain": [
       "<Figure size 432x288 with 1 Axes>"
      ]
     },
     "metadata": {
      "needs_background": "light"
     },
     "output_type": "display_data"
    }
   ],
   "source": [
    "plt.scatter(te5[\"Lon\"],te5[\"flights\"])\n",
    "#plt.scatter(te5[\"Lat\"],te5[\"flights\"])\n",
    "plt.xlabel('Origine Longtitude')\n",
    "plt.ylabel('Number of flights')\n",
    "plt.title('Number of flights by each Longtitude')\n"
   ]
  },
  {
   "cell_type": "code",
   "execution_count": null,
   "metadata": {},
   "outputs": [],
   "source": []
  },
  {
   "cell_type": "markdown",
   "metadata": {},
   "source": [
    "it shows that the origin airport has influence on arr_delay\n",
    "also delays related to the number of flights."
   ]
  },
  {
   "cell_type": "markdown",
   "metadata": {},
   "source": [
    "## 7- Estimated Departure Hour"
   ]
  },
  {
   "cell_type": "code",
   "execution_count": 104,
   "metadata": {},
   "outputs": [],
   "source": [
    "test3['crs_dep_hour']=test3['crs_dep_time'].apply(lambda x: (x//100))"
   ]
  },
  {
   "cell_type": "code",
   "execution_count": 105,
   "metadata": {},
   "outputs": [
    {
     "data": {
      "text/html": [
       "<div>\n",
       "<style scoped>\n",
       "    .dataframe tbody tr th:only-of-type {\n",
       "        vertical-align: middle;\n",
       "    }\n",
       "\n",
       "    .dataframe tbody tr th {\n",
       "        vertical-align: top;\n",
       "    }\n",
       "\n",
       "    .dataframe thead th {\n",
       "        text-align: right;\n",
       "    }\n",
       "</style>\n",
       "<table border=\"1\" class=\"dataframe\">\n",
       "  <thead>\n",
       "    <tr style=\"text-align: right;\">\n",
       "      <th></th>\n",
       "      <th>crs_dep_hour</th>\n",
       "      <th>crs_dep_time</th>\n",
       "    </tr>\n",
       "  </thead>\n",
       "  <tbody>\n",
       "    <tr>\n",
       "      <th>0</th>\n",
       "      <td>10</td>\n",
       "      <td>1026</td>\n",
       "    </tr>\n",
       "    <tr>\n",
       "      <th>1</th>\n",
       "      <td>6</td>\n",
       "      <td>600</td>\n",
       "    </tr>\n",
       "    <tr>\n",
       "      <th>2</th>\n",
       "      <td>14</td>\n",
       "      <td>1430</td>\n",
       "    </tr>\n",
       "    <tr>\n",
       "      <th>3</th>\n",
       "      <td>18</td>\n",
       "      <td>1800</td>\n",
       "    </tr>\n",
       "    <tr>\n",
       "      <th>4</th>\n",
       "      <td>10</td>\n",
       "      <td>1025</td>\n",
       "    </tr>\n",
       "    <tr>\n",
       "      <th>...</th>\n",
       "      <td>...</td>\n",
       "      <td>...</td>\n",
       "    </tr>\n",
       "    <tr>\n",
       "      <th>477394</th>\n",
       "      <td>16</td>\n",
       "      <td>1600</td>\n",
       "    </tr>\n",
       "    <tr>\n",
       "      <th>477395</th>\n",
       "      <td>14</td>\n",
       "      <td>1420</td>\n",
       "    </tr>\n",
       "    <tr>\n",
       "      <th>477396</th>\n",
       "      <td>8</td>\n",
       "      <td>815</td>\n",
       "    </tr>\n",
       "    <tr>\n",
       "      <th>477397</th>\n",
       "      <td>9</td>\n",
       "      <td>940</td>\n",
       "    </tr>\n",
       "    <tr>\n",
       "      <th>477398</th>\n",
       "      <td>8</td>\n",
       "      <td>830</td>\n",
       "    </tr>\n",
       "  </tbody>\n",
       "</table>\n",
       "<p>477399 rows × 2 columns</p>\n",
       "</div>"
      ],
      "text/plain": [
       "        crs_dep_hour  crs_dep_time\n",
       "0                 10          1026\n",
       "1                  6           600\n",
       "2                 14          1430\n",
       "3                 18          1800\n",
       "4                 10          1025\n",
       "...              ...           ...\n",
       "477394            16          1600\n",
       "477395            14          1420\n",
       "477396             8           815\n",
       "477397             9           940\n",
       "477398             8           830\n",
       "\n",
       "[477399 rows x 2 columns]"
      ]
     },
     "execution_count": 105,
     "metadata": {},
     "output_type": "execute_result"
    }
   ],
   "source": [
    "test3[['crs_dep_hour','crs_dep_time']]\n"
   ]
  },
  {
   "cell_type": "code",
   "execution_count": 106,
   "metadata": {},
   "outputs": [],
   "source": [
    "test4=test3[(test3['is_delayed']==1)]"
   ]
  },
  {
   "cell_type": "code",
   "execution_count": 112,
   "metadata": {},
   "outputs": [
    {
     "data": {
      "text/plain": [
       "Text(0.5, 1.0, 'Mean of Delays by Estimated departure time')"
      ]
     },
     "execution_count": 112,
     "metadata": {},
     "output_type": "execute_result"
    },
    {
     "data": {
      "image/png": "[encoded data removed]",
      "text/plain": [
       "<Figure size 432x288 with 1 Axes>"
      ]
     },
     "metadata": {
      "needs_background": "light"
     },
     "output_type": "display_data"
    }
   ],
   "source": [
    "te5=test3.groupby(\"crs_dep_hour\").agg({'arr_delay':'mean','flights':'count'}).reset_index()\n",
    "plt.scatter(te5[\"crs_dep_hour\"],te5[\"arr_delay\"])\n",
    "#plt.scatter(te5[\"Lat\"],te5[\"flights\"])\n",
    "plt.xlabel('Estimated departure time (hour)')\n",
    "plt.ylabel('Mean of Delays')\n",
    "plt.title('Mean of Delays by Estimated departure time')\n",
    "#plt.scatter(test3['crs_dep_hour'],test3['arr_delay'])"
   ]
  },
  {
   "cell_type": "code",
   "execution_count": 114,
   "metadata": {},
   "outputs": [
    {
     "data": {
      "text/plain": [
       "Text(0.5, 1.0, 'Number of flights by Estimated departure time')"
      ]
     },
     "execution_count": 114,
     "metadata": {},
     "output_type": "execute_result"
    },
    {
     "data": {
      "image/png": "[encoded data removed]",
      "text/plain": [
       "<Figure size 432x288 with 1 Axes>"
      ]
     },
     "metadata": {
      "needs_background": "light"
     },
     "output_type": "display_data"
    }
   ],
   "source": [
    "plt.scatter(te5[\"crs_dep_hour\"],te5[\"flights\"])\n",
    "#plt.scatter(te5[\"Lat\"],te5[\"flights\"])\n",
    "plt.xlabel('Estimated departure time (hour)')\n",
    "plt.ylabel('Number of flights')\n",
    "plt.title('Number of flights by Estimated departure time')"
   ]
  },
  {
   "cell_type": "code",
   "execution_count": null,
   "metadata": {},
   "outputs": [
    {
     "data": {
      "text/plain": [
       "<matplotlib.collections.PathCollection at 0x7fb35dd07130>"
      ]
     },
     "execution_count": 125,
     "metadata": {},
     "output_type": "execute_result"
    },
    {
     "data": {
      "image/png": "[encoded data removed]",
      "text/plain": [
       "<Figure size 432x288 with 1 Axes>"
      ]
     },
     "metadata": {
      "needs_background": "light"
     },
     "output_type": "display_data"
    }
   ],
   "source": [
    "plt.scatter(test4['crs_dep_hour'],test4['arr_delay'])"
   ]
  },
  {
   "cell_type": "code",
   "execution_count": null,
   "metadata": {},
   "outputs": [
    {
     "data": {
      "text/plain": [
       "Index(['fl_date', 'mkt_unique_carrier', 'branded_code_share', 'mkt_carrier',\n",
       "       'mkt_carrier_fl_num', 'op_unique_carrier', 'tail_num',\n",
       "       'op_carrier_fl_num', 'origin_airport_id', 'origin', 'origin_city_name',\n",
       "       'dest_airport_id', 'dest', 'dest_city_name', 'crs_dep_time', 'dep_time',\n",
       "       'dep_delay', 'taxi_out', 'wheels_off', 'wheels_on', 'taxi_in',\n",
       "       'crs_arr_time', 'arr_time', 'arr_delay', 'cancelled',\n",
       "       'cancellation_code', 'diverted', 'dup', 'crs_elapsed_time',\n",
       "       'actual_elapsed_time', 'air_time', 'flights', 'distance',\n",
       "       'carrier_delay', 'weather_delay', 'nas_delay', 'security_delay',\n",
       "       'late_aircraft_delay', 'first_dep_time', 'total_add_gtime',\n",
       "       'longest_add_gtime', 'no_name', 'TotalDelay', 'is_delayed', 'year',\n",
       "       'month', 'day', 'dayOfWeek', 'Speed Mile/Min', 'crs_Speed Mile/Min',\n",
       "       'Airline_coeff', 'Lat', 'Lon', 'dep_hour'],\n",
       "      dtype='object')"
      ]
     },
     "execution_count": 99,
     "metadata": {},
     "output_type": "execute_result"
    }
   ],
   "source": [
    "test3.columns"
   ]
  },
  {
   "cell_type": "markdown",
   "metadata": {},
   "source": [
    "## 8-Estimated Arrival Hour"
   ]
  },
  {
   "cell_type": "code",
   "execution_count": 123,
   "metadata": {},
   "outputs": [
    {
     "data": {
      "text/plain": [
       "Text(0.5, 1.0, 'Mean of Delays by Estimated arrival time')"
      ]
     },
     "execution_count": 123,
     "metadata": {},
     "output_type": "execute_result"
    },
    {
     "data": {
      "image/png": "[encoded data removed]",
      "text/plain": [
       "<Figure size 432x288 with 1 Axes>"
      ]
     },
     "metadata": {
      "needs_background": "light"
     },
     "output_type": "display_data"
    }
   ],
   "source": [
    "test3['crs_arr_hour']=test3['crs_arr_time']//100\n",
    "#plt.scatter(test3['crs_arr_hour'],test3['arr_delay'])\n",
    "te5=test3.groupby(\"crs_arr_hour\").agg({'arr_delay':'mean','flights':'count'}).reset_index()\n",
    "plt.scatter(te5[\"crs_arr_hour\"],te5[\"arr_delay\"])\n",
    "#plt.scatter(te5[\"Lat\"],te5[\"flights\"])\n",
    "plt.xlabel('Estimated arrival time (hour)')\n",
    "#plt.xlim([0,23])\n",
    "plt.ylim([-10,10])\n",
    "plt.ylabel('Mean of Delays')\n",
    "plt.title('Mean of Delays by Estimated arrival time')"
   ]
  },
  {
   "cell_type": "code",
   "execution_count": 125,
   "metadata": {},
   "outputs": [
    {
     "data": {
      "text/plain": [
       "Text(0.5, 1.0, 'Mean of Delays by Estimated arrival time')"
      ]
     },
     "execution_count": 125,
     "metadata": {},
     "output_type": "execute_result"
    },
    {
     "data": {
      "image/png": "[encoded data removed]",
      "text/plain": [
       "<Figure size 432x288 with 1 Axes>"
      ]
     },
     "metadata": {
      "needs_background": "light"
     },
     "output_type": "display_data"
    }
   ],
   "source": [
    "plt.scatter(te5[\"crs_arr_hour\"],te5[\"flights\"])\n",
    "#plt.scatter(te5[\"Lat\"],te5[\"flights\"])\n",
    "plt.xlabel('Estimated arrival time (hour)')\n",
    "#plt.xlim([0,23])\n",
    "#plt.ylim([-10,10])\n",
    "plt.ylabel('Mean of Delays')\n",
    "plt.title('Mean of Delays by Estimated arrival time')"
   ]
  },
  {
   "cell_type": "markdown",
   "metadata": {},
   "source": [
    "## 9-Estimated elapse time (min)"
   ]
  },
  {
   "cell_type": "code",
   "execution_count": 135,
   "metadata": {},
   "outputs": [
    {
     "data": {
      "text/plain": [
       "Text(0.5, 1.0, ' Arrival Delays by Estimated elapse time')"
      ]
     },
     "execution_count": 135,
     "metadata": {},
     "output_type": "execute_result"
    },
    {
     "data": {
      "image/png": "[encoded data removed]",
      "text/plain": [
       "<Figure size 432x288 with 1 Axes>"
      ]
     },
     "metadata": {
      "needs_background": "light"
     },
     "output_type": "display_data"
    }
   ],
   "source": [
    "plt.scatter(test3['crs_elapsed_time'],test3['arr_delay'])\n",
    "#te5=test3.groupby(\"crs_elapsed_time\").agg({'arr_delay':'sum','flights':'count'}).reset_index()\n",
    "#plt.scatter(te5[\"crs_elapsed_time\"],te5[\"arr_delay\"])\n",
    "#plt.scatter(te5[\"Lat\"],te5[\"flights\"])\n",
    "plt.xlabel('Estimated elapse time (miniute)')\n",
    "plt.ylabel('Arrival Delays (miniute)')\n",
    "plt.title(' Arrival Delays by Estimated elapse time')\n",
    "#plt.scatter(test3['crs_dep_hour'],test3['arr_delay'])"
   ]
  },
  {
   "cell_type": "markdown",
   "metadata": {},
   "source": [
    "## 10- Distance"
   ]
  },
  {
   "cell_type": "code",
   "execution_count": 146,
   "metadata": {},
   "outputs": [
    {
     "data": {
      "text/plain": [
       "Text(0.5, 1.0, 'Arrival Delays by Trip Distance (Mile)')"
      ]
     },
     "execution_count": 146,
     "metadata": {},
     "output_type": "execute_result"
    },
    {
     "data": {
      "image/png": "[encoded data removed]",
      "text/plain": [
       "<Figure size 432x288 with 1 Axes>"
      ]
     },
     "metadata": {
      "needs_background": "light"
     },
     "output_type": "display_data"
    }
   ],
   "source": [
    "plt.scatter(test3['distance'],test3['arr_delay'])\n",
    "#plt.scatter(test3['crs_elapsed_time'],test3['arr_delay'])\n",
    "#te5=test3.groupby(\"distance\").agg({'arr_delay':'mean','flights':'count'}).reset_index()\n",
    "#plt.scatter(te5[\"distance\"],te5[\"arr_delay\"])\n",
    "#plt.legend(['arr_delay','sum arr_delay'])\n",
    "#plt.scatter(te5[\"Lat\"],te5[\"flights\"])\n",
    "plt.xlabel('Distance (Mile)')\n",
    "plt.ylabel('Arrival Delays (Miniutes)')\n",
    "plt.title('Arrival Delays by Trip Distance (Mile)')\n",
    "#plt.scatter(test3['crs_dep_hour'],test3['arr_delay'])"
   ]
  },
  {
   "cell_type": "markdown",
   "metadata": {},
   "source": [
    "## 11- Root"
   ]
  },
  {
   "cell_type": "code",
   "execution_count": 148,
   "metadata": {},
   "outputs": [],
   "source": [
    "test3['rout']=test3['origin_city_name']+'_'+test3['dest_city_name']"
   ]
  },
  {
   "cell_type": "code",
   "execution_count": 150,
   "metadata": {},
   "outputs": [],
   "source": [
    "test10=test3[['arr_delay','rout','flights']].groupby('rout').sum()\n",
    "test10['avg_delay']=test10['arr_delay']/test10['flights']"
   ]
  },
  {
   "cell_type": "code",
   "execution_count": 156,
   "metadata": {},
   "outputs": [
    {
     "data": {
      "text/html": [
       "<div>\n",
       "<style scoped>\n",
       "    .dataframe tbody tr th:only-of-type {\n",
       "        vertical-align: middle;\n",
       "    }\n",
       "\n",
       "    .dataframe tbody tr th {\n",
       "        vertical-align: top;\n",
       "    }\n",
       "\n",
       "    .dataframe thead th {\n",
       "        text-align: right;\n",
       "    }\n",
       "</style>\n",
       "<table border=\"1\" class=\"dataframe\">\n",
       "  <thead>\n",
       "    <tr style=\"text-align: right;\">\n",
       "      <th></th>\n",
       "      <th>arr_delay</th>\n",
       "      <th>flights</th>\n",
       "      <th>avg_delay</th>\n",
       "    </tr>\n",
       "    <tr>\n",
       "      <th>rout</th>\n",
       "      <th></th>\n",
       "      <th></th>\n",
       "      <th></th>\n",
       "    </tr>\n",
       "  </thead>\n",
       "  <tbody>\n",
       "    <tr>\n",
       "      <th>Chicago, IL_New York, NY</th>\n",
       "      <td>7147.0</td>\n",
       "      <td>1070</td>\n",
       "      <td>6.679439</td>\n",
       "    </tr>\n",
       "    <tr>\n",
       "      <th>Chicago, IL_Newark, NJ</th>\n",
       "      <td>4744.0</td>\n",
       "      <td>363</td>\n",
       "      <td>13.068871</td>\n",
       "    </tr>\n",
       "    <tr>\n",
       "      <th>Chicago, IL_St. Louis, MO</th>\n",
       "      <td>3957.0</td>\n",
       "      <td>411</td>\n",
       "      <td>9.627737</td>\n",
       "    </tr>\n",
       "    <tr>\n",
       "      <th>Houston, TX_Dallas/Fort Worth, TX</th>\n",
       "      <td>3880.0</td>\n",
       "      <td>475</td>\n",
       "      <td>8.168421</td>\n",
       "    </tr>\n",
       "    <tr>\n",
       "      <th>Chicago, IL_San Francisco, CA</th>\n",
       "      <td>3659.0</td>\n",
       "      <td>412</td>\n",
       "      <td>8.881068</td>\n",
       "    </tr>\n",
       "    <tr>\n",
       "      <th>Dallas/Fort Worth, TX_Houston, TX</th>\n",
       "      <td>3536.0</td>\n",
       "      <td>526</td>\n",
       "      <td>6.722433</td>\n",
       "    </tr>\n",
       "    <tr>\n",
       "      <th>Orlando, FL_Newark, NJ</th>\n",
       "      <td>3514.0</td>\n",
       "      <td>416</td>\n",
       "      <td>8.447115</td>\n",
       "    </tr>\n",
       "    <tr>\n",
       "      <th>Denver, CO_San Francisco, CA</th>\n",
       "      <td>3375.0</td>\n",
       "      <td>331</td>\n",
       "      <td>10.196375</td>\n",
       "    </tr>\n",
       "    <tr>\n",
       "      <th>San Francisco, CA_Seattle, WA</th>\n",
       "      <td>3283.0</td>\n",
       "      <td>618</td>\n",
       "      <td>5.312298</td>\n",
       "    </tr>\n",
       "    <tr>\n",
       "      <th>Boston, MA_Newark, NJ</th>\n",
       "      <td>3249.0</td>\n",
       "      <td>333</td>\n",
       "      <td>9.756757</td>\n",
       "    </tr>\n",
       "  </tbody>\n",
       "</table>\n",
       "</div>"
      ],
      "text/plain": [
       "                                   arr_delay  flights  avg_delay\n",
       "rout                                                            \n",
       "Chicago, IL_New York, NY              7147.0     1070   6.679439\n",
       "Chicago, IL_Newark, NJ                4744.0      363  13.068871\n",
       "Chicago, IL_St. Louis, MO             3957.0      411   9.627737\n",
       "Houston, TX_Dallas/Fort Worth, TX     3880.0      475   8.168421\n",
       "Chicago, IL_San Francisco, CA         3659.0      412   8.881068\n",
       "Dallas/Fort Worth, TX_Houston, TX     3536.0      526   6.722433\n",
       "Orlando, FL_Newark, NJ                3514.0      416   8.447115\n",
       "Denver, CO_San Francisco, CA          3375.0      331  10.196375\n",
       "San Francisco, CA_Seattle, WA         3283.0      618   5.312298\n",
       "Boston, MA_Newark, NJ                 3249.0      333   9.756757"
      ]
     },
     "execution_count": 156,
     "metadata": {},
     "output_type": "execute_result"
    }
   ],
   "source": [
    "test10.sort_values(by=['arr_delay','avg_delay'],ascending=False)[:10]"
   ]
  },
  {
   "cell_type": "code",
   "execution_count": 158,
   "metadata": {},
   "outputs": [],
   "source": [
    "train_f=test3[['distance','crs_dep_hour' , 'crs_arr_hour','crs_elapsed_time',\n",
    "       'month', 'day', 'dayOfWeek','Airline_coeff', 'Lat', 'Lon',\n",
    "       'arr_delay']]"
   ]
  },
  {
   "cell_type": "code",
   "execution_count": 162,
   "metadata": {},
   "outputs": [
    {
     "data": {
      "image/png": "[encoded data removed]",
      "text/plain": [
       "<Figure size 576x576 with 2 Axes>"
      ]
     },
     "metadata": {
      "needs_background": "light"
     },
     "output_type": "display_data"
    }
   ],
   "source": [
    "# Calculate Correlated features from sample\n",
    "Corr = train_f.corr(method ='pearson')\n",
    "\n",
    "import seaborn as sn\n",
    "import matplotlib.pyplot as plt\n",
    "\n",
    "plt.figure(figsize=(8,8))\n",
    "sn.heatmap(Corr, annot=True)\n",
    "plt.show()\n"
   ]
  },
  {
   "cell_type": "code",
   "execution_count": null,
   "metadata": {},
   "outputs": [
    {
     "data": {
      "text/plain": [
       "distance         float64\n",
       "month            float64\n",
       "day              float64\n",
       "dayOfWeek        float64\n",
       "Airline_coeff    float64\n",
       "Lat              float64\n",
       "Lon              float64\n",
       "dep_hour         float64\n",
       "dtype: object"
      ]
     },
     "execution_count": 126,
     "metadata": {},
     "output_type": "execute_result"
    }
   ],
   "source": [
    "X.dtypes"
   ]
  },
  {
   "cell_type": "code",
   "execution_count": null,
   "metadata": {},
   "outputs": [],
   "source": [
    "train_f.to_csv('B_Train_Features.csv')"
   ]
  }
 ],
 "metadata": {
  "kernelspec": {
   "display_name": "Python 3 (ipykernel)",
   "language": "python",
   "name": "python3"
  },
  "language_info": {
   "codemirror_mode": {
    "name": "ipython",
    "version": 3
   },
   "file_extension": ".py",
   "mimetype": "text/x-python",
   "name": "python",
   "nbconvert_exporter": "python",
   "pygments_lexer": "ipython3",
   "version": "3.7.10"
  },
  "toc": {
   "base_numbering": 1,
   "nav_menu": {},
   "number_sections": true,
   "sideBar": true,
   "skip_h1_title": false,
   "title_cell": "Table of Contents",
   "title_sidebar": "Contents",
   "toc_cell": false,
   "toc_position": {},
   "toc_section_display": true,
   "toc_window_display": false
  },
  "varInspector": {
   "cols": {
    "lenName": 16,
    "lenType": 16,
    "lenVar": 40
   },
   "kernels_config": {
    "python": {
     "delete_cmd_postfix": "",
     "delete_cmd_prefix": "del ",
     "library": "var_list.py",
     "varRefreshCmd": "print(var_dic_list())"
    },
    "r": {
     "delete_cmd_postfix": ") ",
     "delete_cmd_prefix": "rm(",
     "library": "var_list.r",
     "varRefreshCmd": "cat(var_dic_list()) "
    }
   },
   "types_to_exclude": [
    "module",
    "function",
    "builtin_function_or_method",
    "instance",
    "_Feature"
   ],
   "window_display": false
  }
 },
 "nbformat": 4,
 "nbformat_minor": 4
}
