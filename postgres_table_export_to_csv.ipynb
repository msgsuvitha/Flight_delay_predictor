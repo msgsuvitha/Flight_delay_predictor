{
 "cells": [
  {
   "cell_type": "code",
   "execution_count": 4,
   "id": "3a256087-e9f6-46f9-b8f3-d32a4e685e34",
   "metadata": {},
   "outputs": [],
   "source": [
    "import psycopg2\n",
    "\n",
    "# To do, update all the parameters here\n",
    "\n",
    "t_host = \"dummy\" # either a domain name, an IP address, or \"localhost\"\n",
    "t_port = \"dummy\" # This is the default postgres port\n",
    "t_dbname = \"dummy\"\n",
    "t_user = \"dummy\"\n",
    "t_pw = \"dummy\"\n",
    "\n",
    "\n",
    "# set up our database connection.\n",
    "db_conn = psycopg2.connect(host=t_host, port=t_port, dbname=t_dbname, user=t_user, password=t_pw)\n",
    "db_cursor = db_conn.cursor()\n",
    "\n",
    "# Use the COPY function on the SQL we created above.\n",
    "SQL_for_file_output = \"COPY (select * from public.flights limit 100000) TO STDOUT WITH CSV HEADER\"\n",
    "\n",
    "# Set up a variable to store our file path and name.\n",
    "t_path_n_file =\"C:/abc.csv\"\n",
    "\n",
    "\n",
    "fileh = open(t_path_n_file, 'w')\n",
    "try:\n",
    "    # Do things with file here\n",
    "    db_cursor.copy_expert(SQL_for_file_output, fileh)\n",
    "finally:\n",
    "    fileh.close()\n",
    "\n",
    "\n",
    "# Clean up: Close the database cursor and connection\n",
    "db_cursor.close()\n",
    "db_conn.close()\n"
   ]
  },
  {
   "cell_type": "code",
   "execution_count": null,
   "id": "4465549a-a45f-466c-a58e-6e1172acf97a",
   "metadata": {},
   "outputs": [],
   "source": []
  }
 ],
 "metadata": {
  "kernelspec": {
   "display_name": "Python 3 (ipykernel)",
   "language": "python",
   "name": "python3"
  },
  "language_info": {
   "codemirror_mode": {
    "name": "ipython",
    "version": 3
   },
   "file_extension": ".py",
   "mimetype": "text/x-python",
   "name": "python",
   "nbconvert_exporter": "python",
   "pygments_lexer": "ipython3",
   "version": "3.7.10"
  }
 },
 "nbformat": 4,
 "nbformat_minor": 5
}
