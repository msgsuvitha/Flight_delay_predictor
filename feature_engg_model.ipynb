{
 "cells": [
  {
   "cell_type": "code",
   "execution_count": 1,
   "id": "274f90de-8013-4257-b7f6-96e845474947",
   "metadata": {},
   "outputs": [],
   "source": [
    "import pandas as pd\n",
    "import numpy as np\n",
    "import seaborn as sns"
   ]
  },
  {
   "cell_type": "code",
   "execution_count": 2,
   "id": "f9411081-e344-4962-a4b8-67a067b8ac9b",
   "metadata": {},
   "outputs": [],
   "source": [
    "df = pd.read_csv('B500Kflight.csv', sep=',', skipinitialspace=True)"
   ]
  },
  {
   "cell_type": "code",
   "execution_count": 3,
   "id": "1dd8f02b-3105-41cc-9e33-1f21b97c288f",
   "metadata": {},
   "outputs": [
    {
     "data": {
      "text/plain": [
       "fl_date                False\n",
       "mkt_unique_carrier     False\n",
       "branded_code_share     False\n",
       "mkt_carrier            False\n",
       "mkt_carrier_fl_num     False\n",
       "op_unique_carrier      False\n",
       "tail_num                True\n",
       "op_carrier_fl_num      False\n",
       "origin_airport_id      False\n",
       "origin                 False\n",
       "origin_city_name       False\n",
       "dest_airport_id        False\n",
       "dest                   False\n",
       "dest_city_name         False\n",
       "crs_dep_time           False\n",
       "dep_time                True\n",
       "dep_delay               True\n",
       "taxi_out                True\n",
       "wheels_off              True\n",
       "wheels_on               True\n",
       "taxi_in                 True\n",
       "crs_arr_time           False\n",
       "arr_time                True\n",
       "arr_delay               True\n",
       "cancelled              False\n",
       "cancellation_code       True\n",
       "diverted               False\n",
       "dup                    False\n",
       "crs_elapsed_time       False\n",
       "actual_elapsed_time     True\n",
       "air_time                True\n",
       "flights                False\n",
       "distance               False\n",
       "carrier_delay           True\n",
       "weather_delay           True\n",
       "nas_delay               True\n",
       "security_delay          True\n",
       "late_aircraft_delay     True\n",
       "first_dep_time          True\n",
       "total_add_gtime         True\n",
       "longest_add_gtime       True\n",
       "no_name                 True\n",
       "dtype: bool"
      ]
     },
     "execution_count": 3,
     "metadata": {},
     "output_type": "execute_result"
    }
   ],
   "source": [
    "df.isnull().any() # or df.isnull().sum()"
   ]
  },
  {
   "cell_type": "code",
   "execution_count": null,
   "id": "7f23e286-930f-4b89-9c78-843c942b956d",
   "metadata": {},
   "outputs": [],
   "source": []
  },
  {
   "cell_type": "code",
   "execution_count": 4,
   "id": "70636e9d-88e5-4dd3-b894-fec7f6737e44",
   "metadata": {},
   "outputs": [
    {
     "data": {
      "text/plain": [
       "tail_num                 0.3526\n",
       "dep_time                 1.8728\n",
       "dep_delay                1.8730\n",
       "taxi_out                 1.9328\n",
       "wheels_off               1.9328\n",
       "wheels_on                1.9958\n",
       "taxi_in                  1.9958\n",
       "arr_time                 1.9958\n",
       "arr_delay                2.2154\n",
       "cancellation_code       98.0494\n",
       "actual_elapsed_time      2.2154\n",
       "air_time                 2.2154\n",
       "carrier_delay           81.1046\n",
       "weather_delay           81.1046\n",
       "nas_delay               81.1046\n",
       "security_delay          81.1046\n",
       "late_aircraft_delay     81.1046\n",
       "first_dep_time          99.2920\n",
       "total_add_gtime         99.2920\n",
       "longest_add_gtime       99.2920\n",
       "no_name                100.0000\n",
       "dtype: float64"
      ]
     },
     "execution_count": 4,
     "metadata": {},
     "output_type": "execute_result"
    }
   ],
   "source": [
    "# percentage of nulls in columns only with nulls:\n",
    "df.loc[:,list(df.loc[:,df.isnull().any()].columns)].isnull().sum()/(len(df))*100"
   ]
  },
  {
   "cell_type": "code",
   "execution_count": 5,
   "id": "89944b72-fbc3-48fe-a76d-34ddf0704893",
   "metadata": {},
   "outputs": [],
   "source": [
    "# create new features, day of week and month for fl_date\n",
    "\n",
    "df['fl_date'] = pd.to_datetime(df['fl_date'])\n",
    "df['month'] = df['fl_date'].dt.month\n",
    "df['day'] = df['fl_date'].dt.weekday\n",
    "df['year'] = df['fl_date'].dt.year"
   ]
  },
  {
   "cell_type": "code",
   "execution_count": 6,
   "id": "774f74a3-ca86-4806-ace5-17f50d088bb4",
   "metadata": {},
   "outputs": [
    {
     "data": {
      "text/plain": [
       "count    477399.000000\n",
       "mean         -0.009225\n",
       "std          26.284630\n",
       "min         -91.000000\n",
       "25%         -15.000000\n",
       "50%          -7.000000\n",
       "75%           6.000000\n",
       "max         131.000000\n",
       "Name: arr_delay, dtype: float64"
      ]
     },
     "execution_count": 6,
     "metadata": {},
     "output_type": "execute_result"
    }
   ],
   "source": [
    "# removing outliers R2 score performs well, r2 went from 0.1 to 0.3\n",
    "\n",
    "df = df[df['arr_delay'] < 132] \n",
    "df = df[df['arr_delay'] > -132] \n",
    "\n",
    "df['arr_delay'].describe()"
   ]
  },
  {
   "cell_type": "code",
   "execution_count": null,
   "id": "5f270fb8-3433-458b-a581-c9b0a38f6b1b",
   "metadata": {},
   "outputs": [],
   "source": []
  },
  {
   "cell_type": "code",
   "execution_count": 7,
   "id": "28880c92-c25f-4931-8cd7-f6a560c5e982",
   "metadata": {},
   "outputs": [
    {
     "data": {
      "text/plain": [
       "<AxesSubplot:xlabel='dep_delay', ylabel='arr_delay'>"
      ]
     },
     "execution_count": 7,
     "metadata": {},
     "output_type": "execute_result"
    },
    {
     "data": {
      "image/png": "[encoded data removed]",
      "text/plain": [
       "<Figure size 432x288 with 1 Axes>"
      ]
     },
     "metadata": {
      "needs_background": "light"
     },
     "output_type": "display_data"
    }
   ],
   "source": [
    "# correlation between dep_delay and arr_delay\n",
    "\n",
    "sns.scatterplot(data=df, x = 'dep_delay', y= 'arr_delay')"
   ]
  },
  {
   "cell_type": "markdown",
   "id": "f7947b5e-8178-45a0-83e6-a4b227343745",
   "metadata": {},
   "source": [
    "After the removing the outliers in arr_delay and selecting data where the mean is close to 0, there is no direct correlation between arr_delay and dep_delay."
   ]
  },
  {
   "cell_type": "markdown",
   "id": "0423259a-b863-4085-a4d3-06bfca0cce2f",
   "metadata": {},
   "source": [
    "### Checking the relation between 'cancelled' and 'diverted' with arr_delay feature"
   ]
  },
  {
   "cell_type": "code",
   "execution_count": 8,
   "id": "22b99868-2b7a-4b82-ab81-5d8caef36ee8",
   "metadata": {},
   "outputs": [
    {
     "data": {
      "text/plain": [
       "(477399, 45)"
      ]
     },
     "execution_count": 8,
     "metadata": {},
     "output_type": "execute_result"
    }
   ],
   "source": [
    "df.shape"
   ]
  },
  {
   "cell_type": "code",
   "execution_count": 7,
   "id": "8221d674-9bfd-4e31-ba38-efebe2336ec9",
   "metadata": {},
   "outputs": [
    {
     "data": {
      "text/plain": [
       "0"
      ]
     },
     "execution_count": 7,
     "metadata": {},
     "output_type": "execute_result"
    }
   ],
   "source": [
    "# If cancelled = 1 or diverted = 1, arr_delay has no values, so we delete those rows\n",
    "\n",
    "df[(df['cancelled'] == 1) | (df['diverted'] == 1)]['arr_delay'].isna().sum()"
   ]
  },
  {
   "cell_type": "code",
   "execution_count": 8,
   "id": "48e8e467-5d24-420b-add8-ab226b43ec95",
   "metadata": {},
   "outputs": [],
   "source": [
    "df = df[df['cancelled'] != 1]\n",
    "df = df[df['diverted'] != 1]"
   ]
  },
  {
   "cell_type": "markdown",
   "id": "afeac458-d919-4c77-97aa-12769cc12897",
   "metadata": {},
   "source": [
    "### Analysis of Test data, flights_test.csv and comparing with training data, B500fKlight.csv\n",
    "- 19 features in the test data(we shall use the same feature in exploring our Training data)\n",
    "- Target feature is arr_delay\n",
    "- carrier_delay','weather_delay','dep_delay' has to be further explored"
   ]
  },
  {
   "cell_type": "code",
   "execution_count": 9,
   "id": "c64c153a-4d89-472c-8942-2ffc6c1bbf63",
   "metadata": {},
   "outputs": [],
   "source": [
    "df_flights_test = pd.read_csv('flights_test.csv', sep=',', skipinitialspace=True)"
   ]
  },
  {
   "cell_type": "code",
   "execution_count": 12,
   "id": "3a841d8f-288e-40bf-befd-c170772cac93",
   "metadata": {},
   "outputs": [
    {
     "data": {
      "text/plain": [
       "Index(['fl_date', 'mkt_unique_carrier', 'branded_code_share', 'mkt_carrier',\n",
       "       'mkt_carrier_fl_num', 'op_unique_carrier', 'tail_num',\n",
       "       'op_carrier_fl_num', 'origin_airport_id', 'origin', 'origin_city_name',\n",
       "       'dest_airport_id', 'dest', 'dest_city_name', 'crs_dep_time',\n",
       "       'crs_arr_time', 'dup', 'crs_elapsed_time', 'flights', 'distance'],\n",
       "      dtype='object')"
      ]
     },
     "execution_count": 12,
     "metadata": {},
     "output_type": "execute_result"
    }
   ],
   "source": [
    "df_flights_test.columns"
   ]
  },
  {
   "cell_type": "code",
   "execution_count": 13,
   "id": "8be2553a-2a64-4b6e-aca3-c07693e65a10",
   "metadata": {},
   "outputs": [
    {
     "data": {
      "text/plain": [
       "Index(['fl_date', 'mkt_unique_carrier', 'branded_code_share', 'mkt_carrier',\n",
       "       'mkt_carrier_fl_num', 'op_unique_carrier', 'tail_num',\n",
       "       'op_carrier_fl_num', 'origin_airport_id', 'origin', 'origin_city_name',\n",
       "       'dest_airport_id', 'dest', 'dest_city_name', 'crs_dep_time', 'dep_time',\n",
       "       'dep_delay', 'taxi_out', 'wheels_off', 'wheels_on', 'taxi_in',\n",
       "       'crs_arr_time', 'arr_time', 'arr_delay', 'cancelled',\n",
       "       'cancellation_code', 'diverted', 'dup', 'crs_elapsed_time',\n",
       "       'actual_elapsed_time', 'air_time', 'flights', 'distance',\n",
       "       'carrier_delay', 'weather_delay', 'nas_delay', 'security_delay',\n",
       "       'late_aircraft_delay', 'first_dep_time', 'total_add_gtime',\n",
       "       'longest_add_gtime', 'no_name', 'month', 'day', 'year'],\n",
       "      dtype='object')"
      ]
     },
     "execution_count": 13,
     "metadata": {},
     "output_type": "execute_result"
    }
   ],
   "source": [
    "df.columns"
   ]
  },
  {
   "cell_type": "code",
   "execution_count": 10,
   "id": "98d60aef-91ab-4040-8ec6-7972e6ec8635",
   "metadata": {},
   "outputs": [],
   "source": [
    "# CARRIER_DELAY, WEATHER_DELAY, NAS_DELAY, SECURITY_DELAY, LATE_AIRCRAFT_DELAY shouldn't be used directly as predictors \n",
    "# as well. However, we can create various transformations from earlier values.\n",
    "\n",
    "\n",
    "#making a copy of the features of training set based on the flights_test. We can add/del other features in this training set\n",
    "\n",
    "df_flights = df[['fl_date', 'mkt_unique_carrier', 'branded_code_share', \n",
    "        'mkt_carrier', 'mkt_carrier_fl_num',\n",
    "        'op_unique_carrier', 'tail_num', 'op_carrier_fl_num', 'origin_airport_id',\n",
    "        'origin', 'origin_city_name', 'dest_airport_id', 'dest', 'dest_city_name',\n",
    "        'crs_dep_time', 'crs_arr_time', 'dup', 'crs_elapsed_time', 'flights', 'distance',\n",
    "        'arr_delay', 'carrier_delay','weather_delay','dep_delay', 'taxi_out', 'taxi_in']]"
   ]
  },
  {
   "cell_type": "code",
   "execution_count": 15,
   "id": "7582dde1-fa43-468b-ba18-433256daaa97",
   "metadata": {},
   "outputs": [],
   "source": [
    "# df_flights.info"
   ]
  },
  {
   "cell_type": "code",
   "execution_count": 16,
   "id": "28ba3dda-914c-4d5f-81ef-a1b000b0ed69",
   "metadata": {},
   "outputs": [
    {
     "data": {
      "text/plain": [
       "fl_date                    0\n",
       "mkt_unique_carrier         0\n",
       "branded_code_share         0\n",
       "mkt_carrier                0\n",
       "mkt_carrier_fl_num         0\n",
       "op_unique_carrier          0\n",
       "tail_num                   0\n",
       "op_carrier_fl_num          0\n",
       "origin_airport_id          0\n",
       "origin                     0\n",
       "origin_city_name           0\n",
       "dest_airport_id            0\n",
       "dest                       0\n",
       "dest_city_name             0\n",
       "crs_dep_time               0\n",
       "crs_arr_time               0\n",
       "dup                        0\n",
       "crs_elapsed_time           0\n",
       "flights                    0\n",
       "distance                   0\n",
       "arr_delay                  0\n",
       "carrier_delay         394446\n",
       "weather_delay         394446\n",
       "dep_delay                  0\n",
       "taxi_out                   0\n",
       "taxi_in                    0\n",
       "dtype: int64"
      ]
     },
     "execution_count": 16,
     "metadata": {},
     "output_type": "execute_result"
    }
   ],
   "source": [
    "df_flights.isna().sum()"
   ]
  },
  {
   "cell_type": "code",
   "execution_count": null,
   "id": "866257e7-6fc5-4626-a703-4739ff75f826",
   "metadata": {},
   "outputs": [],
   "source": []
  },
  {
   "cell_type": "code",
   "execution_count": null,
   "id": "f48b54ad-12fb-4d75-895f-3bc1bfeb8419",
   "metadata": {},
   "outputs": [],
   "source": []
  },
  {
   "cell_type": "markdown",
   "id": "912e1e1f-65e6-4068-9635-9800410cc902",
   "metadata": {},
   "source": [
    "### Dropping unwanted features in the training data\n",
    "\n",
    "- **fl_date**: Flight Date (yyyy-mm-dd)\n",
    "- **op_carrier_fl_num**: Flight Number\n",
    "- **op_unique_carrier**: Unique Scheduled Operating Carrier Code. When the same code has been used by multiple carriers, a numeric suffix is used for earlier users,for example, PA, PA(1), PA(2). Use this field for analysis across a range of years.\n",
    "- **mkt_carrier**: Code assigned by IATA and commonly used to identify a carrier. As the same code may have been assigned to different carriers over time, the code is not always unique. For analysis, use the Unique Carrier Code.\n",
    "- **branded_code_share**: Reporting Carrier Operated or Branded Code Share Partners\n",
    "- **cancelled**: Cancelled Flight Indicator (1=Yes)\n",
    "- **cancellation_code**: Specifies The Reason For Cancellation\n",
    "- **carrier_delay**: Carrier Delay, in Minutes\n",
    "- **weather_delay**: Weather Delay, in Minutes\n",
    "- **nas_delay**: National Air System Delay, in Minutes\n",
    "- **security_delay**: Security Delay, in Minutes\n",
    "- **late_aircraft_delay**: Late Aircraft Delay, in Minutes\n",
    "- **taxi_out**: Taxi Out Time, in Minutes\n",
    "- **wheels_off**: Wheels Off Time (local time: hhmm)\n",
    "- **wheels_on**: Wheels On Time (local time: hhmm)\n",
    "- **taxi_in**: \tTaxi In Time, in Minutes\n",
    "- **first_dep_time**: First Gate Departure Time at Origin Airport\n",
    "- **total_add_gtime**: Total Ground Time Away from Gate for Gate Return or Cancelled Flight\n",
    "- **longest_add_gtime**: Longest Time Away from Gate for Gate Return or Cancelled Flight\n",
    "- **origin**: Origin Airport\n",
    "- **dest**: Destination Airport\n",
    "- **tail_num**: Tail Number\n",
    "- **dup**: Duplicate flag marked Y if the flight is swapped based on Form-3A data\n",
    "- **diverted**: Diverted Flight Indicator (1=Yes)\n",
    "- **flights**: Number of Flights\n",
    "- **distance**: Distance between airports (miles)\n",
    "- **dep_delay**: Difference in minutes between scheduled and actual departure time. Early departures show negative numbers.\t\n",
    "\n",
    "\n",
    "- 'no_name'\n",
    "\n"
   ]
  },
  {
   "cell_type": "code",
   "execution_count": 11,
   "id": "3d9b95f0-6006-4f49-a108-075d94b8735e",
   "metadata": {},
   "outputs": [
    {
     "data": {
      "text/html": [
       "<div>\n",
       "<style scoped>\n",
       "    .dataframe tbody tr th:only-of-type {\n",
       "        vertical-align: middle;\n",
       "    }\n",
       "\n",
       "    .dataframe tbody tr th {\n",
       "        vertical-align: top;\n",
       "    }\n",
       "\n",
       "    .dataframe thead th {\n",
       "        text-align: right;\n",
       "    }\n",
       "</style>\n",
       "<table border=\"1\" class=\"dataframe\">\n",
       "  <thead>\n",
       "    <tr style=\"text-align: right;\">\n",
       "      <th></th>\n",
       "      <th>fl_date</th>\n",
       "      <th>mkt_unique_carrier</th>\n",
       "      <th>branded_code_share</th>\n",
       "      <th>mkt_carrier</th>\n",
       "      <th>mkt_carrier_fl_num</th>\n",
       "      <th>op_unique_carrier</th>\n",
       "      <th>tail_num</th>\n",
       "      <th>op_carrier_fl_num</th>\n",
       "      <th>origin_airport_id</th>\n",
       "      <th>origin</th>\n",
       "      <th>...</th>\n",
       "      <th>nas_delay</th>\n",
       "      <th>security_delay</th>\n",
       "      <th>late_aircraft_delay</th>\n",
       "      <th>first_dep_time</th>\n",
       "      <th>total_add_gtime</th>\n",
       "      <th>longest_add_gtime</th>\n",
       "      <th>no_name</th>\n",
       "      <th>month</th>\n",
       "      <th>day</th>\n",
       "      <th>year</th>\n",
       "    </tr>\n",
       "  </thead>\n",
       "  <tbody>\n",
       "  </tbody>\n",
       "</table>\n",
       "<p>0 rows × 45 columns</p>\n",
       "</div>"
      ],
      "text/plain": [
       "Empty DataFrame\n",
       "Columns: [fl_date, mkt_unique_carrier, branded_code_share, mkt_carrier, mkt_carrier_fl_num, op_unique_carrier, tail_num, op_carrier_fl_num, origin_airport_id, origin, origin_city_name, dest_airport_id, dest, dest_city_name, crs_dep_time, dep_time, dep_delay, taxi_out, wheels_off, wheels_on, taxi_in, crs_arr_time, arr_time, arr_delay, cancelled, cancellation_code, diverted, dup, crs_elapsed_time, actual_elapsed_time, air_time, flights, distance, carrier_delay, weather_delay, nas_delay, security_delay, late_aircraft_delay, first_dep_time, total_add_gtime, longest_add_gtime, no_name, month, day, year]\n",
       "Index: []\n",
       "\n",
       "[0 rows x 45 columns]"
      ]
     },
     "execution_count": 11,
     "metadata": {},
     "output_type": "execute_result"
    }
   ],
   "source": [
    "# Checking if 'mkt_unique_carrier' and 'mkt_carrier' are the same\n",
    "df[df['mkt_unique_carrier'] != df['mkt_carrier']]"
   ]
  },
  {
   "cell_type": "code",
   "execution_count": 12,
   "id": "878547ff-d52d-4e67-92bd-50faf38a54c7",
   "metadata": {},
   "outputs": [
    {
     "data": {
      "text/plain": [
       "mkt_unique_carrier  mkt_carrier\n",
       "AA                  AA             124335\n",
       "DL                  DL             105283\n",
       "UA                  UA              90915\n",
       "WN                  WN              80946\n",
       "AS                  AS              26591\n",
       "B6                  B6              17328\n",
       "NK                  NK              12089\n",
       "F9                  F9               8003\n",
       "G4                  G4               6254\n",
       "HA                  HA               5655\n",
       "Name: arr_delay, dtype: int64"
      ]
     },
     "execution_count": 12,
     "metadata": {},
     "output_type": "execute_result"
    }
   ],
   "source": [
    "# 'mkt_unique_carrier' and 'mkt_carrier' are duplicates\n",
    "df_flights.groupby(['mkt_unique_carrier','mkt_carrier']).arr_delay.count().sort_values(ascending=False)"
   ]
  },
  {
   "cell_type": "code",
   "execution_count": 13,
   "id": "f2fea926-fda0-4287-8370-000b4a047f81",
   "metadata": {},
   "outputs": [
    {
     "data": {
      "text/html": [
       "<div>\n",
       "<style scoped>\n",
       "    .dataframe tbody tr th:only-of-type {\n",
       "        vertical-align: middle;\n",
       "    }\n",
       "\n",
       "    .dataframe tbody tr th {\n",
       "        vertical-align: top;\n",
       "    }\n",
       "\n",
       "    .dataframe thead th {\n",
       "        text-align: right;\n",
       "    }\n",
       "</style>\n",
       "<table border=\"1\" class=\"dataframe\">\n",
       "  <thead>\n",
       "    <tr style=\"text-align: right;\">\n",
       "      <th></th>\n",
       "      <th>mkt_unique_carrier</th>\n",
       "      <th>branded_code_share</th>\n",
       "    </tr>\n",
       "  </thead>\n",
       "  <tbody>\n",
       "    <tr>\n",
       "      <th>4</th>\n",
       "      <td>AA</td>\n",
       "      <td>AA_CODESHARE</td>\n",
       "    </tr>\n",
       "    <tr>\n",
       "      <th>6</th>\n",
       "      <td>DL</td>\n",
       "      <td>DL_CODESHARE</td>\n",
       "    </tr>\n",
       "    <tr>\n",
       "      <th>7</th>\n",
       "      <td>AA</td>\n",
       "      <td>AA_CODESHARE</td>\n",
       "    </tr>\n",
       "    <tr>\n",
       "      <th>9</th>\n",
       "      <td>DL</td>\n",
       "      <td>DL_CODESHARE</td>\n",
       "    </tr>\n",
       "    <tr>\n",
       "      <th>12</th>\n",
       "      <td>AA</td>\n",
       "      <td>AA_CODESHARE</td>\n",
       "    </tr>\n",
       "    <tr>\n",
       "      <th>...</th>\n",
       "      <td>...</td>\n",
       "      <td>...</td>\n",
       "    </tr>\n",
       "    <tr>\n",
       "      <th>499990</th>\n",
       "      <td>DL</td>\n",
       "      <td>DL_CODESHARE</td>\n",
       "    </tr>\n",
       "    <tr>\n",
       "      <th>499992</th>\n",
       "      <td>AS</td>\n",
       "      <td>AS_CODESHARE</td>\n",
       "    </tr>\n",
       "    <tr>\n",
       "      <th>499996</th>\n",
       "      <td>UA</td>\n",
       "      <td>UA_CODESHARE</td>\n",
       "    </tr>\n",
       "    <tr>\n",
       "      <th>499997</th>\n",
       "      <td>AS</td>\n",
       "      <td>AS_CODESHARE</td>\n",
       "    </tr>\n",
       "    <tr>\n",
       "      <th>499998</th>\n",
       "      <td>DL</td>\n",
       "      <td>DL_CODESHARE</td>\n",
       "    </tr>\n",
       "  </tbody>\n",
       "</table>\n",
       "<p>178308 rows × 2 columns</p>\n",
       "</div>"
      ],
      "text/plain": [
       "       mkt_unique_carrier branded_code_share\n",
       "4                      AA       AA_CODESHARE\n",
       "6                      DL       DL_CODESHARE\n",
       "7                      AA       AA_CODESHARE\n",
       "9                      DL       DL_CODESHARE\n",
       "12                     AA       AA_CODESHARE\n",
       "...                   ...                ...\n",
       "499990                 DL       DL_CODESHARE\n",
       "499992                 AS       AS_CODESHARE\n",
       "499996                 UA       UA_CODESHARE\n",
       "499997                 AS       AS_CODESHARE\n",
       "499998                 DL       DL_CODESHARE\n",
       "\n",
       "[178308 rows x 2 columns]"
      ]
     },
     "execution_count": 13,
     "metadata": {},
     "output_type": "execute_result"
    }
   ],
   "source": [
    "# checking for 'mkt_unique_carrier' and 'branded_code_share'\n",
    "df_flights[df_flights['mkt_unique_carrier'] != df_flights['branded_code_share']]\\\n",
    "[['mkt_unique_carrier', 'branded_code_share']]"
   ]
  },
  {
   "cell_type": "code",
   "execution_count": null,
   "id": "75c20e6f-f07f-4c2e-b388-892ba5f40e21",
   "metadata": {},
   "outputs": [],
   "source": []
  },
  {
   "cell_type": "code",
   "execution_count": null,
   "id": "500e1a22-7145-4550-898a-f413cde0b751",
   "metadata": {},
   "outputs": [],
   "source": []
  },
  {
   "cell_type": "markdown",
   "id": "3f82b1f3-8482-477d-9bca-0ec66fe32cc1",
   "metadata": {},
   "source": [
    "- 'mkt_unique_carrier' and 'mkt_carrier' are duplicates\n",
    "- The differences between 'mkt_unique_carrier' and 'branded_code_share' is the suffix _CODESHARE\n",
    "- Hence we can use only one of them i.e. 'mkt_unique_carrier' and drop 'mkt_carrier' and 'branded_code_share' from both training and test data"
   ]
  },
  {
   "cell_type": "code",
   "execution_count": 14,
   "id": "9cf131bd-85b5-4670-b00e-abe4cd427b67",
   "metadata": {},
   "outputs": [],
   "source": [
    "# Dropping  'branded_code_share' from both Training and test dataset\n",
    "\n",
    "df_flights = df_flights.drop(columns=['branded_code_share'])\n",
    "df_flights_test = df_flights_test.drop(columns=['branded_code_share'])"
   ]
  },
  {
   "cell_type": "code",
   "execution_count": 15,
   "id": "390a2a39-8733-45fb-a8f8-a9a62a0cfb1a",
   "metadata": {},
   "outputs": [],
   "source": [
    "# # Dropping 'mkt_carrier' from both Training and test dataset \n",
    "\n",
    "df_flights = df_flights.drop(columns=['mkt_carrier'])\n",
    "df_flights_test = df_flights_test.drop(columns=['mkt_carrier'])"
   ]
  },
  {
   "cell_type": "code",
   "execution_count": 22,
   "id": "20a5b522-cc70-493b-b572-29f0a76657dd",
   "metadata": {},
   "outputs": [
    {
     "data": {
      "text/plain": [
       "(477399, 24)"
      ]
     },
     "execution_count": 22,
     "metadata": {},
     "output_type": "execute_result"
    }
   ],
   "source": [
    "df_flights.shape"
   ]
  },
  {
   "cell_type": "code",
   "execution_count": 23,
   "id": "4063ea68-dae6-401a-865d-028bb2eabb59",
   "metadata": {},
   "outputs": [
    {
     "data": {
      "text/plain": [
       "(660556, 18)"
      ]
     },
     "execution_count": 23,
     "metadata": {},
     "output_type": "execute_result"
    }
   ],
   "source": [
    "df_flights_test.shape"
   ]
  },
  {
   "cell_type": "markdown",
   "id": "9fff26b3-9fd8-4369-8106-0db7e491d7e5",
   "metadata": {},
   "source": [
    "### weather_delay Analysis at origin airport"
   ]
  },
  {
   "cell_type": "code",
   "execution_count": 16,
   "id": "66612952-8a5e-41c6-81ed-824b9512fb50",
   "metadata": {},
   "outputs": [
    {
     "data": {
      "text/html": [
       "<div>\n",
       "<style scoped>\n",
       "    .dataframe tbody tr th:only-of-type {\n",
       "        vertical-align: middle;\n",
       "    }\n",
       "\n",
       "    .dataframe tbody tr th {\n",
       "        vertical-align: top;\n",
       "    }\n",
       "\n",
       "    .dataframe thead th {\n",
       "        text-align: right;\n",
       "    }\n",
       "</style>\n",
       "<table border=\"1\" class=\"dataframe\">\n",
       "  <thead>\n",
       "    <tr style=\"text-align: right;\">\n",
       "      <th></th>\n",
       "      <th>fl_date</th>\n",
       "      <th>mkt_unique_carrier</th>\n",
       "      <th>mkt_carrier_fl_num</th>\n",
       "      <th>op_unique_carrier</th>\n",
       "      <th>tail_num</th>\n",
       "      <th>op_carrier_fl_num</th>\n",
       "      <th>origin_airport_id</th>\n",
       "      <th>origin</th>\n",
       "      <th>origin_city_name</th>\n",
       "      <th>dest_airport_id</th>\n",
       "      <th>...</th>\n",
       "      <th>dup</th>\n",
       "      <th>crs_elapsed_time</th>\n",
       "      <th>flights</th>\n",
       "      <th>distance</th>\n",
       "      <th>arr_delay</th>\n",
       "      <th>carrier_delay</th>\n",
       "      <th>weather_delay</th>\n",
       "      <th>dep_delay</th>\n",
       "      <th>taxi_out</th>\n",
       "      <th>taxi_in</th>\n",
       "    </tr>\n",
       "  </thead>\n",
       "  <tbody>\n",
       "    <tr>\n",
       "      <th>75</th>\n",
       "      <td>2019-10-11</td>\n",
       "      <td>WN</td>\n",
       "      <td>866</td>\n",
       "      <td>WN</td>\n",
       "      <td>N729SW</td>\n",
       "      <td>866</td>\n",
       "      <td>11259</td>\n",
       "      <td>DAL</td>\n",
       "      <td>Dallas, TX</td>\n",
       "      <td>10599</td>\n",
       "      <td>...</td>\n",
       "      <td>N</td>\n",
       "      <td>100</td>\n",
       "      <td>1</td>\n",
       "      <td>587</td>\n",
       "      <td>29.0</td>\n",
       "      <td>0.0</td>\n",
       "      <td>9.0</td>\n",
       "      <td>17.0</td>\n",
       "      <td>24.0</td>\n",
       "      <td>2.0</td>\n",
       "    </tr>\n",
       "    <tr>\n",
       "      <th>91</th>\n",
       "      <td>2019-02-19</td>\n",
       "      <td>AA</td>\n",
       "      <td>3317</td>\n",
       "      <td>MQ</td>\n",
       "      <td>N249NN</td>\n",
       "      <td>3317</td>\n",
       "      <td>12992</td>\n",
       "      <td>LIT</td>\n",
       "      <td>Little Rock, AR</td>\n",
       "      <td>11298</td>\n",
       "      <td>...</td>\n",
       "      <td>N</td>\n",
       "      <td>93</td>\n",
       "      <td>1</td>\n",
       "      <td>304</td>\n",
       "      <td>73.0</td>\n",
       "      <td>0.0</td>\n",
       "      <td>50.0</td>\n",
       "      <td>55.0</td>\n",
       "      <td>26.0</td>\n",
       "      <td>16.0</td>\n",
       "    </tr>\n",
       "    <tr>\n",
       "      <th>120</th>\n",
       "      <td>2019-05-13</td>\n",
       "      <td>B6</td>\n",
       "      <td>1202</td>\n",
       "      <td>B6</td>\n",
       "      <td>N955JB</td>\n",
       "      <td>1202</td>\n",
       "      <td>11697</td>\n",
       "      <td>FLL</td>\n",
       "      <td>Fort Lauderdale, FL</td>\n",
       "      <td>12478</td>\n",
       "      <td>...</td>\n",
       "      <td>N</td>\n",
       "      <td>185</td>\n",
       "      <td>1</td>\n",
       "      <td>1069</td>\n",
       "      <td>63.0</td>\n",
       "      <td>0.0</td>\n",
       "      <td>31.0</td>\n",
       "      <td>64.0</td>\n",
       "      <td>40.0</td>\n",
       "      <td>9.0</td>\n",
       "    </tr>\n",
       "    <tr>\n",
       "      <th>654</th>\n",
       "      <td>2019-05-23</td>\n",
       "      <td>UA</td>\n",
       "      <td>4600</td>\n",
       "      <td>AX</td>\n",
       "      <td>N10156</td>\n",
       "      <td>4600</td>\n",
       "      <td>11292</td>\n",
       "      <td>DEN</td>\n",
       "      <td>Denver, CO</td>\n",
       "      <td>14730</td>\n",
       "      <td>...</td>\n",
       "      <td>N</td>\n",
       "      <td>165</td>\n",
       "      <td>1</td>\n",
       "      <td>1024</td>\n",
       "      <td>29.0</td>\n",
       "      <td>0.0</td>\n",
       "      <td>21.0</td>\n",
       "      <td>21.0</td>\n",
       "      <td>32.0</td>\n",
       "      <td>5.0</td>\n",
       "    </tr>\n",
       "    <tr>\n",
       "      <th>859</th>\n",
       "      <td>2019-07-17</td>\n",
       "      <td>UA</td>\n",
       "      <td>6341</td>\n",
       "      <td>YV</td>\n",
       "      <td>N86316</td>\n",
       "      <td>6341</td>\n",
       "      <td>12264</td>\n",
       "      <td>IAD</td>\n",
       "      <td>Washington, DC</td>\n",
       "      <td>13851</td>\n",
       "      <td>...</td>\n",
       "      <td>N</td>\n",
       "      <td>194</td>\n",
       "      <td>1</td>\n",
       "      <td>1136</td>\n",
       "      <td>19.0</td>\n",
       "      <td>0.0</td>\n",
       "      <td>19.0</td>\n",
       "      <td>38.0</td>\n",
       "      <td>15.0</td>\n",
       "      <td>14.0</td>\n",
       "    </tr>\n",
       "  </tbody>\n",
       "</table>\n",
       "<p>5 rows × 24 columns</p>\n",
       "</div>"
      ],
      "text/plain": [
       "       fl_date mkt_unique_carrier  mkt_carrier_fl_num op_unique_carrier  \\\n",
       "75  2019-10-11                 WN                 866                WN   \n",
       "91  2019-02-19                 AA                3317                MQ   \n",
       "120 2019-05-13                 B6                1202                B6   \n",
       "654 2019-05-23                 UA                4600                AX   \n",
       "859 2019-07-17                 UA                6341                YV   \n",
       "\n",
       "    tail_num  op_carrier_fl_num  origin_airport_id origin  \\\n",
       "75    N729SW                866              11259    DAL   \n",
       "91    N249NN               3317              12992    LIT   \n",
       "120   N955JB               1202              11697    FLL   \n",
       "654   N10156               4600              11292    DEN   \n",
       "859   N86316               6341              12264    IAD   \n",
       "\n",
       "        origin_city_name  dest_airport_id  ... dup crs_elapsed_time  flights  \\\n",
       "75            Dallas, TX            10599  ...   N              100        1   \n",
       "91       Little Rock, AR            11298  ...   N               93        1   \n",
       "120  Fort Lauderdale, FL            12478  ...   N              185        1   \n",
       "654           Denver, CO            14730  ...   N              165        1   \n",
       "859       Washington, DC            13851  ...   N              194        1   \n",
       "\n",
       "     distance arr_delay  carrier_delay  weather_delay  dep_delay  taxi_out  \\\n",
       "75        587      29.0            0.0            9.0       17.0      24.0   \n",
       "91        304      73.0            0.0           50.0       55.0      26.0   \n",
       "120      1069      63.0            0.0           31.0       64.0      40.0   \n",
       "654      1024      29.0            0.0           21.0       21.0      32.0   \n",
       "859      1136      19.0            0.0           19.0       38.0      15.0   \n",
       "\n",
       "     taxi_in  \n",
       "75       2.0  \n",
       "91      16.0  \n",
       "120      9.0  \n",
       "654      5.0  \n",
       "859     14.0  \n",
       "\n",
       "[5 rows x 24 columns]"
      ]
     },
     "execution_count": 16,
     "metadata": {},
     "output_type": "execute_result"
    }
   ],
   "source": [
    "# checking for not NAN values in 'weather_delay', Weather Delay, in Minutes\n",
    "\n",
    "df_flights[df_flights['weather_delay'].notnull()]\n",
    "\n",
    "# weather_delay greater than zero minutes\n",
    "df_flights[df_flights['weather_delay'] > 0].head()"
   ]
  },
  {
   "cell_type": "code",
   "execution_count": 17,
   "id": "107d9edd-6f8f-4958-98a9-a1af7c69bb2c",
   "metadata": {},
   "outputs": [],
   "source": [
    "# weather delay in the origin airport\n",
    "\n",
    "weather_delay_airport = df_flights.groupby(['origin']).weather_delay.mean().round(0).sort_values(ascending=False)\n",
    "weather_delay_airport= weather_delay_airport.reset_index()"
   ]
  },
  {
   "cell_type": "code",
   "execution_count": 18,
   "id": "51155b3b-71f7-49d9-9b99-e79015434951",
   "metadata": {},
   "outputs": [
    {
     "data": {
      "text/html": [
       "<div>\n",
       "<style scoped>\n",
       "    .dataframe tbody tr th:only-of-type {\n",
       "        vertical-align: middle;\n",
       "    }\n",
       "\n",
       "    .dataframe tbody tr th {\n",
       "        vertical-align: top;\n",
       "    }\n",
       "\n",
       "    .dataframe thead th {\n",
       "        text-align: right;\n",
       "    }\n",
       "</style>\n",
       "<table border=\"1\" class=\"dataframe\">\n",
       "  <thead>\n",
       "    <tr style=\"text-align: right;\">\n",
       "      <th></th>\n",
       "      <th>origin</th>\n",
       "      <th>weather_delay</th>\n",
       "    </tr>\n",
       "  </thead>\n",
       "  <tbody>\n",
       "    <tr>\n",
       "      <th>0</th>\n",
       "      <td>EKO</td>\n",
       "      <td>29.0</td>\n",
       "    </tr>\n",
       "    <tr>\n",
       "      <th>1</th>\n",
       "      <td>BFF</td>\n",
       "      <td>28.0</td>\n",
       "    </tr>\n",
       "    <tr>\n",
       "      <th>2</th>\n",
       "      <td>ART</td>\n",
       "      <td>18.0</td>\n",
       "    </tr>\n",
       "    <tr>\n",
       "      <th>3</th>\n",
       "      <td>CYS</td>\n",
       "      <td>18.0</td>\n",
       "    </tr>\n",
       "    <tr>\n",
       "      <th>4</th>\n",
       "      <td>RHI</td>\n",
       "      <td>18.0</td>\n",
       "    </tr>\n",
       "    <tr>\n",
       "      <th>...</th>\n",
       "      <td>...</td>\n",
       "      <td>...</td>\n",
       "    </tr>\n",
       "    <tr>\n",
       "      <th>368</th>\n",
       "      <td>BKG</td>\n",
       "      <td>0.0</td>\n",
       "    </tr>\n",
       "    <tr>\n",
       "      <th>369</th>\n",
       "      <td>DLG</td>\n",
       "      <td>0.0</td>\n",
       "    </tr>\n",
       "    <tr>\n",
       "      <th>370</th>\n",
       "      <td>GST</td>\n",
       "      <td>0.0</td>\n",
       "    </tr>\n",
       "    <tr>\n",
       "      <th>371</th>\n",
       "      <td>HYA</td>\n",
       "      <td>0.0</td>\n",
       "    </tr>\n",
       "    <tr>\n",
       "      <th>372</th>\n",
       "      <td>WYS</td>\n",
       "      <td>0.0</td>\n",
       "    </tr>\n",
       "  </tbody>\n",
       "</table>\n",
       "<p>373 rows × 2 columns</p>\n",
       "</div>"
      ],
      "text/plain": [
       "    origin  weather_delay\n",
       "0      EKO           29.0\n",
       "1      BFF           28.0\n",
       "2      ART           18.0\n",
       "3      CYS           18.0\n",
       "4      RHI           18.0\n",
       "..     ...            ...\n",
       "368    BKG            0.0\n",
       "369    DLG            0.0\n",
       "370    GST            0.0\n",
       "371    HYA            0.0\n",
       "372    WYS            0.0\n",
       "\n",
       "[373 rows x 2 columns]"
      ]
     },
     "execution_count": 18,
     "metadata": {},
     "output_type": "execute_result"
    }
   ],
   "source": [
    "# Filling NAN with zero\n",
    "\n",
    "weather_delay_airport.fillna(0,inplace= True)\n",
    "weather_delay_airport\n",
    "\n",
    "# Should i bin the values???"
   ]
  },
  {
   "cell_type": "markdown",
   "id": "c55c3962-89af-4edd-b74d-a16123e6eb34",
   "metadata": {},
   "source": [
    "### dep_delay Analysis at origin airport"
   ]
  },
  {
   "cell_type": "code",
   "execution_count": 19,
   "id": "99af4284-91da-4fab-8820-b3fbe9830e60",
   "metadata": {},
   "outputs": [
    {
     "data": {
      "text/html": [
       "<div>\n",
       "<style scoped>\n",
       "    .dataframe tbody tr th:only-of-type {\n",
       "        vertical-align: middle;\n",
       "    }\n",
       "\n",
       "    .dataframe tbody tr th {\n",
       "        vertical-align: top;\n",
       "    }\n",
       "\n",
       "    .dataframe thead th {\n",
       "        text-align: right;\n",
       "    }\n",
       "</style>\n",
       "<table border=\"1\" class=\"dataframe\">\n",
       "  <thead>\n",
       "    <tr style=\"text-align: right;\">\n",
       "      <th></th>\n",
       "      <th>origin</th>\n",
       "      <th>dep_delay</th>\n",
       "    </tr>\n",
       "  </thead>\n",
       "  <tbody>\n",
       "    <tr>\n",
       "      <th>0</th>\n",
       "      <td>DUT</td>\n",
       "      <td>31.0</td>\n",
       "    </tr>\n",
       "    <tr>\n",
       "      <th>1</th>\n",
       "      <td>SMX</td>\n",
       "      <td>27.0</td>\n",
       "    </tr>\n",
       "    <tr>\n",
       "      <th>2</th>\n",
       "      <td>OWB</td>\n",
       "      <td>24.0</td>\n",
       "    </tr>\n",
       "    <tr>\n",
       "      <th>3</th>\n",
       "      <td>LCK</td>\n",
       "      <td>15.0</td>\n",
       "    </tr>\n",
       "    <tr>\n",
       "      <th>4</th>\n",
       "      <td>HGR</td>\n",
       "      <td>15.0</td>\n",
       "    </tr>\n",
       "  </tbody>\n",
       "</table>\n",
       "</div>"
      ],
      "text/plain": [
       "  origin  dep_delay\n",
       "0    DUT       31.0\n",
       "1    SMX       27.0\n",
       "2    OWB       24.0\n",
       "3    LCK       15.0\n",
       "4    HGR       15.0"
      ]
     },
     "execution_count": 19,
     "metadata": {},
     "output_type": "execute_result"
    }
   ],
   "source": [
    "# 'dep_delay': Difference in minutes between scheduled & actual departure time. Early departures show negative numbers.\n",
    "\n",
    "dep_delay_airport= df_flights.groupby(['origin']).dep_delay.mean().round(0).sort_values(ascending=False).reset_index()\n",
    "dep_delay_airport.head()"
   ]
  },
  {
   "cell_type": "markdown",
   "id": "77b31574-c465-4d69-85b5-622653f84547",
   "metadata": {},
   "source": [
    "### arr_delay Analysis at origin airport"
   ]
  },
  {
   "cell_type": "code",
   "execution_count": 20,
   "id": "3b2d93c8-ea14-46b6-a2d8-cb6baf59efb7",
   "metadata": {},
   "outputs": [
    {
     "data": {
      "text/html": [
       "<div>\n",
       "<style scoped>\n",
       "    .dataframe tbody tr th:only-of-type {\n",
       "        vertical-align: middle;\n",
       "    }\n",
       "\n",
       "    .dataframe tbody tr th {\n",
       "        vertical-align: top;\n",
       "    }\n",
       "\n",
       "    .dataframe thead th {\n",
       "        text-align: right;\n",
       "    }\n",
       "</style>\n",
       "<table border=\"1\" class=\"dataframe\">\n",
       "  <thead>\n",
       "    <tr style=\"text-align: right;\">\n",
       "      <th></th>\n",
       "      <th>origin</th>\n",
       "      <th>arr_delay</th>\n",
       "    </tr>\n",
       "  </thead>\n",
       "  <tbody>\n",
       "    <tr>\n",
       "      <th>0</th>\n",
       "      <td>SMX</td>\n",
       "      <td>30.0</td>\n",
       "    </tr>\n",
       "    <tr>\n",
       "      <th>1</th>\n",
       "      <td>MMH</td>\n",
       "      <td>23.0</td>\n",
       "    </tr>\n",
       "    <tr>\n",
       "      <th>2</th>\n",
       "      <td>HGR</td>\n",
       "      <td>22.0</td>\n",
       "    </tr>\n",
       "    <tr>\n",
       "      <th>3</th>\n",
       "      <td>OWB</td>\n",
       "      <td>22.0</td>\n",
       "    </tr>\n",
       "    <tr>\n",
       "      <th>4</th>\n",
       "      <td>DUT</td>\n",
       "      <td>18.0</td>\n",
       "    </tr>\n",
       "    <tr>\n",
       "      <th>...</th>\n",
       "      <td>...</td>\n",
       "      <td>...</td>\n",
       "    </tr>\n",
       "    <tr>\n",
       "      <th>368</th>\n",
       "      <td>CMX</td>\n",
       "      <td>-13.0</td>\n",
       "    </tr>\n",
       "    <tr>\n",
       "      <th>369</th>\n",
       "      <td>WYS</td>\n",
       "      <td>-15.0</td>\n",
       "    </tr>\n",
       "    <tr>\n",
       "      <th>370</th>\n",
       "      <td>GST</td>\n",
       "      <td>-16.0</td>\n",
       "    </tr>\n",
       "    <tr>\n",
       "      <th>371</th>\n",
       "      <td>BKG</td>\n",
       "      <td>-16.0</td>\n",
       "    </tr>\n",
       "    <tr>\n",
       "      <th>372</th>\n",
       "      <td>PIR</td>\n",
       "      <td>-16.0</td>\n",
       "    </tr>\n",
       "  </tbody>\n",
       "</table>\n",
       "<p>373 rows × 2 columns</p>\n",
       "</div>"
      ],
      "text/plain": [
       "    origin  arr_delay\n",
       "0      SMX       30.0\n",
       "1      MMH       23.0\n",
       "2      HGR       22.0\n",
       "3      OWB       22.0\n",
       "4      DUT       18.0\n",
       "..     ...        ...\n",
       "368    CMX      -13.0\n",
       "369    WYS      -15.0\n",
       "370    GST      -16.0\n",
       "371    BKG      -16.0\n",
       "372    PIR      -16.0\n",
       "\n",
       "[373 rows x 2 columns]"
      ]
     },
     "execution_count": 20,
     "metadata": {},
     "output_type": "execute_result"
    }
   ],
   "source": [
    "# 'arr_delay': Difference in minutes between scheduled and actual arrival time. Early arrivals show negative numbers.\n",
    "\n",
    "arr_delay_airport = df_flights.groupby(['origin']).arr_delay.mean().round(0).sort_values(ascending=False).reset_index()\n",
    "arr_delay_airport"
   ]
  },
  {
   "cell_type": "markdown",
   "id": "9f0feba3-5d4a-4af2-9f25-aa85bd0b3531",
   "metadata": {},
   "source": [
    "### taxi_out Analysis at origin airport"
   ]
  },
  {
   "cell_type": "code",
   "execution_count": 21,
   "id": "05a4aed9-da17-45c1-84f0-a63486de87b9",
   "metadata": {},
   "outputs": [
    {
     "data": {
      "text/html": [
       "<div>\n",
       "<style scoped>\n",
       "    .dataframe tbody tr th:only-of-type {\n",
       "        vertical-align: middle;\n",
       "    }\n",
       "\n",
       "    .dataframe tbody tr th {\n",
       "        vertical-align: top;\n",
       "    }\n",
       "\n",
       "    .dataframe thead th {\n",
       "        text-align: right;\n",
       "    }\n",
       "</style>\n",
       "<table border=\"1\" class=\"dataframe\">\n",
       "  <thead>\n",
       "    <tr style=\"text-align: right;\">\n",
       "      <th></th>\n",
       "      <th>origin</th>\n",
       "      <th>taxi_out</th>\n",
       "    </tr>\n",
       "  </thead>\n",
       "  <tbody>\n",
       "    <tr>\n",
       "      <th>0</th>\n",
       "      <td>MMH</td>\n",
       "      <td>30.0</td>\n",
       "    </tr>\n",
       "    <tr>\n",
       "      <th>1</th>\n",
       "      <td>LGA</td>\n",
       "      <td>27.0</td>\n",
       "    </tr>\n",
       "    <tr>\n",
       "      <th>2</th>\n",
       "      <td>JFK</td>\n",
       "      <td>26.0</td>\n",
       "    </tr>\n",
       "    <tr>\n",
       "      <th>3</th>\n",
       "      <td>EWR</td>\n",
       "      <td>25.0</td>\n",
       "    </tr>\n",
       "    <tr>\n",
       "      <th>4</th>\n",
       "      <td>PQI</td>\n",
       "      <td>24.0</td>\n",
       "    </tr>\n",
       "    <tr>\n",
       "      <th>...</th>\n",
       "      <td>...</td>\n",
       "      <td>...</td>\n",
       "    </tr>\n",
       "    <tr>\n",
       "      <th>368</th>\n",
       "      <td>LNY</td>\n",
       "      <td>5.0</td>\n",
       "    </tr>\n",
       "    <tr>\n",
       "      <th>369</th>\n",
       "      <td>DUT</td>\n",
       "      <td>5.0</td>\n",
       "    </tr>\n",
       "    <tr>\n",
       "      <th>370</th>\n",
       "      <td>OWB</td>\n",
       "      <td>5.0</td>\n",
       "    </tr>\n",
       "    <tr>\n",
       "      <th>371</th>\n",
       "      <td>MKK</td>\n",
       "      <td>4.0</td>\n",
       "    </tr>\n",
       "    <tr>\n",
       "      <th>372</th>\n",
       "      <td>JHM</td>\n",
       "      <td>3.0</td>\n",
       "    </tr>\n",
       "  </tbody>\n",
       "</table>\n",
       "<p>373 rows × 2 columns</p>\n",
       "</div>"
      ],
      "text/plain": [
       "    origin  taxi_out\n",
       "0      MMH      30.0\n",
       "1      LGA      27.0\n",
       "2      JFK      26.0\n",
       "3      EWR      25.0\n",
       "4      PQI      24.0\n",
       "..     ...       ...\n",
       "368    LNY       5.0\n",
       "369    DUT       5.0\n",
       "370    OWB       5.0\n",
       "371    MKK       4.0\n",
       "372    JHM       3.0\n",
       "\n",
       "[373 rows x 2 columns]"
      ]
     },
     "execution_count": 21,
     "metadata": {},
     "output_type": "execute_result"
    }
   ],
   "source": [
    "# - **taxi_out**: Taxi Out Time, in Minutes\n",
    "\n",
    "taxi_out_airport = df_flights.groupby(['origin']).taxi_out.mean().round(0).sort_values(ascending=False).reset_index()\n",
    "taxi_out_airport"
   ]
  },
  {
   "cell_type": "markdown",
   "id": "090797d4-a4bf-42f5-b0e8-212d8c342aba",
   "metadata": {},
   "source": [
    "### taxi_in Analysis at origin airport"
   ]
  },
  {
   "cell_type": "code",
   "execution_count": 22,
   "id": "38ec1070-0414-4a10-8774-979c2694ce72",
   "metadata": {},
   "outputs": [
    {
     "data": {
      "text/html": [
       "<div>\n",
       "<style scoped>\n",
       "    .dataframe tbody tr th:only-of-type {\n",
       "        vertical-align: middle;\n",
       "    }\n",
       "\n",
       "    .dataframe tbody tr th {\n",
       "        vertical-align: top;\n",
       "    }\n",
       "\n",
       "    .dataframe thead th {\n",
       "        text-align: right;\n",
       "    }\n",
       "</style>\n",
       "<table border=\"1\" class=\"dataframe\">\n",
       "  <thead>\n",
       "    <tr style=\"text-align: right;\">\n",
       "      <th></th>\n",
       "      <th>origin</th>\n",
       "      <th>taxi_in</th>\n",
       "    </tr>\n",
       "  </thead>\n",
       "  <tbody>\n",
       "    <tr>\n",
       "      <th>0</th>\n",
       "      <td>BFM</td>\n",
       "      <td>21.0</td>\n",
       "    </tr>\n",
       "    <tr>\n",
       "      <th>1</th>\n",
       "      <td>DBQ</td>\n",
       "      <td>17.0</td>\n",
       "    </tr>\n",
       "    <tr>\n",
       "      <th>2</th>\n",
       "      <td>FLO</td>\n",
       "      <td>15.0</td>\n",
       "    </tr>\n",
       "    <tr>\n",
       "      <th>3</th>\n",
       "      <td>ALO</td>\n",
       "      <td>15.0</td>\n",
       "    </tr>\n",
       "    <tr>\n",
       "      <th>4</th>\n",
       "      <td>CMI</td>\n",
       "      <td>15.0</td>\n",
       "    </tr>\n",
       "    <tr>\n",
       "      <th>...</th>\n",
       "      <td>...</td>\n",
       "      <td>...</td>\n",
       "    </tr>\n",
       "    <tr>\n",
       "      <th>368</th>\n",
       "      <td>DUT</td>\n",
       "      <td>4.0</td>\n",
       "    </tr>\n",
       "    <tr>\n",
       "      <th>369</th>\n",
       "      <td>OME</td>\n",
       "      <td>4.0</td>\n",
       "    </tr>\n",
       "    <tr>\n",
       "      <th>370</th>\n",
       "      <td>SCC</td>\n",
       "      <td>4.0</td>\n",
       "    </tr>\n",
       "    <tr>\n",
       "      <th>371</th>\n",
       "      <td>OTZ</td>\n",
       "      <td>4.0</td>\n",
       "    </tr>\n",
       "    <tr>\n",
       "      <th>372</th>\n",
       "      <td>SPN</td>\n",
       "      <td>3.0</td>\n",
       "    </tr>\n",
       "  </tbody>\n",
       "</table>\n",
       "<p>373 rows × 2 columns</p>\n",
       "</div>"
      ],
      "text/plain": [
       "    origin  taxi_in\n",
       "0      BFM     21.0\n",
       "1      DBQ     17.0\n",
       "2      FLO     15.0\n",
       "3      ALO     15.0\n",
       "4      CMI     15.0\n",
       "..     ...      ...\n",
       "368    DUT      4.0\n",
       "369    OME      4.0\n",
       "370    SCC      4.0\n",
       "371    OTZ      4.0\n",
       "372    SPN      3.0\n",
       "\n",
       "[373 rows x 2 columns]"
      ]
     },
     "execution_count": 22,
     "metadata": {},
     "output_type": "execute_result"
    }
   ],
   "source": [
    "# - **taxi_in**: \tTaxi In Time, in Minutes\n",
    "\n",
    "taxi_in_airport = df_flights.groupby(['origin']).taxi_in.mean().round(0).sort_values(ascending=False).reset_index()\n",
    "taxi_in_airport"
   ]
  },
  {
   "cell_type": "code",
   "execution_count": 23,
   "id": "c237c13c-a636-438b-bae7-da0a39f04d47",
   "metadata": {},
   "outputs": [
    {
     "data": {
      "text/html": [
       "<div>\n",
       "<style scoped>\n",
       "    .dataframe tbody tr th:only-of-type {\n",
       "        vertical-align: middle;\n",
       "    }\n",
       "\n",
       "    .dataframe tbody tr th {\n",
       "        vertical-align: top;\n",
       "    }\n",
       "\n",
       "    .dataframe thead th {\n",
       "        text-align: right;\n",
       "    }\n",
       "</style>\n",
       "<table border=\"1\" class=\"dataframe\">\n",
       "  <thead>\n",
       "    <tr style=\"text-align: right;\">\n",
       "      <th></th>\n",
       "      <th>origin</th>\n",
       "      <th>origin_airport_id</th>\n",
       "      <th>origin_city_name</th>\n",
       "    </tr>\n",
       "  </thead>\n",
       "  <tbody>\n",
       "    <tr>\n",
       "      <th>0</th>\n",
       "      <td>SFO</td>\n",
       "      <td>14771</td>\n",
       "      <td>San Francisco, CA</td>\n",
       "    </tr>\n",
       "    <tr>\n",
       "      <th>1</th>\n",
       "      <td>AVL</td>\n",
       "      <td>10431</td>\n",
       "      <td>Asheville, NC</td>\n",
       "    </tr>\n",
       "    <tr>\n",
       "      <th>2</th>\n",
       "      <td>ATL</td>\n",
       "      <td>10397</td>\n",
       "      <td>Atlanta, GA</td>\n",
       "    </tr>\n",
       "    <tr>\n",
       "      <th>3</th>\n",
       "      <td>SFO</td>\n",
       "      <td>14771</td>\n",
       "      <td>San Francisco, CA</td>\n",
       "    </tr>\n",
       "    <tr>\n",
       "      <th>4</th>\n",
       "      <td>DFW</td>\n",
       "      <td>11298</td>\n",
       "      <td>Dallas/Fort Worth, TX</td>\n",
       "    </tr>\n",
       "  </tbody>\n",
       "</table>\n",
       "</div>"
      ],
      "text/plain": [
       "  origin  origin_airport_id       origin_city_name\n",
       "0    SFO              14771      San Francisco, CA\n",
       "1    AVL              10431          Asheville, NC\n",
       "2    ATL              10397            Atlanta, GA\n",
       "3    SFO              14771      San Francisco, CA\n",
       "4    DFW              11298  Dallas/Fort Worth, TX"
      ]
     },
     "execution_count": 23,
     "metadata": {},
     "output_type": "execute_result"
    }
   ],
   "source": [
    "df_flights[['origin', 'origin_airport_id', 'origin_city_name']].head()"
   ]
  },
  {
   "cell_type": "code",
   "execution_count": 32,
   "id": "e9ada7bc-e03f-4f22-a060-0914945da8ae",
   "metadata": {},
   "outputs": [
    {
     "data": {
      "text/plain": [
       "array(['SFO', 'AVL', 'ATL', 'DFW', 'DCA', 'SGF', 'LAX', 'RIC', 'FCA',\n",
       "       'ORD', 'SAN', 'PHX', 'DEN', 'BHM', 'JFK', 'SAV', 'SEA', 'HOU',\n",
       "       'ANC', 'PHL', 'MCO', 'BUR', 'DAY', 'CVG', 'LIT', 'MKE', 'RSW',\n",
       "       'CLT', 'RDU', 'DTW', 'PIA', 'SBA', 'IND', 'JAC', 'LGA', 'BWI',\n",
       "       'TUL', 'SDF', 'TYS', 'ALB', 'SMF', 'MSY', 'MDW', 'DAL', 'CMH',\n",
       "       'PBI', 'SHV', 'BOS', 'PSP', 'MOB', 'LAS', 'MCI', 'GFK', 'EWR',\n",
       "       'SJC', 'TPA', 'STL', 'FLL', 'BNA', 'CLE', 'MFE', 'ONT', 'ACY',\n",
       "       'MSP', 'JAX', 'HNL', 'MIA', 'ROA', 'SLC', 'GTR', 'IAH', 'SUN',\n",
       "       'SCE', 'BIL', 'CHS', 'EVV', 'PIE', 'PDX', 'BTV', 'LFT', 'LEX',\n",
       "       'BUF', 'ROC', 'MSN', 'GNV', 'BFL', 'BIS', 'SYR', 'ISP', 'AUS',\n",
       "       'OAK', 'MDT', 'LNY', 'HSV', 'EYW', 'AMA', 'XNA', 'SNA', 'MSO',\n",
       "       'PIT', 'BQN', 'GSP', 'LAN', 'BDL', 'BTR', 'HPN', 'PWM', 'OMA',\n",
       "       'IAD', 'MMH', 'CHO', 'TUS', 'AZA', 'JNU', 'JHM', 'FSD', 'COS',\n",
       "       'MEM', 'CID', 'GEG', 'ORF', 'SJU', 'RFD', 'GRR', 'RNO', 'PVD',\n",
       "       'SRQ', 'LRD', 'USA', 'SLN', 'BLI', 'CRW', 'ABQ', 'KOA', 'GJT',\n",
       "       'PHF', 'ATW', 'OKC', 'PUB', 'FWA', 'MFR', 'GSO', 'HTS', 'RAP',\n",
       "       'ITH', 'CRP', 'SFB', 'CAE', 'SAT', 'AVP', 'SBP', 'EUG', 'VPS',\n",
       "       'ACT', 'CWA', 'FAR', 'FAT', 'PNS', 'BOI', 'CHA', 'GRK', 'GRB',\n",
       "       'MLI', 'LAW', 'OGG', 'HHH', 'MAF', 'PIH', 'BJI', 'BRO', 'MYR',\n",
       "       'PSC', 'TOL', 'GPT', 'LSE', 'DBQ', 'ROW', 'DRO', 'BMI', 'HLN',\n",
       "       'OAJ', 'GGG', 'FAI', 'HRL', 'HDN', 'AZO', 'ABE', 'BGR', 'DAB',\n",
       "       'HYS', 'FSM', 'MLB', 'GCC', 'MLU', 'MHT', 'TRI', 'RST', 'LBL',\n",
       "       'SWO', 'ABY', 'DSM', 'ILM', 'RDD', 'LIH', 'BZN', 'MTJ', 'ELP',\n",
       "       'KTN', 'ICT', 'LGB', 'PVU', 'PGD', 'PBG', 'COU', 'MOT', 'XWA',\n",
       "       'SPI', 'FNT', 'PSE', 'FLO', 'SAF', 'CAK', 'EGE', 'PSG', 'ECP',\n",
       "       'ERI', 'JAN', 'TTN', 'JLN', 'CLL', 'RDM', 'ACK', 'TVC', 'GRI',\n",
       "       'AGS', 'EAU', 'SUX', 'STX', 'FAY', 'BTM', 'MHK', 'MRY', 'ITO',\n",
       "       'ALO', 'MQT', 'YKM', 'SWF', 'ABI', 'MGM', 'OME', 'ASE', 'EAR',\n",
       "       'GUM', 'TXK', 'STS', 'SGU', 'TWF', 'STT', 'PLN', 'BQK', 'LBF',\n",
       "       'SPS', 'LBB', 'PAE', 'MBS', 'TLH', 'CMI', 'IMT', 'BFF', 'HVN',\n",
       "       'PIB', 'ISN', 'CSG', 'WRG', 'EWN', 'LNK', 'LCK', 'BFM', 'TYR',\n",
       "       'BLV', 'PRC', 'FLG', 'LBE', 'SIT', 'SBN', 'ACV', 'CDV', 'CPR',\n",
       "       'DLH', 'LAR', 'GTF', 'ABR', 'ADQ', 'OTH', 'PAH', 'PGV', 'IAG',\n",
       "       'ELM', 'EKO', 'WYS', 'JMS', 'RHI', 'CGI', 'AEX', 'VLD', 'IDA',\n",
       "       'PUW', 'INL', 'ART', 'YAK', 'ORH', 'DHN', 'SBY', 'SCC', 'YUM',\n",
       "       'PIR', 'LCH', 'SJT', 'DVL', 'GUC', 'ESC', 'HOB', 'MEI', 'IPT',\n",
       "       'CIU', 'DUT', 'COD', 'LYH', 'BRD', 'EAT', 'VEL', 'ATY', 'ALW',\n",
       "       'SHD', 'LWB', 'DRT', 'MKK', 'CKB', 'SCK', 'MVY', 'LWS', 'UIN',\n",
       "       'CMX', 'BPT', 'OTZ', 'PQI', 'APN', 'DIK', 'MKG', 'PPG', 'STC',\n",
       "       'BGM', 'OGS', 'CYS', 'BET', 'BKG', 'RKS', 'HIB', 'SPN', 'BRW',\n",
       "       'OWB', 'PSM', 'ADK', 'GCK', 'SMX', 'CNY', 'HGR', 'CDC', 'HYA',\n",
       "       'OGD', 'GST', 'AKN', 'DLG'], dtype=object)"
      ]
     },
     "execution_count": 32,
     "metadata": {},
     "output_type": "execute_result"
    }
   ],
   "source": [
    "df_flights['origin'].unique()"
   ]
  },
  {
   "cell_type": "code",
   "execution_count": 33,
   "id": "88a17527-7762-48be-87d5-a6ef2d547af7",
   "metadata": {},
   "outputs": [
    {
     "data": {
      "text/plain": [
       "373"
      ]
     },
     "execution_count": 33,
     "metadata": {},
     "output_type": "execute_result"
    }
   ],
   "source": [
    "df_flights['origin'].nunique()"
   ]
  },
  {
   "cell_type": "code",
   "execution_count": 34,
   "id": "7d670fdd-a17c-4fc2-85a1-c1bf4d44b5b7",
   "metadata": {},
   "outputs": [
    {
     "data": {
      "text/plain": [
       "373"
      ]
     },
     "execution_count": 34,
     "metadata": {},
     "output_type": "execute_result"
    }
   ],
   "source": [
    "df_flights['origin_airport_id'].nunique()"
   ]
  },
  {
   "cell_type": "code",
   "execution_count": 35,
   "id": "9fb22625-d128-4a51-8bcd-a5fbb1e28104",
   "metadata": {},
   "outputs": [
    {
     "data": {
      "text/plain": [
       "365"
      ]
     },
     "execution_count": 35,
     "metadata": {},
     "output_type": "execute_result"
    }
   ],
   "source": [
    "df_flights['origin_city_name'].nunique()"
   ]
  },
  {
   "cell_type": "markdown",
   "id": "fbd45c22-1b1c-4985-af79-f53685c53e06",
   "metadata": {},
   "source": [
    "- origin: Origin Airport and origin_city_name: Origin Airport, City Name, seem to be the same, i choose to use origin for simplicity.\n",
    "\n",
    "- origin_airport_id: Origin Airport, Airport ID is an identification number. Use this field for airport analysis across a range of years because an airport can change its airport code and airport codes can be reused. origin_airport_id, has codes in it, hence we can drop this feature.\n"
   ]
  },
  {
   "cell_type": "code",
   "execution_count": 24,
   "id": "508bff4d-fa1e-41a4-bc0a-54bc54bb1c80",
   "metadata": {},
   "outputs": [],
   "source": [
    "df_flights = df_flights.drop(columns=['origin_airport_id', 'origin_city_name'])\n",
    "df_flights_test = df_flights_test.drop(columns=['origin_airport_id', 'origin_city_name'])"
   ]
  },
  {
   "cell_type": "code",
   "execution_count": 37,
   "id": "ad020cfd-751d-4ddf-9f60-337448739022",
   "metadata": {},
   "outputs": [
    {
     "data": {
      "text/plain": [
       "Index(['fl_date', 'mkt_unique_carrier', 'mkt_carrier_fl_num',\n",
       "       'op_unique_carrier', 'tail_num', 'op_carrier_fl_num', 'origin',\n",
       "       'dest_airport_id', 'dest', 'dest_city_name', 'crs_dep_time',\n",
       "       'crs_arr_time', 'dup', 'crs_elapsed_time', 'flights', 'distance',\n",
       "       'arr_delay', 'carrier_delay', 'weather_delay', 'dep_delay', 'taxi_out',\n",
       "       'taxi_in'],\n",
       "      dtype='object')"
      ]
     },
     "execution_count": 37,
     "metadata": {},
     "output_type": "execute_result"
    }
   ],
   "source": [
    "df_flights.columns"
   ]
  },
  {
   "cell_type": "code",
   "execution_count": 38,
   "id": "28421624-9a88-47c1-b2b8-cf01fbad55db",
   "metadata": {},
   "outputs": [
    {
     "data": {
      "text/plain": [
       "Index(['fl_date', 'mkt_unique_carrier', 'mkt_carrier_fl_num',\n",
       "       'op_unique_carrier', 'tail_num', 'op_carrier_fl_num', 'origin',\n",
       "       'dest_airport_id', 'dest', 'dest_city_name', 'crs_dep_time',\n",
       "       'crs_arr_time', 'dup', 'crs_elapsed_time', 'flights', 'distance'],\n",
       "      dtype='object')"
      ]
     },
     "execution_count": 38,
     "metadata": {},
     "output_type": "execute_result"
    }
   ],
   "source": [
    "df_flights_test.columns"
   ]
  },
  {
   "cell_type": "markdown",
   "id": "95e94e55-1036-4121-bc6e-bfff1057a287",
   "metadata": {},
   "source": [
    "### weather_delay Analysis at destination airport"
   ]
  },
  {
   "cell_type": "code",
   "execution_count": 25,
   "id": "48dd5ec0-3f9f-4709-839a-75e5a4847ad4",
   "metadata": {},
   "outputs": [],
   "source": [
    "# weather delay in the origin airport\n",
    "\n",
    "weather_delay_dest_airport = df_flights.groupby(['dest']).weather_delay.mean().round(0).sort_values(ascending=False)\n",
    "weather_delay_dest_airport= weather_delay_dest_airport.reset_index()"
   ]
  },
  {
   "cell_type": "code",
   "execution_count": 26,
   "id": "ecb9ff3f-5d27-432b-a0dd-edae1cba42c5",
   "metadata": {},
   "outputs": [
    {
     "data": {
      "text/html": [
       "<div>\n",
       "<style scoped>\n",
       "    .dataframe tbody tr th:only-of-type {\n",
       "        vertical-align: middle;\n",
       "    }\n",
       "\n",
       "    .dataframe tbody tr th {\n",
       "        vertical-align: top;\n",
       "    }\n",
       "\n",
       "    .dataframe thead th {\n",
       "        text-align: right;\n",
       "    }\n",
       "</style>\n",
       "<table border=\"1\" class=\"dataframe\">\n",
       "  <thead>\n",
       "    <tr style=\"text-align: right;\">\n",
       "      <th></th>\n",
       "      <th>dest</th>\n",
       "      <th>weather_delay</th>\n",
       "    </tr>\n",
       "  </thead>\n",
       "  <tbody>\n",
       "    <tr>\n",
       "      <th>0</th>\n",
       "      <td>OWB</td>\n",
       "      <td>67.0</td>\n",
       "    </tr>\n",
       "    <tr>\n",
       "      <th>1</th>\n",
       "      <td>GGG</td>\n",
       "      <td>18.0</td>\n",
       "    </tr>\n",
       "    <tr>\n",
       "      <th>2</th>\n",
       "      <td>CIU</td>\n",
       "      <td>18.0</td>\n",
       "    </tr>\n",
       "    <tr>\n",
       "      <th>3</th>\n",
       "      <td>GUC</td>\n",
       "      <td>16.0</td>\n",
       "    </tr>\n",
       "    <tr>\n",
       "      <th>4</th>\n",
       "      <td>TYR</td>\n",
       "      <td>14.0</td>\n",
       "    </tr>\n",
       "    <tr>\n",
       "      <th>...</th>\n",
       "      <td>...</td>\n",
       "      <td>...</td>\n",
       "    </tr>\n",
       "    <tr>\n",
       "      <th>368</th>\n",
       "      <td>BFM</td>\n",
       "      <td>0.0</td>\n",
       "    </tr>\n",
       "    <tr>\n",
       "      <th>369</th>\n",
       "      <td>DLG</td>\n",
       "      <td>0.0</td>\n",
       "    </tr>\n",
       "    <tr>\n",
       "      <th>370</th>\n",
       "      <td>GST</td>\n",
       "      <td>0.0</td>\n",
       "    </tr>\n",
       "    <tr>\n",
       "      <th>371</th>\n",
       "      <td>HYA</td>\n",
       "      <td>0.0</td>\n",
       "    </tr>\n",
       "    <tr>\n",
       "      <th>372</th>\n",
       "      <td>OGD</td>\n",
       "      <td>0.0</td>\n",
       "    </tr>\n",
       "  </tbody>\n",
       "</table>\n",
       "<p>373 rows × 2 columns</p>\n",
       "</div>"
      ],
      "text/plain": [
       "    dest  weather_delay\n",
       "0    OWB           67.0\n",
       "1    GGG           18.0\n",
       "2    CIU           18.0\n",
       "3    GUC           16.0\n",
       "4    TYR           14.0\n",
       "..   ...            ...\n",
       "368  BFM            0.0\n",
       "369  DLG            0.0\n",
       "370  GST            0.0\n",
       "371  HYA            0.0\n",
       "372  OGD            0.0\n",
       "\n",
       "[373 rows x 2 columns]"
      ]
     },
     "execution_count": 26,
     "metadata": {},
     "output_type": "execute_result"
    }
   ],
   "source": [
    "# Filling NAN with zero\n",
    "\n",
    "weather_delay_dest_airport.fillna(0,inplace= True)\n",
    "weather_delay_dest_airport\n",
    "\n",
    "# Should i bin the values???"
   ]
  },
  {
   "cell_type": "markdown",
   "id": "5238787c-5bb1-42f1-b927-435db0fb81e0",
   "metadata": {},
   "source": [
    "### I think we can do the same analysis for the destination airport and drop the columns dest_airport_id and dest_city_name"
   ]
  },
  {
   "cell_type": "code",
   "execution_count": 27,
   "id": "c24aecba-2616-42f2-8414-f4b01ed84f66",
   "metadata": {},
   "outputs": [],
   "source": [
    "df_flights = df_flights.drop(columns=['dest_airport_id', 'dest_city_name'])"
   ]
  },
  {
   "cell_type": "code",
   "execution_count": 28,
   "id": "d216074b-6929-4b04-85bd-501bb5055b42",
   "metadata": {},
   "outputs": [],
   "source": [
    "df_flights_test = df_flights_test.drop(columns=['dest_airport_id', 'dest_city_name'])"
   ]
  },
  {
   "cell_type": "code",
   "execution_count": 43,
   "id": "0c45e621-ad08-4651-bf13-73eedfbe2c56",
   "metadata": {},
   "outputs": [
    {
     "data": {
      "text/plain": [
       "Index(['fl_date', 'mkt_unique_carrier', 'mkt_carrier_fl_num',\n",
       "       'op_unique_carrier', 'tail_num', 'op_carrier_fl_num', 'origin', 'dest',\n",
       "       'crs_dep_time', 'crs_arr_time', 'dup', 'crs_elapsed_time', 'flights',\n",
       "       'distance'],\n",
       "      dtype='object')"
      ]
     },
     "execution_count": 43,
     "metadata": {},
     "output_type": "execute_result"
    }
   ],
   "source": [
    "df_flights_test.columns"
   ]
  },
  {
   "cell_type": "code",
   "execution_count": 29,
   "id": "f26a5582-1814-4af3-8408-056216ef6a51",
   "metadata": {},
   "outputs": [
    {
     "data": {
      "text/plain": [
       "array(['N'], dtype=object)"
      ]
     },
     "execution_count": 29,
     "metadata": {},
     "output_type": "execute_result"
    }
   ],
   "source": [
    "# The dup column has only data 'N'\n",
    "df_flights['dup'].unique()"
   ]
  },
  {
   "cell_type": "code",
   "execution_count": 30,
   "id": "b6eb87cd-ee95-4321-9010-a49737fe18f0",
   "metadata": {},
   "outputs": [],
   "source": [
    "# drop the dup column from both training and test data\n",
    "df_flights = df_flights.drop(columns=['dup'])\n",
    "\n",
    "df_flights_test = df_flights_test.drop(columns=['dup'])"
   ]
  },
  {
   "cell_type": "markdown",
   "id": "3a91adce-9282-40c7-bf12-4460867077b4",
   "metadata": {},
   "source": [
    "### Relation between 'mkt_carrier_fl_num' and 'op_carrier_fl_num'"
   ]
  },
  {
   "cell_type": "code",
   "execution_count": 31,
   "id": "2034060b-ad68-4399-a8a7-943facfeee47",
   "metadata": {},
   "outputs": [
    {
     "data": {
      "text/plain": [
       "mkt_carrier_fl_num    46\n",
       "op_carrier_fl_num     46\n",
       "dtype: int64"
      ]
     },
     "execution_count": 31,
     "metadata": {},
     "output_type": "execute_result"
    }
   ],
   "source": [
    "df_flights[df_flights['mkt_carrier_fl_num'] != df_flights['op_carrier_fl_num']][['mkt_carrier_fl_num', 'op_carrier_fl_num']].count()"
   ]
  },
  {
   "cell_type": "markdown",
   "id": "1bc812ce-2baf-4d21-9292-e061e94b4320",
   "metadata": {},
   "source": [
    "- 46 rows that has the difference between 'mkt_carrier_fl_num' and 'op_carrier_fl_num'\n",
    "we can assume they are almost the same. Drop one of them"
   ]
  },
  {
   "cell_type": "code",
   "execution_count": 32,
   "id": "a145ce20-6a25-46ee-874d-675851aea4eb",
   "metadata": {},
   "outputs": [],
   "source": [
    "df_flights = df_flights.drop(columns=['op_carrier_fl_num'])\n",
    "df_flights_test = df_flights_test.drop(columns=['op_carrier_fl_num'])"
   ]
  },
  {
   "cell_type": "code",
   "execution_count": 33,
   "id": "eba2a20d-5222-48db-8e94-7c7723f5a3fb",
   "metadata": {},
   "outputs": [],
   "source": [
    "# Flights has only 1 value = 1\n",
    "df_flights['flights'].unique()\n",
    "\n",
    "# Drop the flights column\n",
    "df_flights = df_flights.drop(columns=['flights'])\n",
    "df_flights_test = df_flights_test.drop(columns=['flights'])"
   ]
  },
  {
   "cell_type": "code",
   "execution_count": 49,
   "id": "e49b498d-a76f-4715-8a3e-bf155652c837",
   "metadata": {},
   "outputs": [
    {
     "data": {
      "text/plain": [
       "Index(['fl_date', 'mkt_unique_carrier', 'mkt_carrier_fl_num',\n",
       "       'op_unique_carrier', 'tail_num', 'origin', 'dest', 'crs_dep_time',\n",
       "       'crs_arr_time', 'crs_elapsed_time', 'distance', 'arr_delay',\n",
       "       'carrier_delay', 'weather_delay', 'dep_delay', 'taxi_out', 'taxi_in'],\n",
       "      dtype='object')"
      ]
     },
     "execution_count": 49,
     "metadata": {},
     "output_type": "execute_result"
    }
   ],
   "source": [
    "df_flights.columns"
   ]
  },
  {
   "cell_type": "code",
   "execution_count": 50,
   "id": "60078106-7b3b-4981-9f63-a1e88e6ab9f1",
   "metadata": {},
   "outputs": [],
   "source": [
    "#'taxi_out', 'taxi_in', i dont know if they have significance"
   ]
  },
  {
   "cell_type": "code",
   "execution_count": null,
   "id": "485f2c76-efb9-4e05-88b5-b535d286a08e",
   "metadata": {},
   "outputs": [],
   "source": [
    "# 'carrier_delay', 'weather_delay', keeping this"
   ]
  },
  {
   "cell_type": "code",
   "execution_count": null,
   "id": "aa741eca-7305-4acc-8321-95640dda0282",
   "metadata": {},
   "outputs": [],
   "source": [
    " # 'dep_delay', i dont know what to do with this"
   ]
  },
  {
   "cell_type": "code",
   "execution_count": 36,
   "id": "cedb2b3a-fe04-42a3-8882-952e79bf3917",
   "metadata": {},
   "outputs": [],
   "source": [
    "# filling NAN values to zero\n",
    "\n",
    "df['carrier_delay'].fillna(0,inplace= True)\n",
    "df['weather_delay'].fillna(0,inplace= True)"
   ]
  },
  {
   "cell_type": "code",
   "execution_count": 37,
   "id": "b3765eb2-2915-4ef6-88fe-60e7409d4872",
   "metadata": {},
   "outputs": [],
   "source": [
    "# Dropping unwanted features\n",
    "\n",
    "#'carrier_delay', 'weather_delay', \n",
    "\n",
    "df.drop(['mkt_carrier', 'branded_code_share','cancelled', 'cancellation_code', \n",
    "         'nas_delay',  'security_delay','late_aircraft_delay', 'taxi_out', 'wheels_off', 'wheels_on', 'taxi_in', \n",
    "        'no_name', 'first_dep_time','total_add_gtime', 'longest_add_gtime', 'origin', 'dest', 'tail_num', 'dup', \n",
    "        'diverted','flights', 'dep_delay', 'op_carrier_fl_num', 'op_unique_carrier', 'distance', 'fl_date'], \n",
    "        axis=1, inplace=True)"
   ]
  },
  {
   "cell_type": "code",
   "execution_count": 38,
   "id": "d21223fe-1e1e-4eef-9640-bf3fc99f3b1e",
   "metadata": {},
   "outputs": [
    {
     "data": {
      "text/html": [
       "<div>\n",
       "<style scoped>\n",
       "    .dataframe tbody tr th:only-of-type {\n",
       "        vertical-align: middle;\n",
       "    }\n",
       "\n",
       "    .dataframe tbody tr th {\n",
       "        vertical-align: top;\n",
       "    }\n",
       "\n",
       "    .dataframe thead th {\n",
       "        text-align: right;\n",
       "    }\n",
       "</style>\n",
       "<table border=\"1\" class=\"dataframe\">\n",
       "  <thead>\n",
       "    <tr style=\"text-align: right;\">\n",
       "      <th></th>\n",
       "      <th>mkt_unique_carrier</th>\n",
       "      <th>mkt_carrier_fl_num</th>\n",
       "      <th>origin_airport_id</th>\n",
       "      <th>origin_city_name</th>\n",
       "      <th>dest_airport_id</th>\n",
       "      <th>dest_city_name</th>\n",
       "      <th>crs_dep_time</th>\n",
       "      <th>dep_time</th>\n",
       "      <th>crs_arr_time</th>\n",
       "      <th>arr_time</th>\n",
       "      <th>arr_delay</th>\n",
       "      <th>crs_elapsed_time</th>\n",
       "      <th>actual_elapsed_time</th>\n",
       "      <th>air_time</th>\n",
       "      <th>carrier_delay</th>\n",
       "      <th>weather_delay</th>\n",
       "      <th>month</th>\n",
       "      <th>day</th>\n",
       "      <th>year</th>\n",
       "    </tr>\n",
       "  </thead>\n",
       "  <tbody>\n",
       "    <tr>\n",
       "      <th>0</th>\n",
       "      <td>AA</td>\n",
       "      <td>1059</td>\n",
       "      <td>14771</td>\n",
       "      <td>San Francisco, CA</td>\n",
       "      <td>12892</td>\n",
       "      <td>Los Angeles, CA</td>\n",
       "      <td>1026</td>\n",
       "      <td>1022.0</td>\n",
       "      <td>1205</td>\n",
       "      <td>1143.0</td>\n",
       "      <td>-22.0</td>\n",
       "      <td>99</td>\n",
       "      <td>81.0</td>\n",
       "      <td>58.0</td>\n",
       "      <td>0.0</td>\n",
       "      <td>0.0</td>\n",
       "      <td>9</td>\n",
       "      <td>5</td>\n",
       "      <td>2019</td>\n",
       "    </tr>\n",
       "    <tr>\n",
       "      <th>1</th>\n",
       "      <td>DL</td>\n",
       "      <td>1216</td>\n",
       "      <td>10431</td>\n",
       "      <td>Asheville, NC</td>\n",
       "      <td>10397</td>\n",
       "      <td>Atlanta, GA</td>\n",
       "      <td>600</td>\n",
       "      <td>553.0</td>\n",
       "      <td>701</td>\n",
       "      <td>648.0</td>\n",
       "      <td>-13.0</td>\n",
       "      <td>61</td>\n",
       "      <td>55.0</td>\n",
       "      <td>33.0</td>\n",
       "      <td>0.0</td>\n",
       "      <td>0.0</td>\n",
       "      <td>6</td>\n",
       "      <td>1</td>\n",
       "      <td>2019</td>\n",
       "    </tr>\n",
       "    <tr>\n",
       "      <th>2</th>\n",
       "      <td>UA</td>\n",
       "      <td>236</td>\n",
       "      <td>10397</td>\n",
       "      <td>Atlanta, GA</td>\n",
       "      <td>12264</td>\n",
       "      <td>Washington, DC</td>\n",
       "      <td>1430</td>\n",
       "      <td>1427.0</td>\n",
       "      <td>1617</td>\n",
       "      <td>1630.0</td>\n",
       "      <td>13.0</td>\n",
       "      <td>107</td>\n",
       "      <td>123.0</td>\n",
       "      <td>89.0</td>\n",
       "      <td>0.0</td>\n",
       "      <td>0.0</td>\n",
       "      <td>6</td>\n",
       "      <td>2</td>\n",
       "      <td>2019</td>\n",
       "    </tr>\n",
       "    <tr>\n",
       "      <th>3</th>\n",
       "      <td>AS</td>\n",
       "      <td>1936</td>\n",
       "      <td>14771</td>\n",
       "      <td>San Francisco, CA</td>\n",
       "      <td>12892</td>\n",
       "      <td>Los Angeles, CA</td>\n",
       "      <td>1800</td>\n",
       "      <td>1841.0</td>\n",
       "      <td>1935</td>\n",
       "      <td>2009.0</td>\n",
       "      <td>34.0</td>\n",
       "      <td>95</td>\n",
       "      <td>88.0</td>\n",
       "      <td>54.0</td>\n",
       "      <td>2.0</td>\n",
       "      <td>0.0</td>\n",
       "      <td>9</td>\n",
       "      <td>2</td>\n",
       "      <td>2019</td>\n",
       "    </tr>\n",
       "    <tr>\n",
       "      <th>4</th>\n",
       "      <td>AA</td>\n",
       "      <td>5714</td>\n",
       "      <td>11298</td>\n",
       "      <td>Dallas/Fort Worth, TX</td>\n",
       "      <td>11973</td>\n",
       "      <td>Gulfport/Biloxi, MS</td>\n",
       "      <td>1025</td>\n",
       "      <td>1211.0</td>\n",
       "      <td>1203</td>\n",
       "      <td>1347.0</td>\n",
       "      <td>104.0</td>\n",
       "      <td>98</td>\n",
       "      <td>96.0</td>\n",
       "      <td>72.0</td>\n",
       "      <td>22.0</td>\n",
       "      <td>0.0</td>\n",
       "      <td>5</td>\n",
       "      <td>6</td>\n",
       "      <td>2019</td>\n",
       "    </tr>\n",
       "  </tbody>\n",
       "</table>\n",
       "</div>"
      ],
      "text/plain": [
       "  mkt_unique_carrier  mkt_carrier_fl_num  origin_airport_id  \\\n",
       "0                 AA                1059              14771   \n",
       "1                 DL                1216              10431   \n",
       "2                 UA                 236              10397   \n",
       "3                 AS                1936              14771   \n",
       "4                 AA                5714              11298   \n",
       "\n",
       "        origin_city_name  dest_airport_id       dest_city_name  crs_dep_time  \\\n",
       "0      San Francisco, CA            12892      Los Angeles, CA          1026   \n",
       "1          Asheville, NC            10397          Atlanta, GA           600   \n",
       "2            Atlanta, GA            12264       Washington, DC          1430   \n",
       "3      San Francisco, CA            12892      Los Angeles, CA          1800   \n",
       "4  Dallas/Fort Worth, TX            11973  Gulfport/Biloxi, MS          1025   \n",
       "\n",
       "   dep_time  crs_arr_time  arr_time  arr_delay  crs_elapsed_time  \\\n",
       "0    1022.0          1205    1143.0      -22.0                99   \n",
       "1     553.0           701     648.0      -13.0                61   \n",
       "2    1427.0          1617    1630.0       13.0               107   \n",
       "3    1841.0          1935    2009.0       34.0                95   \n",
       "4    1211.0          1203    1347.0      104.0                98   \n",
       "\n",
       "   actual_elapsed_time  air_time  carrier_delay  weather_delay  month  day  \\\n",
       "0                 81.0      58.0            0.0            0.0      9    5   \n",
       "1                 55.0      33.0            0.0            0.0      6    1   \n",
       "2                123.0      89.0            0.0            0.0      6    2   \n",
       "3                 88.0      54.0            2.0            0.0      9    2   \n",
       "4                 96.0      72.0           22.0            0.0      5    6   \n",
       "\n",
       "   year  \n",
       "0  2019  \n",
       "1  2019  \n",
       "2  2019  \n",
       "3  2019  \n",
       "4  2019  "
      ]
     },
     "execution_count": 38,
     "metadata": {},
     "output_type": "execute_result"
    }
   ],
   "source": [
    "df.head()"
   ]
  },
  {
   "cell_type": "code",
   "execution_count": 39,
   "id": "5acec96a-51eb-4222-a693-5a90bc93c7f4",
   "metadata": {},
   "outputs": [],
   "source": [
    "df['mkt_unique_carrier'].replace({\n",
    "    'AA': 0,\n",
    "    'DL': 1,\n",
    "    'UA': 2,\n",
    "    'AS': 3,\n",
    "    'WN': 4,\n",
    "    'B6': 5,\n",
    "    'HA': 6,\n",
    "    'F9': 7,\n",
    "    'NK': 8,\n",
    "    'G4': 9\n",
    "    \n",
    "}, inplace = True)"
   ]
  },
  {
   "cell_type": "code",
   "execution_count": 56,
   "id": "d03b702b-b33d-4a9c-8522-81d37b7302bf",
   "metadata": {},
   "outputs": [
    {
     "data": {
      "text/html": [
       "<div>\n",
       "<style scoped>\n",
       "    .dataframe tbody tr th:only-of-type {\n",
       "        vertical-align: middle;\n",
       "    }\n",
       "\n",
       "    .dataframe tbody tr th {\n",
       "        vertical-align: top;\n",
       "    }\n",
       "\n",
       "    .dataframe thead th {\n",
       "        text-align: right;\n",
       "    }\n",
       "</style>\n",
       "<table border=\"1\" class=\"dataframe\">\n",
       "  <thead>\n",
       "    <tr style=\"text-align: right;\">\n",
       "      <th></th>\n",
       "      <th>mkt_unique_carrier</th>\n",
       "      <th>mkt_carrier_fl_num</th>\n",
       "      <th>origin_airport_id</th>\n",
       "      <th>origin_city_name</th>\n",
       "      <th>dest_airport_id</th>\n",
       "      <th>dest_city_name</th>\n",
       "      <th>crs_dep_time</th>\n",
       "      <th>dep_time</th>\n",
       "      <th>crs_arr_time</th>\n",
       "      <th>arr_time</th>\n",
       "      <th>arr_delay</th>\n",
       "      <th>crs_elapsed_time</th>\n",
       "      <th>actual_elapsed_time</th>\n",
       "      <th>air_time</th>\n",
       "      <th>carrier_delay</th>\n",
       "      <th>weather_delay</th>\n",
       "      <th>month</th>\n",
       "      <th>day</th>\n",
       "      <th>year</th>\n",
       "    </tr>\n",
       "  </thead>\n",
       "  <tbody>\n",
       "    <tr>\n",
       "      <th>0</th>\n",
       "      <td>0</td>\n",
       "      <td>1059</td>\n",
       "      <td>14771</td>\n",
       "      <td>San Francisco, CA</td>\n",
       "      <td>12892</td>\n",
       "      <td>Los Angeles, CA</td>\n",
       "      <td>1026</td>\n",
       "      <td>1022.0</td>\n",
       "      <td>1205</td>\n",
       "      <td>1143.0</td>\n",
       "      <td>-22.0</td>\n",
       "      <td>99</td>\n",
       "      <td>81.0</td>\n",
       "      <td>58.0</td>\n",
       "      <td>0.0</td>\n",
       "      <td>0.0</td>\n",
       "      <td>9</td>\n",
       "      <td>5</td>\n",
       "      <td>2019</td>\n",
       "    </tr>\n",
       "    <tr>\n",
       "      <th>1</th>\n",
       "      <td>1</td>\n",
       "      <td>1216</td>\n",
       "      <td>10431</td>\n",
       "      <td>Asheville, NC</td>\n",
       "      <td>10397</td>\n",
       "      <td>Atlanta, GA</td>\n",
       "      <td>600</td>\n",
       "      <td>553.0</td>\n",
       "      <td>701</td>\n",
       "      <td>648.0</td>\n",
       "      <td>-13.0</td>\n",
       "      <td>61</td>\n",
       "      <td>55.0</td>\n",
       "      <td>33.0</td>\n",
       "      <td>0.0</td>\n",
       "      <td>0.0</td>\n",
       "      <td>6</td>\n",
       "      <td>1</td>\n",
       "      <td>2019</td>\n",
       "    </tr>\n",
       "    <tr>\n",
       "      <th>2</th>\n",
       "      <td>2</td>\n",
       "      <td>236</td>\n",
       "      <td>10397</td>\n",
       "      <td>Atlanta, GA</td>\n",
       "      <td>12264</td>\n",
       "      <td>Washington, DC</td>\n",
       "      <td>1430</td>\n",
       "      <td>1427.0</td>\n",
       "      <td>1617</td>\n",
       "      <td>1630.0</td>\n",
       "      <td>13.0</td>\n",
       "      <td>107</td>\n",
       "      <td>123.0</td>\n",
       "      <td>89.0</td>\n",
       "      <td>0.0</td>\n",
       "      <td>0.0</td>\n",
       "      <td>6</td>\n",
       "      <td>2</td>\n",
       "      <td>2019</td>\n",
       "    </tr>\n",
       "    <tr>\n",
       "      <th>3</th>\n",
       "      <td>3</td>\n",
       "      <td>1936</td>\n",
       "      <td>14771</td>\n",
       "      <td>San Francisco, CA</td>\n",
       "      <td>12892</td>\n",
       "      <td>Los Angeles, CA</td>\n",
       "      <td>1800</td>\n",
       "      <td>1841.0</td>\n",
       "      <td>1935</td>\n",
       "      <td>2009.0</td>\n",
       "      <td>34.0</td>\n",
       "      <td>95</td>\n",
       "      <td>88.0</td>\n",
       "      <td>54.0</td>\n",
       "      <td>2.0</td>\n",
       "      <td>0.0</td>\n",
       "      <td>9</td>\n",
       "      <td>2</td>\n",
       "      <td>2019</td>\n",
       "    </tr>\n",
       "    <tr>\n",
       "      <th>4</th>\n",
       "      <td>0</td>\n",
       "      <td>5714</td>\n",
       "      <td>11298</td>\n",
       "      <td>Dallas/Fort Worth, TX</td>\n",
       "      <td>11973</td>\n",
       "      <td>Gulfport/Biloxi, MS</td>\n",
       "      <td>1025</td>\n",
       "      <td>1211.0</td>\n",
       "      <td>1203</td>\n",
       "      <td>1347.0</td>\n",
       "      <td>104.0</td>\n",
       "      <td>98</td>\n",
       "      <td>96.0</td>\n",
       "      <td>72.0</td>\n",
       "      <td>22.0</td>\n",
       "      <td>0.0</td>\n",
       "      <td>5</td>\n",
       "      <td>6</td>\n",
       "      <td>2019</td>\n",
       "    </tr>\n",
       "  </tbody>\n",
       "</table>\n",
       "</div>"
      ],
      "text/plain": [
       "   mkt_unique_carrier  mkt_carrier_fl_num  origin_airport_id  \\\n",
       "0                   0                1059              14771   \n",
       "1                   1                1216              10431   \n",
       "2                   2                 236              10397   \n",
       "3                   3                1936              14771   \n",
       "4                   0                5714              11298   \n",
       "\n",
       "        origin_city_name  dest_airport_id       dest_city_name  crs_dep_time  \\\n",
       "0      San Francisco, CA            12892      Los Angeles, CA          1026   \n",
       "1          Asheville, NC            10397          Atlanta, GA           600   \n",
       "2            Atlanta, GA            12264       Washington, DC          1430   \n",
       "3      San Francisco, CA            12892      Los Angeles, CA          1800   \n",
       "4  Dallas/Fort Worth, TX            11973  Gulfport/Biloxi, MS          1025   \n",
       "\n",
       "   dep_time  crs_arr_time  arr_time  arr_delay  crs_elapsed_time  \\\n",
       "0    1022.0          1205    1143.0      -22.0                99   \n",
       "1     553.0           701     648.0      -13.0                61   \n",
       "2    1427.0          1617    1630.0       13.0               107   \n",
       "3    1841.0          1935    2009.0       34.0                95   \n",
       "4    1211.0          1203    1347.0      104.0                98   \n",
       "\n",
       "   actual_elapsed_time  air_time  carrier_delay  weather_delay  month  day  \\\n",
       "0                 81.0      58.0            0.0            0.0      9    5   \n",
       "1                 55.0      33.0            0.0            0.0      6    1   \n",
       "2                123.0      89.0            0.0            0.0      6    2   \n",
       "3                 88.0      54.0            2.0            0.0      9    2   \n",
       "4                 96.0      72.0           22.0            0.0      5    6   \n",
       "\n",
       "   year  \n",
       "0  2019  \n",
       "1  2019  \n",
       "2  2019  \n",
       "3  2019  \n",
       "4  2019  "
      ]
     },
     "execution_count": 56,
     "metadata": {},
     "output_type": "execute_result"
    }
   ],
   "source": [
    "df.head()"
   ]
  },
  {
   "cell_type": "code",
   "execution_count": null,
   "id": "4fd77728-42ae-43ac-87ea-b0c69a3f527c",
   "metadata": {},
   "outputs": [],
   "source": [
    "df['origin_city_name'].unique()"
   ]
  },
  {
   "cell_type": "code",
   "execution_count": 58,
   "id": "70955d2f-0ff0-45c6-a752-8ee079f9f944",
   "metadata": {},
   "outputs": [
    {
     "data": {
      "text/plain": [
       "count    477399.000000\n",
       "mean         -0.009225\n",
       "std          26.284630\n",
       "min         -91.000000\n",
       "25%         -15.000000\n",
       "50%          -7.000000\n",
       "75%           6.000000\n",
       "max         131.000000\n",
       "Name: arr_delay, dtype: float64"
      ]
     },
     "execution_count": 58,
     "metadata": {},
     "output_type": "execute_result"
    }
   ],
   "source": [
    "df['arr_delay'].describe()"
   ]
  },
  {
   "cell_type": "code",
   "execution_count": null,
   "id": "14446761-d205-46ca-b934-67c2f390f051",
   "metadata": {},
   "outputs": [],
   "source": []
  },
  {
   "cell_type": "markdown",
   "id": "7950fbdf-db0e-402e-95d2-1a5607549bb9",
   "metadata": {},
   "source": [
    "# Trial with limited features"
   ]
  },
  {
   "cell_type": "code",
   "execution_count": 40,
   "id": "65fb11dc-df49-4922-8065-4b635ec2e7f4",
   "metadata": {},
   "outputs": [],
   "source": [
    "# Making a new copy of the dataframe df\n",
    "\n",
    "df_clean_data = df.copy()"
   ]
  },
  {
   "cell_type": "code",
   "execution_count": 41,
   "id": "9d2434dc-d680-4bd4-804d-7cbb7971fafb",
   "metadata": {},
   "outputs": [
    {
     "data": {
      "text/html": [
       "<div>\n",
       "<style scoped>\n",
       "    .dataframe tbody tr th:only-of-type {\n",
       "        vertical-align: middle;\n",
       "    }\n",
       "\n",
       "    .dataframe tbody tr th {\n",
       "        vertical-align: top;\n",
       "    }\n",
       "\n",
       "    .dataframe thead th {\n",
       "        text-align: right;\n",
       "    }\n",
       "</style>\n",
       "<table border=\"1\" class=\"dataframe\">\n",
       "  <thead>\n",
       "    <tr style=\"text-align: right;\">\n",
       "      <th></th>\n",
       "      <th>crs_dep_time</th>\n",
       "      <th>dep_time</th>\n",
       "      <th>crs_arr_time</th>\n",
       "      <th>arr_time</th>\n",
       "      <th>arr_delay</th>\n",
       "      <th>crs_elapsed_time</th>\n",
       "      <th>actual_elapsed_time</th>\n",
       "      <th>air_time</th>\n",
       "      <th>carrier_delay</th>\n",
       "      <th>weather_delay</th>\n",
       "      <th>month</th>\n",
       "      <th>day</th>\n",
       "    </tr>\n",
       "  </thead>\n",
       "  <tbody>\n",
       "    <tr>\n",
       "      <th>0</th>\n",
       "      <td>1026</td>\n",
       "      <td>1022.0</td>\n",
       "      <td>1205</td>\n",
       "      <td>1143.0</td>\n",
       "      <td>-22.0</td>\n",
       "      <td>99</td>\n",
       "      <td>81.0</td>\n",
       "      <td>58.0</td>\n",
       "      <td>0.0</td>\n",
       "      <td>0.0</td>\n",
       "      <td>9</td>\n",
       "      <td>5</td>\n",
       "    </tr>\n",
       "    <tr>\n",
       "      <th>1</th>\n",
       "      <td>600</td>\n",
       "      <td>553.0</td>\n",
       "      <td>701</td>\n",
       "      <td>648.0</td>\n",
       "      <td>-13.0</td>\n",
       "      <td>61</td>\n",
       "      <td>55.0</td>\n",
       "      <td>33.0</td>\n",
       "      <td>0.0</td>\n",
       "      <td>0.0</td>\n",
       "      <td>6</td>\n",
       "      <td>1</td>\n",
       "    </tr>\n",
       "    <tr>\n",
       "      <th>2</th>\n",
       "      <td>1430</td>\n",
       "      <td>1427.0</td>\n",
       "      <td>1617</td>\n",
       "      <td>1630.0</td>\n",
       "      <td>13.0</td>\n",
       "      <td>107</td>\n",
       "      <td>123.0</td>\n",
       "      <td>89.0</td>\n",
       "      <td>0.0</td>\n",
       "      <td>0.0</td>\n",
       "      <td>6</td>\n",
       "      <td>2</td>\n",
       "    </tr>\n",
       "    <tr>\n",
       "      <th>3</th>\n",
       "      <td>1800</td>\n",
       "      <td>1841.0</td>\n",
       "      <td>1935</td>\n",
       "      <td>2009.0</td>\n",
       "      <td>34.0</td>\n",
       "      <td>95</td>\n",
       "      <td>88.0</td>\n",
       "      <td>54.0</td>\n",
       "      <td>2.0</td>\n",
       "      <td>0.0</td>\n",
       "      <td>9</td>\n",
       "      <td>2</td>\n",
       "    </tr>\n",
       "    <tr>\n",
       "      <th>4</th>\n",
       "      <td>1025</td>\n",
       "      <td>1211.0</td>\n",
       "      <td>1203</td>\n",
       "      <td>1347.0</td>\n",
       "      <td>104.0</td>\n",
       "      <td>98</td>\n",
       "      <td>96.0</td>\n",
       "      <td>72.0</td>\n",
       "      <td>22.0</td>\n",
       "      <td>0.0</td>\n",
       "      <td>5</td>\n",
       "      <td>6</td>\n",
       "    </tr>\n",
       "  </tbody>\n",
       "</table>\n",
       "</div>"
      ],
      "text/plain": [
       "   crs_dep_time  dep_time  crs_arr_time  arr_time  arr_delay  \\\n",
       "0          1026    1022.0          1205    1143.0      -22.0   \n",
       "1           600     553.0           701     648.0      -13.0   \n",
       "2          1430    1427.0          1617    1630.0       13.0   \n",
       "3          1800    1841.0          1935    2009.0       34.0   \n",
       "4          1025    1211.0          1203    1347.0      104.0   \n",
       "\n",
       "   crs_elapsed_time  actual_elapsed_time  air_time  carrier_delay  \\\n",
       "0                99                 81.0      58.0            0.0   \n",
       "1                61                 55.0      33.0            0.0   \n",
       "2               107                123.0      89.0            0.0   \n",
       "3                95                 88.0      54.0            2.0   \n",
       "4                98                 96.0      72.0           22.0   \n",
       "\n",
       "   weather_delay  month  day  \n",
       "0            0.0      9    5  \n",
       "1            0.0      6    1  \n",
       "2            0.0      6    2  \n",
       "3            0.0      9    2  \n",
       "4            0.0      5    6  "
      ]
     },
     "execution_count": 41,
     "metadata": {},
     "output_type": "execute_result"
    }
   ],
   "source": [
    "# dropping columns mkt_unique_carrier\tmkt_carrier_fl_num\torigin_airport_id\torigin_city_name\t\n",
    "# dest_airport_id\tdest_city_name\tyear, month\n",
    "\n",
    "df_clean_data.drop(['mkt_unique_carrier', 'mkt_carrier_fl_num', 'origin_airport_id', \n",
    "                    'origin_city_name', 'dest_airport_id', 'dest_city_name', 'year'], axis = 1, inplace = True)\n",
    "\n",
    "df_clean_data.head(5)\n"
   ]
  },
  {
   "cell_type": "code",
   "execution_count": 42,
   "id": "fa53ccfe-e26d-4e6e-87a9-ea2f9a5cab0b",
   "metadata": {},
   "outputs": [
    {
     "data": {
      "text/plain": [
       "crs_dep_time           False\n",
       "dep_time               False\n",
       "crs_arr_time           False\n",
       "arr_time               False\n",
       "arr_delay              False\n",
       "crs_elapsed_time       False\n",
       "actual_elapsed_time    False\n",
       "air_time               False\n",
       "carrier_delay          False\n",
       "weather_delay          False\n",
       "month                  False\n",
       "day                    False\n",
       "dtype: bool"
      ]
     },
     "execution_count": 42,
     "metadata": {},
     "output_type": "execute_result"
    }
   ],
   "source": [
    "df_clean_data.isnull().any()"
   ]
  },
  {
   "cell_type": "code",
   "execution_count": 43,
   "id": "0c8d8693-b470-4009-8ce8-5490b0755856",
   "metadata": {},
   "outputs": [
    {
     "data": {
      "text/html": [
       "<div>\n",
       "<style scoped>\n",
       "    .dataframe tbody tr th:only-of-type {\n",
       "        vertical-align: middle;\n",
       "    }\n",
       "\n",
       "    .dataframe tbody tr th {\n",
       "        vertical-align: top;\n",
       "    }\n",
       "\n",
       "    .dataframe thead th {\n",
       "        text-align: right;\n",
       "    }\n",
       "</style>\n",
       "<table border=\"1\" class=\"dataframe\">\n",
       "  <thead>\n",
       "    <tr style=\"text-align: right;\">\n",
       "      <th></th>\n",
       "      <th>crs_dep_time</th>\n",
       "      <th>dep_time</th>\n",
       "      <th>crs_arr_time</th>\n",
       "      <th>arr_time</th>\n",
       "      <th>arr_delay</th>\n",
       "      <th>crs_elapsed_time</th>\n",
       "      <th>actual_elapsed_time</th>\n",
       "      <th>air_time</th>\n",
       "      <th>carrier_delay</th>\n",
       "      <th>weather_delay</th>\n",
       "      <th>month</th>\n",
       "      <th>day</th>\n",
       "    </tr>\n",
       "  </thead>\n",
       "  <tbody>\n",
       "    <tr>\n",
       "      <th>0</th>\n",
       "      <td>1026</td>\n",
       "      <td>1022.0</td>\n",
       "      <td>1205</td>\n",
       "      <td>1143.0</td>\n",
       "      <td>-22.0</td>\n",
       "      <td>99</td>\n",
       "      <td>81.0</td>\n",
       "      <td>58.0</td>\n",
       "      <td>0.0</td>\n",
       "      <td>0.0</td>\n",
       "      <td>9</td>\n",
       "      <td>5</td>\n",
       "    </tr>\n",
       "    <tr>\n",
       "      <th>1</th>\n",
       "      <td>600</td>\n",
       "      <td>553.0</td>\n",
       "      <td>701</td>\n",
       "      <td>648.0</td>\n",
       "      <td>-13.0</td>\n",
       "      <td>61</td>\n",
       "      <td>55.0</td>\n",
       "      <td>33.0</td>\n",
       "      <td>0.0</td>\n",
       "      <td>0.0</td>\n",
       "      <td>6</td>\n",
       "      <td>1</td>\n",
       "    </tr>\n",
       "    <tr>\n",
       "      <th>2</th>\n",
       "      <td>1430</td>\n",
       "      <td>1427.0</td>\n",
       "      <td>1617</td>\n",
       "      <td>1630.0</td>\n",
       "      <td>13.0</td>\n",
       "      <td>107</td>\n",
       "      <td>123.0</td>\n",
       "      <td>89.0</td>\n",
       "      <td>0.0</td>\n",
       "      <td>0.0</td>\n",
       "      <td>6</td>\n",
       "      <td>2</td>\n",
       "    </tr>\n",
       "    <tr>\n",
       "      <th>3</th>\n",
       "      <td>1800</td>\n",
       "      <td>1841.0</td>\n",
       "      <td>1935</td>\n",
       "      <td>2009.0</td>\n",
       "      <td>34.0</td>\n",
       "      <td>95</td>\n",
       "      <td>88.0</td>\n",
       "      <td>54.0</td>\n",
       "      <td>2.0</td>\n",
       "      <td>0.0</td>\n",
       "      <td>9</td>\n",
       "      <td>2</td>\n",
       "    </tr>\n",
       "    <tr>\n",
       "      <th>4</th>\n",
       "      <td>1025</td>\n",
       "      <td>1211.0</td>\n",
       "      <td>1203</td>\n",
       "      <td>1347.0</td>\n",
       "      <td>104.0</td>\n",
       "      <td>98</td>\n",
       "      <td>96.0</td>\n",
       "      <td>72.0</td>\n",
       "      <td>22.0</td>\n",
       "      <td>0.0</td>\n",
       "      <td>5</td>\n",
       "      <td>6</td>\n",
       "    </tr>\n",
       "    <tr>\n",
       "      <th>...</th>\n",
       "      <td>...</td>\n",
       "      <td>...</td>\n",
       "      <td>...</td>\n",
       "      <td>...</td>\n",
       "      <td>...</td>\n",
       "      <td>...</td>\n",
       "      <td>...</td>\n",
       "      <td>...</td>\n",
       "      <td>...</td>\n",
       "      <td>...</td>\n",
       "      <td>...</td>\n",
       "      <td>...</td>\n",
       "    </tr>\n",
       "    <tr>\n",
       "      <th>499995</th>\n",
       "      <td>1600</td>\n",
       "      <td>1557.0</td>\n",
       "      <td>1906</td>\n",
       "      <td>1853.0</td>\n",
       "      <td>-13.0</td>\n",
       "      <td>186</td>\n",
       "      <td>176.0</td>\n",
       "      <td>157.0</td>\n",
       "      <td>0.0</td>\n",
       "      <td>0.0</td>\n",
       "      <td>3</td>\n",
       "      <td>6</td>\n",
       "    </tr>\n",
       "    <tr>\n",
       "      <th>499996</th>\n",
       "      <td>1420</td>\n",
       "      <td>1420.0</td>\n",
       "      <td>1759</td>\n",
       "      <td>1801.0</td>\n",
       "      <td>2.0</td>\n",
       "      <td>159</td>\n",
       "      <td>161.0</td>\n",
       "      <td>140.0</td>\n",
       "      <td>0.0</td>\n",
       "      <td>0.0</td>\n",
       "      <td>11</td>\n",
       "      <td>6</td>\n",
       "    </tr>\n",
       "    <tr>\n",
       "      <th>499997</th>\n",
       "      <td>815</td>\n",
       "      <td>806.0</td>\n",
       "      <td>1030</td>\n",
       "      <td>1014.0</td>\n",
       "      <td>-16.0</td>\n",
       "      <td>135</td>\n",
       "      <td>128.0</td>\n",
       "      <td>106.0</td>\n",
       "      <td>0.0</td>\n",
       "      <td>0.0</td>\n",
       "      <td>3</td>\n",
       "      <td>0</td>\n",
       "    </tr>\n",
       "    <tr>\n",
       "      <th>499998</th>\n",
       "      <td>940</td>\n",
       "      <td>940.0</td>\n",
       "      <td>1130</td>\n",
       "      <td>1120.0</td>\n",
       "      <td>-10.0</td>\n",
       "      <td>110</td>\n",
       "      <td>100.0</td>\n",
       "      <td>66.0</td>\n",
       "      <td>0.0</td>\n",
       "      <td>0.0</td>\n",
       "      <td>1</td>\n",
       "      <td>3</td>\n",
       "    </tr>\n",
       "    <tr>\n",
       "      <th>499999</th>\n",
       "      <td>830</td>\n",
       "      <td>826.0</td>\n",
       "      <td>1135</td>\n",
       "      <td>1112.0</td>\n",
       "      <td>-23.0</td>\n",
       "      <td>185</td>\n",
       "      <td>166.0</td>\n",
       "      <td>139.0</td>\n",
       "      <td>0.0</td>\n",
       "      <td>0.0</td>\n",
       "      <td>10</td>\n",
       "      <td>3</td>\n",
       "    </tr>\n",
       "  </tbody>\n",
       "</table>\n",
       "<p>477399 rows × 12 columns</p>\n",
       "</div>"
      ],
      "text/plain": [
       "        crs_dep_time  dep_time  crs_arr_time  arr_time  arr_delay  \\\n",
       "0               1026    1022.0          1205    1143.0      -22.0   \n",
       "1                600     553.0           701     648.0      -13.0   \n",
       "2               1430    1427.0          1617    1630.0       13.0   \n",
       "3               1800    1841.0          1935    2009.0       34.0   \n",
       "4               1025    1211.0          1203    1347.0      104.0   \n",
       "...              ...       ...           ...       ...        ...   \n",
       "499995          1600    1557.0          1906    1853.0      -13.0   \n",
       "499996          1420    1420.0          1759    1801.0        2.0   \n",
       "499997           815     806.0          1030    1014.0      -16.0   \n",
       "499998           940     940.0          1130    1120.0      -10.0   \n",
       "499999           830     826.0          1135    1112.0      -23.0   \n",
       "\n",
       "        crs_elapsed_time  actual_elapsed_time  air_time  carrier_delay  \\\n",
       "0                     99                 81.0      58.0            0.0   \n",
       "1                     61                 55.0      33.0            0.0   \n",
       "2                    107                123.0      89.0            0.0   \n",
       "3                     95                 88.0      54.0            2.0   \n",
       "4                     98                 96.0      72.0           22.0   \n",
       "...                  ...                  ...       ...            ...   \n",
       "499995               186                176.0     157.0            0.0   \n",
       "499996               159                161.0     140.0            0.0   \n",
       "499997               135                128.0     106.0            0.0   \n",
       "499998               110                100.0      66.0            0.0   \n",
       "499999               185                166.0     139.0            0.0   \n",
       "\n",
       "        weather_delay  month  day  \n",
       "0                 0.0      9    5  \n",
       "1                 0.0      6    1  \n",
       "2                 0.0      6    2  \n",
       "3                 0.0      9    2  \n",
       "4                 0.0      5    6  \n",
       "...               ...    ...  ...  \n",
       "499995            0.0      3    6  \n",
       "499996            0.0     11    6  \n",
       "499997            0.0      3    0  \n",
       "499998            0.0      1    3  \n",
       "499999            0.0     10    3  \n",
       "\n",
       "[477399 rows x 12 columns]"
      ]
     },
     "execution_count": 43,
     "metadata": {},
     "output_type": "execute_result"
    }
   ],
   "source": [
    "df_clean_data = df_clean_data.dropna()\n",
    "df_clean_data"
   ]
  },
  {
   "cell_type": "code",
   "execution_count": 44,
   "id": "c640ee75-0a48-4129-96d0-2532ad0b6768",
   "metadata": {},
   "outputs": [
    {
     "data": {
      "text/html": [
       "<div>\n",
       "<style scoped>\n",
       "    .dataframe tbody tr th:only-of-type {\n",
       "        vertical-align: middle;\n",
       "    }\n",
       "\n",
       "    .dataframe tbody tr th {\n",
       "        vertical-align: top;\n",
       "    }\n",
       "\n",
       "    .dataframe thead th {\n",
       "        text-align: right;\n",
       "    }\n",
       "</style>\n",
       "<table border=\"1\" class=\"dataframe\">\n",
       "  <thead>\n",
       "    <tr style=\"text-align: right;\">\n",
       "      <th></th>\n",
       "      <th>crs_dep_time</th>\n",
       "      <th>dep_time</th>\n",
       "      <th>crs_arr_time</th>\n",
       "      <th>arr_time</th>\n",
       "      <th>arr_delay</th>\n",
       "      <th>crs_elapsed_time</th>\n",
       "      <th>actual_elapsed_time</th>\n",
       "      <th>air_time</th>\n",
       "      <th>carrier_delay</th>\n",
       "      <th>weather_delay</th>\n",
       "      <th>month</th>\n",
       "    </tr>\n",
       "  </thead>\n",
       "  <tbody>\n",
       "    <tr>\n",
       "      <th>0</th>\n",
       "      <td>1026</td>\n",
       "      <td>1022.0</td>\n",
       "      <td>1205</td>\n",
       "      <td>1143.0</td>\n",
       "      <td>-22.0</td>\n",
       "      <td>99</td>\n",
       "      <td>81.0</td>\n",
       "      <td>58.0</td>\n",
       "      <td>0.0</td>\n",
       "      <td>0.0</td>\n",
       "      <td>9</td>\n",
       "    </tr>\n",
       "    <tr>\n",
       "      <th>1</th>\n",
       "      <td>600</td>\n",
       "      <td>553.0</td>\n",
       "      <td>701</td>\n",
       "      <td>648.0</td>\n",
       "      <td>-13.0</td>\n",
       "      <td>61</td>\n",
       "      <td>55.0</td>\n",
       "      <td>33.0</td>\n",
       "      <td>0.0</td>\n",
       "      <td>0.0</td>\n",
       "      <td>6</td>\n",
       "    </tr>\n",
       "    <tr>\n",
       "      <th>2</th>\n",
       "      <td>1430</td>\n",
       "      <td>1427.0</td>\n",
       "      <td>1617</td>\n",
       "      <td>1630.0</td>\n",
       "      <td>13.0</td>\n",
       "      <td>107</td>\n",
       "      <td>123.0</td>\n",
       "      <td>89.0</td>\n",
       "      <td>0.0</td>\n",
       "      <td>0.0</td>\n",
       "      <td>6</td>\n",
       "    </tr>\n",
       "    <tr>\n",
       "      <th>3</th>\n",
       "      <td>1800</td>\n",
       "      <td>1841.0</td>\n",
       "      <td>1935</td>\n",
       "      <td>2009.0</td>\n",
       "      <td>34.0</td>\n",
       "      <td>95</td>\n",
       "      <td>88.0</td>\n",
       "      <td>54.0</td>\n",
       "      <td>2.0</td>\n",
       "      <td>0.0</td>\n",
       "      <td>9</td>\n",
       "    </tr>\n",
       "    <tr>\n",
       "      <th>4</th>\n",
       "      <td>1025</td>\n",
       "      <td>1211.0</td>\n",
       "      <td>1203</td>\n",
       "      <td>1347.0</td>\n",
       "      <td>104.0</td>\n",
       "      <td>98</td>\n",
       "      <td>96.0</td>\n",
       "      <td>72.0</td>\n",
       "      <td>22.0</td>\n",
       "      <td>0.0</td>\n",
       "      <td>5</td>\n",
       "    </tr>\n",
       "  </tbody>\n",
       "</table>\n",
       "</div>"
      ],
      "text/plain": [
       "   crs_dep_time  dep_time  crs_arr_time  arr_time  arr_delay  \\\n",
       "0          1026    1022.0          1205    1143.0      -22.0   \n",
       "1           600     553.0           701     648.0      -13.0   \n",
       "2          1430    1427.0          1617    1630.0       13.0   \n",
       "3          1800    1841.0          1935    2009.0       34.0   \n",
       "4          1025    1211.0          1203    1347.0      104.0   \n",
       "\n",
       "   crs_elapsed_time  actual_elapsed_time  air_time  carrier_delay  \\\n",
       "0                99                 81.0      58.0            0.0   \n",
       "1                61                 55.0      33.0            0.0   \n",
       "2               107                123.0      89.0            0.0   \n",
       "3                95                 88.0      54.0            2.0   \n",
       "4                98                 96.0      72.0           22.0   \n",
       "\n",
       "   weather_delay  month  \n",
       "0            0.0      9  \n",
       "1            0.0      6  \n",
       "2            0.0      6  \n",
       "3            0.0      9  \n",
       "4            0.0      5  "
      ]
     },
     "execution_count": 44,
     "metadata": {},
     "output_type": "execute_result"
    }
   ],
   "source": [
    "# copy day feature for one-hot encoded Day\n",
    "df_day = df_clean_data['day']\n",
    "\n",
    "df_clean_data.drop(['day'], axis = 1, inplace = True)\n",
    "\n",
    "df_clean_data.head(5)"
   ]
  },
  {
   "cell_type": "code",
   "execution_count": 45,
   "id": "299bc31a-6e85-488e-a0af-c97a58c80857",
   "metadata": {},
   "outputs": [
    {
     "data": {
      "text/html": [
       "<div>\n",
       "<style scoped>\n",
       "    .dataframe tbody tr th:only-of-type {\n",
       "        vertical-align: middle;\n",
       "    }\n",
       "\n",
       "    .dataframe tbody tr th {\n",
       "        vertical-align: top;\n",
       "    }\n",
       "\n",
       "    .dataframe thead th {\n",
       "        text-align: right;\n",
       "    }\n",
       "</style>\n",
       "<table border=\"1\" class=\"dataframe\">\n",
       "  <thead>\n",
       "    <tr style=\"text-align: right;\">\n",
       "      <th></th>\n",
       "      <th>crs_dep_time</th>\n",
       "      <th>dep_time</th>\n",
       "      <th>crs_arr_time</th>\n",
       "      <th>arr_time</th>\n",
       "      <th>arr_delay</th>\n",
       "      <th>crs_elapsed_time</th>\n",
       "      <th>actual_elapsed_time</th>\n",
       "      <th>air_time</th>\n",
       "      <th>carrier_delay</th>\n",
       "      <th>weather_delay</th>\n",
       "    </tr>\n",
       "  </thead>\n",
       "  <tbody>\n",
       "    <tr>\n",
       "      <th>0</th>\n",
       "      <td>1026</td>\n",
       "      <td>1022.0</td>\n",
       "      <td>1205</td>\n",
       "      <td>1143.0</td>\n",
       "      <td>-22.0</td>\n",
       "      <td>99</td>\n",
       "      <td>81.0</td>\n",
       "      <td>58.0</td>\n",
       "      <td>0.0</td>\n",
       "      <td>0.0</td>\n",
       "    </tr>\n",
       "    <tr>\n",
       "      <th>1</th>\n",
       "      <td>600</td>\n",
       "      <td>553.0</td>\n",
       "      <td>701</td>\n",
       "      <td>648.0</td>\n",
       "      <td>-13.0</td>\n",
       "      <td>61</td>\n",
       "      <td>55.0</td>\n",
       "      <td>33.0</td>\n",
       "      <td>0.0</td>\n",
       "      <td>0.0</td>\n",
       "    </tr>\n",
       "    <tr>\n",
       "      <th>2</th>\n",
       "      <td>1430</td>\n",
       "      <td>1427.0</td>\n",
       "      <td>1617</td>\n",
       "      <td>1630.0</td>\n",
       "      <td>13.0</td>\n",
       "      <td>107</td>\n",
       "      <td>123.0</td>\n",
       "      <td>89.0</td>\n",
       "      <td>0.0</td>\n",
       "      <td>0.0</td>\n",
       "    </tr>\n",
       "    <tr>\n",
       "      <th>3</th>\n",
       "      <td>1800</td>\n",
       "      <td>1841.0</td>\n",
       "      <td>1935</td>\n",
       "      <td>2009.0</td>\n",
       "      <td>34.0</td>\n",
       "      <td>95</td>\n",
       "      <td>88.0</td>\n",
       "      <td>54.0</td>\n",
       "      <td>2.0</td>\n",
       "      <td>0.0</td>\n",
       "    </tr>\n",
       "    <tr>\n",
       "      <th>4</th>\n",
       "      <td>1025</td>\n",
       "      <td>1211.0</td>\n",
       "      <td>1203</td>\n",
       "      <td>1347.0</td>\n",
       "      <td>104.0</td>\n",
       "      <td>98</td>\n",
       "      <td>96.0</td>\n",
       "      <td>72.0</td>\n",
       "      <td>22.0</td>\n",
       "      <td>0.0</td>\n",
       "    </tr>\n",
       "  </tbody>\n",
       "</table>\n",
       "</div>"
      ],
      "text/plain": [
       "   crs_dep_time  dep_time  crs_arr_time  arr_time  arr_delay  \\\n",
       "0          1026    1022.0          1205    1143.0      -22.0   \n",
       "1           600     553.0           701     648.0      -13.0   \n",
       "2          1430    1427.0          1617    1630.0       13.0   \n",
       "3          1800    1841.0          1935    2009.0       34.0   \n",
       "4          1025    1211.0          1203    1347.0      104.0   \n",
       "\n",
       "   crs_elapsed_time  actual_elapsed_time  air_time  carrier_delay  \\\n",
       "0                99                 81.0      58.0            0.0   \n",
       "1                61                 55.0      33.0            0.0   \n",
       "2               107                123.0      89.0            0.0   \n",
       "3                95                 88.0      54.0            2.0   \n",
       "4                98                 96.0      72.0           22.0   \n",
       "\n",
       "   weather_delay  \n",
       "0            0.0  \n",
       "1            0.0  \n",
       "2            0.0  \n",
       "3            0.0  \n",
       "4            0.0  "
      ]
     },
     "execution_count": 45,
     "metadata": {},
     "output_type": "execute_result"
    }
   ],
   "source": [
    "# copy month feature for one-hot encoded Month\n",
    "df_month = df_clean_data['month']\n",
    "\n",
    "df_clean_data.drop(['month'], axis = 1, inplace = True)\n",
    "\n",
    "df_clean_data.head(5)\n"
   ]
  },
  {
   "cell_type": "code",
   "execution_count": 46,
   "id": "434714a1-8e11-4974-b2da-4b5d13fa1474",
   "metadata": {},
   "outputs": [],
   "source": [
    "# Data Standardization\n",
    "\n",
    "from sklearn.preprocessing import StandardScaler\n",
    "\n",
    "scaler = StandardScaler()\n",
    "df_data_scaled = pd.DataFrame(scaler.fit_transform(df_clean_data.astype(float)),\n",
    "                                   columns=df_clean_data.columns)"
   ]
  },
  {
   "cell_type": "code",
   "execution_count": 66,
   "id": "ecfad7f3-0ae4-4fa3-bf6b-0473fbd46408",
   "metadata": {},
   "outputs": [
    {
     "data": {
      "text/html": [
       "<div>\n",
       "<style scoped>\n",
       "    .dataframe tbody tr th:only-of-type {\n",
       "        vertical-align: middle;\n",
       "    }\n",
       "\n",
       "    .dataframe tbody tr th {\n",
       "        vertical-align: top;\n",
       "    }\n",
       "\n",
       "    .dataframe thead th {\n",
       "        text-align: right;\n",
       "    }\n",
       "</style>\n",
       "<table border=\"1\" class=\"dataframe\">\n",
       "  <thead>\n",
       "    <tr style=\"text-align: right;\">\n",
       "      <th></th>\n",
       "      <th>crs_dep_time</th>\n",
       "      <th>dep_time</th>\n",
       "      <th>crs_arr_time</th>\n",
       "      <th>arr_time</th>\n",
       "      <th>arr_delay</th>\n",
       "      <th>crs_elapsed_time</th>\n",
       "      <th>actual_elapsed_time</th>\n",
       "      <th>air_time</th>\n",
       "      <th>carrier_delay</th>\n",
       "      <th>weather_delay</th>\n",
       "    </tr>\n",
       "  </thead>\n",
       "  <tbody>\n",
       "    <tr>\n",
       "      <th>0</th>\n",
       "      <td>-0.610004</td>\n",
       "      <td>-0.610349</td>\n",
       "      <td>-0.532846</td>\n",
       "      <td>-0.603604</td>\n",
       "      <td>-0.836641</td>\n",
       "      <td>-0.554503</td>\n",
       "      <td>-0.731015</td>\n",
       "      <td>-0.719988</td>\n",
       "      <td>-0.206302</td>\n",
       "      <td>-0.070061</td>\n",
       "    </tr>\n",
       "    <tr>\n",
       "      <th>1</th>\n",
       "      <td>-1.478167</td>\n",
       "      <td>-1.546585</td>\n",
       "      <td>-1.506784</td>\n",
       "      <td>-1.535459</td>\n",
       "      <td>-0.494235</td>\n",
       "      <td>-1.087305</td>\n",
       "      <td>-1.096042</td>\n",
       "      <td>-1.080213</td>\n",
       "      <td>-0.206302</td>\n",
       "      <td>-0.070061</td>\n",
       "    </tr>\n",
       "    <tr>\n",
       "      <th>2</th>\n",
       "      <td>0.213324</td>\n",
       "      <td>0.198128</td>\n",
       "      <td>0.263309</td>\n",
       "      <td>0.313191</td>\n",
       "      <td>0.494937</td>\n",
       "      <td>-0.442334</td>\n",
       "      <td>-0.141356</td>\n",
       "      <td>-0.273310</td>\n",
       "      <td>-0.206302</td>\n",
       "      <td>-0.070061</td>\n",
       "    </tr>\n",
       "    <tr>\n",
       "      <th>3</th>\n",
       "      <td>0.967363</td>\n",
       "      <td>1.024570</td>\n",
       "      <td>0.877817</td>\n",
       "      <td>1.026672</td>\n",
       "      <td>1.293884</td>\n",
       "      <td>-0.610587</td>\n",
       "      <td>-0.632738</td>\n",
       "      <td>-0.777624</td>\n",
       "      <td>-0.013277</td>\n",
       "      <td>-0.070061</td>\n",
       "    </tr>\n",
       "    <tr>\n",
       "      <th>4</th>\n",
       "      <td>-0.612042</td>\n",
       "      <td>-0.233060</td>\n",
       "      <td>-0.536711</td>\n",
       "      <td>-0.219567</td>\n",
       "      <td>3.957040</td>\n",
       "      <td>-0.568524</td>\n",
       "      <td>-0.520422</td>\n",
       "      <td>-0.518262</td>\n",
       "      <td>1.916976</td>\n",
       "      <td>-0.070061</td>\n",
       "    </tr>\n",
       "    <tr>\n",
       "      <th>...</th>\n",
       "      <td>...</td>\n",
       "      <td>...</td>\n",
       "      <td>...</td>\n",
       "      <td>...</td>\n",
       "      <td>...</td>\n",
       "      <td>...</td>\n",
       "      <td>...</td>\n",
       "      <td>...</td>\n",
       "      <td>...</td>\n",
       "      <td>...</td>\n",
       "    </tr>\n",
       "    <tr>\n",
       "      <th>477394</th>\n",
       "      <td>0.559774</td>\n",
       "      <td>0.457639</td>\n",
       "      <td>0.821777</td>\n",
       "      <td>0.732996</td>\n",
       "      <td>-0.494235</td>\n",
       "      <td>0.665334</td>\n",
       "      <td>0.602738</td>\n",
       "      <td>0.706501</td>\n",
       "      <td>-0.206302</td>\n",
       "      <td>-0.070061</td>\n",
       "    </tr>\n",
       "    <tr>\n",
       "      <th>477395</th>\n",
       "      <td>0.192945</td>\n",
       "      <td>0.184154</td>\n",
       "      <td>0.537712</td>\n",
       "      <td>0.635105</td>\n",
       "      <td>0.076441</td>\n",
       "      <td>0.286764</td>\n",
       "      <td>0.392146</td>\n",
       "      <td>0.461548</td>\n",
       "      <td>-0.206302</td>\n",
       "      <td>-0.070061</td>\n",
       "    </tr>\n",
       "    <tr>\n",
       "      <th>477396</th>\n",
       "      <td>-1.040010</td>\n",
       "      <td>-1.041536</td>\n",
       "      <td>-0.871019</td>\n",
       "      <td>-0.846451</td>\n",
       "      <td>-0.608370</td>\n",
       "      <td>-0.049743</td>\n",
       "      <td>-0.071158</td>\n",
       "      <td>-0.028357</td>\n",
       "      <td>-0.206302</td>\n",
       "      <td>-0.070061</td>\n",
       "    </tr>\n",
       "    <tr>\n",
       "      <th>477397</th>\n",
       "      <td>-0.785267</td>\n",
       "      <td>-0.774040</td>\n",
       "      <td>-0.677777</td>\n",
       "      <td>-0.646902</td>\n",
       "      <td>-0.380100</td>\n",
       "      <td>-0.400271</td>\n",
       "      <td>-0.464264</td>\n",
       "      <td>-0.604716</td>\n",
       "      <td>-0.206302</td>\n",
       "      <td>-0.070061</td>\n",
       "    </tr>\n",
       "    <tr>\n",
       "      <th>477398</th>\n",
       "      <td>-1.009440</td>\n",
       "      <td>-1.001612</td>\n",
       "      <td>-0.668115</td>\n",
       "      <td>-0.661962</td>\n",
       "      <td>-0.874686</td>\n",
       "      <td>0.651313</td>\n",
       "      <td>0.462343</td>\n",
       "      <td>0.447139</td>\n",
       "      <td>-0.206302</td>\n",
       "      <td>-0.070061</td>\n",
       "    </tr>\n",
       "  </tbody>\n",
       "</table>\n",
       "<p>477399 rows × 10 columns</p>\n",
       "</div>"
      ],
      "text/plain": [
       "        crs_dep_time  dep_time  crs_arr_time  arr_time  arr_delay  \\\n",
       "0          -0.610004 -0.610349     -0.532846 -0.603604  -0.836641   \n",
       "1          -1.478167 -1.546585     -1.506784 -1.535459  -0.494235   \n",
       "2           0.213324  0.198128      0.263309  0.313191   0.494937   \n",
       "3           0.967363  1.024570      0.877817  1.026672   1.293884   \n",
       "4          -0.612042 -0.233060     -0.536711 -0.219567   3.957040   \n",
       "...              ...       ...           ...       ...        ...   \n",
       "477394      0.559774  0.457639      0.821777  0.732996  -0.494235   \n",
       "477395      0.192945  0.184154      0.537712  0.635105   0.076441   \n",
       "477396     -1.040010 -1.041536     -0.871019 -0.846451  -0.608370   \n",
       "477397     -0.785267 -0.774040     -0.677777 -0.646902  -0.380100   \n",
       "477398     -1.009440 -1.001612     -0.668115 -0.661962  -0.874686   \n",
       "\n",
       "        crs_elapsed_time  actual_elapsed_time  air_time  carrier_delay  \\\n",
       "0              -0.554503            -0.731015 -0.719988      -0.206302   \n",
       "1              -1.087305            -1.096042 -1.080213      -0.206302   \n",
       "2              -0.442334            -0.141356 -0.273310      -0.206302   \n",
       "3              -0.610587            -0.632738 -0.777624      -0.013277   \n",
       "4              -0.568524            -0.520422 -0.518262       1.916976   \n",
       "...                  ...                  ...       ...            ...   \n",
       "477394          0.665334             0.602738  0.706501      -0.206302   \n",
       "477395          0.286764             0.392146  0.461548      -0.206302   \n",
       "477396         -0.049743            -0.071158 -0.028357      -0.206302   \n",
       "477397         -0.400271            -0.464264 -0.604716      -0.206302   \n",
       "477398          0.651313             0.462343  0.447139      -0.206302   \n",
       "\n",
       "        weather_delay  \n",
       "0           -0.070061  \n",
       "1           -0.070061  \n",
       "2           -0.070061  \n",
       "3           -0.070061  \n",
       "4           -0.070061  \n",
       "...               ...  \n",
       "477394      -0.070061  \n",
       "477395      -0.070061  \n",
       "477396      -0.070061  \n",
       "477397      -0.070061  \n",
       "477398      -0.070061  \n",
       "\n",
       "[477399 rows x 10 columns]"
      ]
     },
     "execution_count": 66,
     "metadata": {},
     "output_type": "execute_result"
    }
   ],
   "source": [
    "df_data_scaled"
   ]
  },
  {
   "cell_type": "code",
   "execution_count": 47,
   "id": "295ae49e-a5bd-41c2-af57-0f4d1ad5664d",
   "metadata": {},
   "outputs": [
    {
     "data": {
      "text/html": [
       "<div>\n",
       "<style scoped>\n",
       "    .dataframe tbody tr th:only-of-type {\n",
       "        vertical-align: middle;\n",
       "    }\n",
       "\n",
       "    .dataframe tbody tr th {\n",
       "        vertical-align: top;\n",
       "    }\n",
       "\n",
       "    .dataframe thead th {\n",
       "        text-align: right;\n",
       "    }\n",
       "</style>\n",
       "<table border=\"1\" class=\"dataframe\">\n",
       "  <thead>\n",
       "    <tr style=\"text-align: right;\">\n",
       "      <th></th>\n",
       "      <th>crs_dep_time</th>\n",
       "      <th>dep_time</th>\n",
       "      <th>crs_arr_time</th>\n",
       "      <th>arr_time</th>\n",
       "      <th>arr_delay</th>\n",
       "      <th>crs_elapsed_time</th>\n",
       "      <th>actual_elapsed_time</th>\n",
       "      <th>air_time</th>\n",
       "      <th>carrier_delay</th>\n",
       "      <th>weather_delay</th>\n",
       "      <th>1</th>\n",
       "      <th>2</th>\n",
       "      <th>3</th>\n",
       "      <th>4</th>\n",
       "      <th>5</th>\n",
       "      <th>6</th>\n",
       "    </tr>\n",
       "  </thead>\n",
       "  <tbody>\n",
       "    <tr>\n",
       "      <th>0</th>\n",
       "      <td>-0.610004</td>\n",
       "      <td>-0.610349</td>\n",
       "      <td>-0.532846</td>\n",
       "      <td>-0.603604</td>\n",
       "      <td>-0.836641</td>\n",
       "      <td>-0.554503</td>\n",
       "      <td>-0.731015</td>\n",
       "      <td>-0.719988</td>\n",
       "      <td>-0.206302</td>\n",
       "      <td>-0.070061</td>\n",
       "      <td>0.0</td>\n",
       "      <td>0.0</td>\n",
       "      <td>0.0</td>\n",
       "      <td>0.0</td>\n",
       "      <td>1.0</td>\n",
       "      <td>0.0</td>\n",
       "    </tr>\n",
       "    <tr>\n",
       "      <th>1</th>\n",
       "      <td>-1.478167</td>\n",
       "      <td>-1.546585</td>\n",
       "      <td>-1.506784</td>\n",
       "      <td>-1.535459</td>\n",
       "      <td>-0.494235</td>\n",
       "      <td>-1.087305</td>\n",
       "      <td>-1.096042</td>\n",
       "      <td>-1.080213</td>\n",
       "      <td>-0.206302</td>\n",
       "      <td>-0.070061</td>\n",
       "      <td>1.0</td>\n",
       "      <td>0.0</td>\n",
       "      <td>0.0</td>\n",
       "      <td>0.0</td>\n",
       "      <td>0.0</td>\n",
       "      <td>0.0</td>\n",
       "    </tr>\n",
       "    <tr>\n",
       "      <th>2</th>\n",
       "      <td>0.213324</td>\n",
       "      <td>0.198128</td>\n",
       "      <td>0.263309</td>\n",
       "      <td>0.313191</td>\n",
       "      <td>0.494937</td>\n",
       "      <td>-0.442334</td>\n",
       "      <td>-0.141356</td>\n",
       "      <td>-0.273310</td>\n",
       "      <td>-0.206302</td>\n",
       "      <td>-0.070061</td>\n",
       "      <td>0.0</td>\n",
       "      <td>1.0</td>\n",
       "      <td>0.0</td>\n",
       "      <td>0.0</td>\n",
       "      <td>0.0</td>\n",
       "      <td>0.0</td>\n",
       "    </tr>\n",
       "    <tr>\n",
       "      <th>3</th>\n",
       "      <td>0.967363</td>\n",
       "      <td>1.024570</td>\n",
       "      <td>0.877817</td>\n",
       "      <td>1.026672</td>\n",
       "      <td>1.293884</td>\n",
       "      <td>-0.610587</td>\n",
       "      <td>-0.632738</td>\n",
       "      <td>-0.777624</td>\n",
       "      <td>-0.013277</td>\n",
       "      <td>-0.070061</td>\n",
       "      <td>0.0</td>\n",
       "      <td>1.0</td>\n",
       "      <td>0.0</td>\n",
       "      <td>0.0</td>\n",
       "      <td>0.0</td>\n",
       "      <td>0.0</td>\n",
       "    </tr>\n",
       "    <tr>\n",
       "      <th>4</th>\n",
       "      <td>-0.612042</td>\n",
       "      <td>-0.233060</td>\n",
       "      <td>-0.536711</td>\n",
       "      <td>-0.219567</td>\n",
       "      <td>3.957040</td>\n",
       "      <td>-0.568524</td>\n",
       "      <td>-0.520422</td>\n",
       "      <td>-0.518262</td>\n",
       "      <td>1.916976</td>\n",
       "      <td>-0.070061</td>\n",
       "      <td>0.0</td>\n",
       "      <td>0.0</td>\n",
       "      <td>0.0</td>\n",
       "      <td>0.0</td>\n",
       "      <td>0.0</td>\n",
       "      <td>1.0</td>\n",
       "    </tr>\n",
       "  </tbody>\n",
       "</table>\n",
       "</div>"
      ],
      "text/plain": [
       "   crs_dep_time  dep_time  crs_arr_time  arr_time  arr_delay  \\\n",
       "0     -0.610004 -0.610349     -0.532846 -0.603604  -0.836641   \n",
       "1     -1.478167 -1.546585     -1.506784 -1.535459  -0.494235   \n",
       "2      0.213324  0.198128      0.263309  0.313191   0.494937   \n",
       "3      0.967363  1.024570      0.877817  1.026672   1.293884   \n",
       "4     -0.612042 -0.233060     -0.536711 -0.219567   3.957040   \n",
       "\n",
       "   crs_elapsed_time  actual_elapsed_time  air_time  carrier_delay  \\\n",
       "0         -0.554503            -0.731015 -0.719988      -0.206302   \n",
       "1         -1.087305            -1.096042 -1.080213      -0.206302   \n",
       "2         -0.442334            -0.141356 -0.273310      -0.206302   \n",
       "3         -0.610587            -0.632738 -0.777624      -0.013277   \n",
       "4         -0.568524            -0.520422 -0.518262       1.916976   \n",
       "\n",
       "   weather_delay    1    2    3    4    5    6  \n",
       "0      -0.070061  0.0  0.0  0.0  0.0  1.0  0.0  \n",
       "1      -0.070061  1.0  0.0  0.0  0.0  0.0  0.0  \n",
       "2      -0.070061  0.0  1.0  0.0  0.0  0.0  0.0  \n",
       "3      -0.070061  0.0  1.0  0.0  0.0  0.0  0.0  \n",
       "4      -0.070061  0.0  0.0  0.0  0.0  0.0  1.0  "
      ]
     },
     "execution_count": 47,
     "metadata": {},
     "output_type": "execute_result"
    }
   ],
   "source": [
    "# Creating dummy variable for day feature\n",
    "\n",
    "day_dummy = pd.get_dummies(df_day.astype(str), drop_first=True)\n",
    "day_dummy.shape\n",
    "\n",
    "# concatinating month_dummy with the scaled data\n",
    "\n",
    "df_data_scaled = pd.concat([df_data_scaled, day_dummy], axis=1)\n",
    "df_data_scaled.head()"
   ]
  },
  {
   "cell_type": "code",
   "execution_count": 68,
   "id": "fda335d3-f31f-4dc2-8823-29fb3c2666bf",
   "metadata": {},
   "outputs": [],
   "source": [
    "# Creating dummy variable for month feature\n",
    "\n",
    "#month_dummy = pd.get_dummies(df_month.astype(str), drop_first=True)\n",
    "#month_dummy.shape"
   ]
  },
  {
   "cell_type": "code",
   "execution_count": 69,
   "id": "9b6e3f20-a61a-4ad5-88e5-b86ac4c9e569",
   "metadata": {},
   "outputs": [],
   "source": [
    "# concatinating month_dummy with the scaled data\n",
    "\n",
    "#df_data_scaled = pd.concat([df_data_scaled, month_dummy], axis=1)\n",
    "#df_data_scaled.head()"
   ]
  },
  {
   "cell_type": "code",
   "execution_count": 48,
   "id": "676ffa82-9a43-49ae-bf0d-7f42eb0cadf3",
   "metadata": {},
   "outputs": [
    {
     "data": {
      "text/plain": [
       "crs_dep_time           True\n",
       "dep_time               True\n",
       "crs_arr_time           True\n",
       "arr_time               True\n",
       "arr_delay              True\n",
       "crs_elapsed_time       True\n",
       "actual_elapsed_time    True\n",
       "air_time               True\n",
       "carrier_delay          True\n",
       "weather_delay          True\n",
       "1                      True\n",
       "2                      True\n",
       "3                      True\n",
       "4                      True\n",
       "5                      True\n",
       "6                      True\n",
       "dtype: bool"
      ]
     },
     "execution_count": 48,
     "metadata": {},
     "output_type": "execute_result"
    }
   ],
   "source": [
    "df_data_scaled.isnull().any()"
   ]
  },
  {
   "cell_type": "code",
   "execution_count": 49,
   "id": "ea5d0d08-fc94-49aa-bbf9-d7ec58e8df40",
   "metadata": {},
   "outputs": [],
   "source": [
    "# dropping nan rows\n",
    "df_data_scaled = df_data_scaled.dropna()"
   ]
  },
  {
   "cell_type": "code",
   "execution_count": 50,
   "id": "cad4e4ff-cd16-4261-8e65-b3bce6a6001d",
   "metadata": {},
   "outputs": [],
   "source": [
    "# Writing cleaned data into an CSV file\n",
    "\n",
    "df_data_scaled.to_csv(\"clean_flight_data.csv\", sep=',', index = False)"
   ]
  },
  {
   "cell_type": "code",
   "execution_count": 51,
   "id": "7cc9335b-730f-44b0-8d50-5e0643672ce1",
   "metadata": {},
   "outputs": [],
   "source": [
    "#Feature Selection\n",
    "#split dataset into features and target variable\n",
    "\n",
    "X = df_data_scaled.drop(['arr_delay'], axis = 1)\n",
    "y = df_data_scaled['arr_delay']"
   ]
  },
  {
   "cell_type": "code",
   "execution_count": 52,
   "id": "7ce53512-1bfe-4c33-9558-2fffddd7e7ef",
   "metadata": {},
   "outputs": [
    {
     "data": {
      "text/html": [
       "<div>\n",
       "<style scoped>\n",
       "    .dataframe tbody tr th:only-of-type {\n",
       "        vertical-align: middle;\n",
       "    }\n",
       "\n",
       "    .dataframe tbody tr th {\n",
       "        vertical-align: top;\n",
       "    }\n",
       "\n",
       "    .dataframe thead th {\n",
       "        text-align: right;\n",
       "    }\n",
       "</style>\n",
       "<table border=\"1\" class=\"dataframe\">\n",
       "  <thead>\n",
       "    <tr style=\"text-align: right;\">\n",
       "      <th></th>\n",
       "      <th>crs_dep_time</th>\n",
       "      <th>dep_time</th>\n",
       "      <th>crs_arr_time</th>\n",
       "      <th>arr_time</th>\n",
       "      <th>crs_elapsed_time</th>\n",
       "      <th>actual_elapsed_time</th>\n",
       "      <th>air_time</th>\n",
       "      <th>carrier_delay</th>\n",
       "      <th>weather_delay</th>\n",
       "      <th>1</th>\n",
       "      <th>2</th>\n",
       "      <th>3</th>\n",
       "      <th>4</th>\n",
       "      <th>5</th>\n",
       "      <th>6</th>\n",
       "    </tr>\n",
       "  </thead>\n",
       "  <tbody>\n",
       "    <tr>\n",
       "      <th>0</th>\n",
       "      <td>-0.610004</td>\n",
       "      <td>-0.610349</td>\n",
       "      <td>-0.532846</td>\n",
       "      <td>-0.603604</td>\n",
       "      <td>-0.554503</td>\n",
       "      <td>-0.731015</td>\n",
       "      <td>-0.719988</td>\n",
       "      <td>-0.206302</td>\n",
       "      <td>-0.070061</td>\n",
       "      <td>0.0</td>\n",
       "      <td>0.0</td>\n",
       "      <td>0.0</td>\n",
       "      <td>0.0</td>\n",
       "      <td>1.0</td>\n",
       "      <td>0.0</td>\n",
       "    </tr>\n",
       "    <tr>\n",
       "      <th>1</th>\n",
       "      <td>-1.478167</td>\n",
       "      <td>-1.546585</td>\n",
       "      <td>-1.506784</td>\n",
       "      <td>-1.535459</td>\n",
       "      <td>-1.087305</td>\n",
       "      <td>-1.096042</td>\n",
       "      <td>-1.080213</td>\n",
       "      <td>-0.206302</td>\n",
       "      <td>-0.070061</td>\n",
       "      <td>1.0</td>\n",
       "      <td>0.0</td>\n",
       "      <td>0.0</td>\n",
       "      <td>0.0</td>\n",
       "      <td>0.0</td>\n",
       "      <td>0.0</td>\n",
       "    </tr>\n",
       "    <tr>\n",
       "      <th>2</th>\n",
       "      <td>0.213324</td>\n",
       "      <td>0.198128</td>\n",
       "      <td>0.263309</td>\n",
       "      <td>0.313191</td>\n",
       "      <td>-0.442334</td>\n",
       "      <td>-0.141356</td>\n",
       "      <td>-0.273310</td>\n",
       "      <td>-0.206302</td>\n",
       "      <td>-0.070061</td>\n",
       "      <td>0.0</td>\n",
       "      <td>1.0</td>\n",
       "      <td>0.0</td>\n",
       "      <td>0.0</td>\n",
       "      <td>0.0</td>\n",
       "      <td>0.0</td>\n",
       "    </tr>\n",
       "    <tr>\n",
       "      <th>3</th>\n",
       "      <td>0.967363</td>\n",
       "      <td>1.024570</td>\n",
       "      <td>0.877817</td>\n",
       "      <td>1.026672</td>\n",
       "      <td>-0.610587</td>\n",
       "      <td>-0.632738</td>\n",
       "      <td>-0.777624</td>\n",
       "      <td>-0.013277</td>\n",
       "      <td>-0.070061</td>\n",
       "      <td>0.0</td>\n",
       "      <td>1.0</td>\n",
       "      <td>0.0</td>\n",
       "      <td>0.0</td>\n",
       "      <td>0.0</td>\n",
       "      <td>0.0</td>\n",
       "    </tr>\n",
       "    <tr>\n",
       "      <th>4</th>\n",
       "      <td>-0.612042</td>\n",
       "      <td>-0.233060</td>\n",
       "      <td>-0.536711</td>\n",
       "      <td>-0.219567</td>\n",
       "      <td>-0.568524</td>\n",
       "      <td>-0.520422</td>\n",
       "      <td>-0.518262</td>\n",
       "      <td>1.916976</td>\n",
       "      <td>-0.070061</td>\n",
       "      <td>0.0</td>\n",
       "      <td>0.0</td>\n",
       "      <td>0.0</td>\n",
       "      <td>0.0</td>\n",
       "      <td>0.0</td>\n",
       "      <td>1.0</td>\n",
       "    </tr>\n",
       "    <tr>\n",
       "      <th>...</th>\n",
       "      <td>...</td>\n",
       "      <td>...</td>\n",
       "      <td>...</td>\n",
       "      <td>...</td>\n",
       "      <td>...</td>\n",
       "      <td>...</td>\n",
       "      <td>...</td>\n",
       "      <td>...</td>\n",
       "      <td>...</td>\n",
       "      <td>...</td>\n",
       "      <td>...</td>\n",
       "      <td>...</td>\n",
       "      <td>...</td>\n",
       "      <td>...</td>\n",
       "      <td>...</td>\n",
       "    </tr>\n",
       "    <tr>\n",
       "      <th>477394</th>\n",
       "      <td>0.559774</td>\n",
       "      <td>0.457639</td>\n",
       "      <td>0.821777</td>\n",
       "      <td>0.732996</td>\n",
       "      <td>0.665334</td>\n",
       "      <td>0.602738</td>\n",
       "      <td>0.706501</td>\n",
       "      <td>-0.206302</td>\n",
       "      <td>-0.070061</td>\n",
       "      <td>0.0</td>\n",
       "      <td>1.0</td>\n",
       "      <td>0.0</td>\n",
       "      <td>0.0</td>\n",
       "      <td>0.0</td>\n",
       "      <td>0.0</td>\n",
       "    </tr>\n",
       "    <tr>\n",
       "      <th>477395</th>\n",
       "      <td>0.192945</td>\n",
       "      <td>0.184154</td>\n",
       "      <td>0.537712</td>\n",
       "      <td>0.635105</td>\n",
       "      <td>0.286764</td>\n",
       "      <td>0.392146</td>\n",
       "      <td>0.461548</td>\n",
       "      <td>-0.206302</td>\n",
       "      <td>-0.070061</td>\n",
       "      <td>0.0</td>\n",
       "      <td>1.0</td>\n",
       "      <td>0.0</td>\n",
       "      <td>0.0</td>\n",
       "      <td>0.0</td>\n",
       "      <td>0.0</td>\n",
       "    </tr>\n",
       "    <tr>\n",
       "      <th>477396</th>\n",
       "      <td>-1.040010</td>\n",
       "      <td>-1.041536</td>\n",
       "      <td>-0.871019</td>\n",
       "      <td>-0.846451</td>\n",
       "      <td>-0.049743</td>\n",
       "      <td>-0.071158</td>\n",
       "      <td>-0.028357</td>\n",
       "      <td>-0.206302</td>\n",
       "      <td>-0.070061</td>\n",
       "      <td>0.0</td>\n",
       "      <td>0.0</td>\n",
       "      <td>0.0</td>\n",
       "      <td>0.0</td>\n",
       "      <td>0.0</td>\n",
       "      <td>1.0</td>\n",
       "    </tr>\n",
       "    <tr>\n",
       "      <th>477397</th>\n",
       "      <td>-0.785267</td>\n",
       "      <td>-0.774040</td>\n",
       "      <td>-0.677777</td>\n",
       "      <td>-0.646902</td>\n",
       "      <td>-0.400271</td>\n",
       "      <td>-0.464264</td>\n",
       "      <td>-0.604716</td>\n",
       "      <td>-0.206302</td>\n",
       "      <td>-0.070061</td>\n",
       "      <td>0.0</td>\n",
       "      <td>0.0</td>\n",
       "      <td>0.0</td>\n",
       "      <td>0.0</td>\n",
       "      <td>1.0</td>\n",
       "      <td>0.0</td>\n",
       "    </tr>\n",
       "    <tr>\n",
       "      <th>477398</th>\n",
       "      <td>-1.009440</td>\n",
       "      <td>-1.001612</td>\n",
       "      <td>-0.668115</td>\n",
       "      <td>-0.661962</td>\n",
       "      <td>0.651313</td>\n",
       "      <td>0.462343</td>\n",
       "      <td>0.447139</td>\n",
       "      <td>-0.206302</td>\n",
       "      <td>-0.070061</td>\n",
       "      <td>0.0</td>\n",
       "      <td>0.0</td>\n",
       "      <td>1.0</td>\n",
       "      <td>0.0</td>\n",
       "      <td>0.0</td>\n",
       "      <td>0.0</td>\n",
       "    </tr>\n",
       "  </tbody>\n",
       "</table>\n",
       "<p>455809 rows × 15 columns</p>\n",
       "</div>"
      ],
      "text/plain": [
       "        crs_dep_time  dep_time  crs_arr_time  arr_time  crs_elapsed_time  \\\n",
       "0          -0.610004 -0.610349     -0.532846 -0.603604         -0.554503   \n",
       "1          -1.478167 -1.546585     -1.506784 -1.535459         -1.087305   \n",
       "2           0.213324  0.198128      0.263309  0.313191         -0.442334   \n",
       "3           0.967363  1.024570      0.877817  1.026672         -0.610587   \n",
       "4          -0.612042 -0.233060     -0.536711 -0.219567         -0.568524   \n",
       "...              ...       ...           ...       ...               ...   \n",
       "477394      0.559774  0.457639      0.821777  0.732996          0.665334   \n",
       "477395      0.192945  0.184154      0.537712  0.635105          0.286764   \n",
       "477396     -1.040010 -1.041536     -0.871019 -0.846451         -0.049743   \n",
       "477397     -0.785267 -0.774040     -0.677777 -0.646902         -0.400271   \n",
       "477398     -1.009440 -1.001612     -0.668115 -0.661962          0.651313   \n",
       "\n",
       "        actual_elapsed_time  air_time  carrier_delay  weather_delay    1    2  \\\n",
       "0                 -0.731015 -0.719988      -0.206302      -0.070061  0.0  0.0   \n",
       "1                 -1.096042 -1.080213      -0.206302      -0.070061  1.0  0.0   \n",
       "2                 -0.141356 -0.273310      -0.206302      -0.070061  0.0  1.0   \n",
       "3                 -0.632738 -0.777624      -0.013277      -0.070061  0.0  1.0   \n",
       "4                 -0.520422 -0.518262       1.916976      -0.070061  0.0  0.0   \n",
       "...                     ...       ...            ...            ...  ...  ...   \n",
       "477394             0.602738  0.706501      -0.206302      -0.070061  0.0  1.0   \n",
       "477395             0.392146  0.461548      -0.206302      -0.070061  0.0  1.0   \n",
       "477396            -0.071158 -0.028357      -0.206302      -0.070061  0.0  0.0   \n",
       "477397            -0.464264 -0.604716      -0.206302      -0.070061  0.0  0.0   \n",
       "477398             0.462343  0.447139      -0.206302      -0.070061  0.0  0.0   \n",
       "\n",
       "          3    4    5    6  \n",
       "0       0.0  0.0  1.0  0.0  \n",
       "1       0.0  0.0  0.0  0.0  \n",
       "2       0.0  0.0  0.0  0.0  \n",
       "3       0.0  0.0  0.0  0.0  \n",
       "4       0.0  0.0  0.0  1.0  \n",
       "...     ...  ...  ...  ...  \n",
       "477394  0.0  0.0  0.0  0.0  \n",
       "477395  0.0  0.0  0.0  0.0  \n",
       "477396  0.0  0.0  0.0  1.0  \n",
       "477397  0.0  0.0  1.0  0.0  \n",
       "477398  1.0  0.0  0.0  0.0  \n",
       "\n",
       "[455809 rows x 15 columns]"
      ]
     },
     "execution_count": 52,
     "metadata": {},
     "output_type": "execute_result"
    }
   ],
   "source": [
    "X"
   ]
  },
  {
   "cell_type": "code",
   "execution_count": 53,
   "id": "bc1f8a69-111a-432e-b5b8-28fc5095daf0",
   "metadata": {},
   "outputs": [
    {
     "name": "stdout",
     "output_type": "stream",
     "text": [
      "Total Explained Variance: 64.34%\n"
     ]
    },
    {
     "data": {
      "text/plain": [
       "{'0': 'PC 1 (33.8%)', '1': 'PC 2 (30.6%)'}"
      ]
     },
     "execution_count": 53,
     "metadata": {},
     "output_type": "execute_result"
    }
   ],
   "source": [
    "# Dimensional Reductionality\n",
    "from sklearn.decomposition import PCA\n",
    "\n",
    "n_components = 2\n",
    "pca = PCA(n_components=n_components)\n",
    "components = pca.fit_transform(X)\n",
    "labels = {\n",
    "    str(i): f'PC {i+1} ({var:.1f}%)'\n",
    "    for i, var in enumerate(pca.explained_variance_ratio_ * 100)\n",
    "}\n",
    "\n",
    "\n",
    "total_var = pca.explained_variance_ratio_.sum() * 100\n",
    "print(f'Total Explained Variance: {total_var:.2f}%')\n",
    "\n",
    "labels"
   ]
  },
  {
   "cell_type": "code",
   "execution_count": 54,
   "id": "7f69597a-ff9a-455a-aeb6-5be77d0e7faa",
   "metadata": {},
   "outputs": [],
   "source": [
    "from sklearn.model_selection import train_test_split\n",
    "\n",
    "# Split dataset into training set and test set\n",
    "X_train, X_test, y_train, y_test = train_test_split(X, y, test_size=0.3, random_state=101) # 70% training and 30% test"
   ]
  },
  {
   "cell_type": "code",
   "execution_count": 55,
   "id": "4aa725fc-cd39-4685-81ac-3acbba396f4a",
   "metadata": {},
   "outputs": [
    {
     "data": {
      "text/plain": [
       "((319066, 15), (136743, 15))"
      ]
     },
     "execution_count": 55,
     "metadata": {},
     "output_type": "execute_result"
    }
   ],
   "source": [
    "# check the shape of X_train and X_test\n",
    "\n",
    "X_train.shape, X_test.shape"
   ]
  },
  {
   "cell_type": "code",
   "execution_count": 56,
   "id": "837f6c12-f3e2-4bd4-a1f7-eb3bf9a394d3",
   "metadata": {},
   "outputs": [
    {
     "name": "stdout",
     "output_type": "stream",
     "text": [
      "LR-MAE for the Training set:  0.3870761352421382\n",
      "LR-Score for the Training set:  0.5400298733454992\n"
     ]
    }
   ],
   "source": [
    "from sklearn.linear_model import LinearRegression, Ridge, Lasso\n",
    "# import MAE from sklearn\n",
    "from sklearn.metrics import mean_absolute_error\n",
    "\n",
    "# Baseline Model, fit and predict linear regression\n",
    "\n",
    "lr = LinearRegression()\n",
    "lr.fit(X_train,y_train)\n",
    "y_lr = lr.predict(X_train)\n",
    "\n",
    "print(\"LR-MAE for the Training set: \",mean_absolute_error(y_train, y_lr))\n",
    "print(\"LR-Score for the Training set: \", lr.score(X_train, y_train)) # R2 score"
   ]
  },
  {
   "cell_type": "code",
   "execution_count": 57,
   "id": "1734de84-37fe-407f-a43b-7e0a0c7671d4",
   "metadata": {},
   "outputs": [
    {
     "name": "stdout",
     "output_type": "stream",
     "text": [
      "MAE for the test set:  0.3873412110639489\n",
      "LR-Score for the Test set:  1.0\n"
     ]
    }
   ],
   "source": [
    "# Predicting using the test set\n",
    "\n",
    "y_test_lr = lr.predict(X_test)\n",
    "print(\"MAE for the test set: \", mean_absolute_error(y_test, y_test_lr))\n",
    "print(\"LR-Score for the Test set: \", lr.score(X_test, y_test_lr))"
   ]
  },
  {
   "cell_type": "code",
   "execution_count": 58,
   "id": "52b02746-194b-4f9b-b349-b9589eeaa887",
   "metadata": {},
   "outputs": [
    {
     "name": "stdout",
     "output_type": "stream",
     "text": [
      "RR-MAE for the Training set:  0.3870764969721132\n",
      "RR-MAE for the Test set:  0.3873415449855285\n"
     ]
    }
   ],
   "source": [
    "# creating ridge regression\n",
    "rr = Ridge(alpha=0.1)\n",
    "rr.fit(X_train,y_train)\n",
    "y_rr = rr.predict(X_train)\n",
    "print(\"RR-MAE for the Training set: \",mean_absolute_error(y_train, y_rr))\n",
    "\n",
    "y__test_rr = rr.predict(X_test)\n",
    "print(\"RR-MAE for the Test set: \",mean_absolute_error(y_test, y__test_rr))"
   ]
  },
  {
   "cell_type": "code",
   "execution_count": 59,
   "id": "6718d9e0-4786-4010-8f5c-c2169292637a",
   "metadata": {},
   "outputs": [
    {
     "name": "stdout",
     "output_type": "stream",
     "text": [
      "Linear Regression is better\n"
     ]
    }
   ],
   "source": [
    "# According to MAE, what is the better model?\n",
    "\n",
    "if mean_absolute_error(y_train, y_lr) < mean_absolute_error(y_train, y_rr):\n",
    "    print(\"Linear Regression is better\")\n",
    "else:\n",
    "    print(\"Ridge Regression is better\")"
   ]
  },
  {
   "cell_type": "code",
   "execution_count": 60,
   "id": "8d74fb8d-a88c-4c84-aa62-ae437b0cf030",
   "metadata": {},
   "outputs": [
    {
     "name": "stdout",
     "output_type": "stream",
     "text": [
      "LR-R2 Score for the Training set:  0.5400298733454992\n"
     ]
    }
   ],
   "source": [
    "# import r2_score from sklearn\n",
    "from sklearn.metrics import r2_score\n",
    "\n",
    "print(\"LR-R2 Score for the Training set: \",r2_score(y_train, y_lr)) # linear Regression"
   ]
  },
  {
   "cell_type": "code",
   "execution_count": 61,
   "id": "f8c83bb7-c9c3-4752-8389-0cca1b8cdfa6",
   "metadata": {},
   "outputs": [
    {
     "name": "stdout",
     "output_type": "stream",
     "text": [
      "RR-R2 Score for the Training set:  0.5400298732694357\n"
     ]
    }
   ],
   "source": [
    "print(\"RR-R2 Score for the Training set: \",r2_score(y_train, y_rr)) # ridge regression"
   ]
  },
  {
   "cell_type": "code",
   "execution_count": 62,
   "id": "eec88d92-5b3f-401f-842b-3c10de57513f",
   "metadata": {},
   "outputs": [],
   "source": [
    "# Gridsearch\n",
    "\n",
    "#Use grid_search to find the best value of the parameter alpha for Ridge and Lasso regressions\n",
    "\n",
    "from sklearn.model_selection import GridSearchCV"
   ]
  },
  {
   "cell_type": "code",
   "execution_count": 63,
   "id": "c7bca1ea-55c5-4fe9-b4de-d096810ea710",
   "metadata": {},
   "outputs": [
    {
     "name": "stdout",
     "output_type": "stream",
     "text": [
      "Training score for Ridge: 0.5399567149536291\n",
      "Best alpha for Ridge: 0.1\n"
     ]
    }
   ],
   "source": [
    "#define possible alphas\n",
    "param_grid = [{'alpha': [0.0001, 0.001, 0.01, 0.1]}]\n",
    "\n",
    "#create gridsearch object\n",
    "gridsearch_obj = GridSearchCV(estimator=rr, scoring='r2', param_grid=param_grid, n_jobs=-1)\n",
    "\n",
    "#save fit to training data set\n",
    "rr_fit = gridsearch_obj.fit(X_train, y_train)\n",
    "\n",
    "# View the accuracy score\n",
    "print('Training score for Ridge:', gridsearch_obj.best_score_) \n",
    "print('Best alpha for Ridge:', gridsearch_obj.best_estimator_.alpha)\n"
   ]
  },
  {
   "cell_type": "code",
   "execution_count": 64,
   "id": "6d5896ba-8454-441e-8a2d-58e1320969e0",
   "metadata": {},
   "outputs": [
    {
     "name": "stdout",
     "output_type": "stream",
     "text": [
      "Test score for Ridge: 0.5302784409925121\n",
      "Best alpha for Ridge: 0.1\n"
     ]
    }
   ],
   "source": [
    "#save fit to Test data set\n",
    "rr__test_fit = gridsearch_obj.fit(X_test, y_test)\n",
    "\n",
    "# View the accuracy score\n",
    "print('Test score for Ridge:', gridsearch_obj.best_score_) \n",
    "print('Best alpha for Ridge:', gridsearch_obj.best_estimator_.alpha)\n"
   ]
  },
  {
   "cell_type": "code",
   "execution_count": 65,
   "id": "d5a3e80d-b42e-4cfe-a945-6a14d1a572c4",
   "metadata": {},
   "outputs": [
    {
     "name": "stdout",
     "output_type": "stream",
     "text": [
      "Training score for Lasso: 0.5399592829404679\n",
      "Best alpha for Lasso: 0.0001\n"
     ]
    }
   ],
   "source": [
    "#define possible alphas\n",
    "\n",
    "# lasso Regression\n",
    "ll = Lasso()\n",
    "param_grid = [{'alpha': [0.0001, 0.001, 0.01, 0.1]}]\n",
    "\n",
    "#create gridsearch object\n",
    "gridsearch_obj = GridSearchCV(estimator=ll, scoring='r2', param_grid=param_grid, n_jobs=-1)\n",
    "\n",
    "#save fit to training data set\n",
    "ll_fit = gridsearch_obj.fit(X_train, y_train)\n",
    "\n",
    "# View the accuracy score\n",
    "print('Training score for Lasso:', gridsearch_obj.best_score_) \n",
    "print('Best alpha for Lasso:', gridsearch_obj.best_estimator_.alpha)\n"
   ]
  },
  {
   "cell_type": "markdown",
   "id": "f464f518-fd90-45ea-92b7-ca3a71a4eeed",
   "metadata": {},
   "source": [
    "### Random Forest"
   ]
  },
  {
   "cell_type": "code",
   "execution_count": 66,
   "id": "45f03f07-5fc7-419d-a80c-78fa33de2cf4",
   "metadata": {},
   "outputs": [],
   "source": [
    "# import Random Forest classifier\n",
    "from sklearn.ensemble import RandomForestRegressor"
   ]
  },
  {
   "cell_type": "code",
   "execution_count": 67,
   "id": "e65cb66d-bb40-48f7-bd9a-12d69b202eb4",
   "metadata": {},
   "outputs": [],
   "source": [
    "# instantiate the regressor with default parameters of n_estimators = 10\n",
    "rfr = RandomForestRegressor(n_estimators=10, random_state=0)"
   ]
  },
  {
   "cell_type": "code",
   "execution_count": 68,
   "id": "9abd62f9-9c77-4823-8d31-fb0ddd71aa39",
   "metadata": {},
   "outputs": [
    {
     "data": {
      "text/plain": [
       "RandomForestRegressor(n_estimators=10, random_state=0)"
      ]
     },
     "execution_count": 68,
     "metadata": {},
     "output_type": "execute_result"
    }
   ],
   "source": [
    "# fit the model\n",
    "rfr.fit(X_train, y_train)"
   ]
  },
  {
   "cell_type": "code",
   "execution_count": 69,
   "id": "ee5f1359-0325-4833-b310-76e1fad5da04",
   "metadata": {},
   "outputs": [],
   "source": [
    "# Predict the Test set results\n",
    "y_pred = rfr.predict(X_test)"
   ]
  },
  {
   "cell_type": "code",
   "execution_count": 70,
   "id": "39accaa3-965b-47fa-ac60-ee7784cec5d1",
   "metadata": {},
   "outputs": [
    {
     "name": "stdout",
     "output_type": "stream",
     "text": [
      "Random Forest R2 Score:  0.9874685882208614\n"
     ]
    }
   ],
   "source": [
    "print(\"Random Forest R2 Score: \",r2_score(y_test, y_pred)) "
   ]
  },
  {
   "cell_type": "code",
   "execution_count": 71,
   "id": "e7af5f77-8087-4ae5-b6eb-a0c645e37880",
   "metadata": {},
   "outputs": [],
   "source": [
    "#Using grid search\n",
    "\n",
    "from sklearn.metrics import SCORERS\n",
    "\n",
    "\n",
    "#create grid (optimize for number of trees and max depth in one tree)\n",
    "#Scorers\n",
    "\n",
    "param_grid = {\n",
    "    'max_depth' : [4, 5, 6, 7, 8, 9, 10],\n",
    "    'n_estimators' : [10, 50, 100, 150]\n",
    "    }\n"
   ]
  },
  {
   "cell_type": "code",
   "execution_count": 75,
   "id": "d3010c3d-867e-443a-8481-201fa7c2eff3",
   "metadata": {},
   "outputs": [
    {
     "name": "stdout",
     "output_type": "stream",
     "text": [
      "Fitting 5 folds for each of 28 candidates, totalling 140 fits\n",
      "[CV 1/5] END ..max_depth=4, n_estimators=10; r2: (test=0.411) total time=   3.8s\n",
      "[CV 2/5] END ..max_depth=4, n_estimators=10; r2: (test=0.420) total time=   3.6s\n",
      "[CV 3/5] END ..max_depth=4, n_estimators=10; r2: (test=0.413) total time=   3.6s\n",
      "[CV 4/5] END ..max_depth=4, n_estimators=10; r2: (test=0.411) total time=   3.4s\n",
      "[CV 5/5] END ..max_depth=4, n_estimators=10; r2: (test=0.402) total time=   3.3s\n",
      "[CV 1/5] END ..max_depth=4, n_estimators=50; r2: (test=0.412) total time=  19.4s\n",
      "[CV 2/5] END ..max_depth=4, n_estimators=50; r2: (test=0.420) total time=  19.6s\n",
      "[CV 3/5] END ..max_depth=4, n_estimators=50; r2: (test=0.415) total time=  17.8s\n",
      "[CV 4/5] END ..max_depth=4, n_estimators=50; r2: (test=0.412) total time=  19.5s\n",
      "[CV 5/5] END ..max_depth=4, n_estimators=50; r2: (test=0.402) total time=  17.1s\n",
      "[CV 1/5] END .max_depth=4, n_estimators=100; r2: (test=0.411) total time=  34.3s\n",
      "[CV 2/5] END .max_depth=4, n_estimators=100; r2: (test=0.421) total time=  34.0s\n",
      "[CV 3/5] END .max_depth=4, n_estimators=100; r2: (test=0.415) total time=  34.0s\n",
      "[CV 4/5] END .max_depth=4, n_estimators=100; r2: (test=0.412) total time=  37.3s\n",
      "[CV 5/5] END .max_depth=4, n_estimators=100; r2: (test=0.402) total time=  35.9s\n",
      "[CV 1/5] END .max_depth=4, n_estimators=150; r2: (test=0.411) total time=  56.7s\n",
      "[CV 2/5] END .max_depth=4, n_estimators=150; r2: (test=0.421) total time=  53.1s\n",
      "[CV 3/5] END .max_depth=4, n_estimators=150; r2: (test=0.415) total time=  50.2s\n",
      "[CV 4/5] END .max_depth=4, n_estimators=150; r2: (test=0.412) total time=  50.2s\n",
      "[CV 5/5] END .max_depth=4, n_estimators=150; r2: (test=0.402) total time=  49.7s\n",
      "[CV 1/5] END ..max_depth=5, n_estimators=10; r2: (test=0.436) total time=   4.1s\n",
      "[CV 2/5] END ..max_depth=5, n_estimators=10; r2: (test=0.445) total time=   4.2s\n",
      "[CV 3/5] END ..max_depth=5, n_estimators=10; r2: (test=0.438) total time=   4.0s\n",
      "[CV 4/5] END ..max_depth=5, n_estimators=10; r2: (test=0.437) total time=   4.1s\n",
      "[CV 5/5] END ..max_depth=5, n_estimators=10; r2: (test=0.429) total time=   4.8s\n",
      "[CV 1/5] END ..max_depth=5, n_estimators=50; r2: (test=0.438) total time=  21.7s\n",
      "[CV 2/5] END ..max_depth=5, n_estimators=50; r2: (test=0.447) total time=  23.0s\n",
      "[CV 3/5] END ..max_depth=5, n_estimators=50; r2: (test=0.440) total time=  24.5s\n",
      "[CV 4/5] END ..max_depth=5, n_estimators=50; r2: (test=0.438) total time=  24.1s\n",
      "[CV 5/5] END ..max_depth=5, n_estimators=50; r2: (test=0.429) total time=  23.4s\n",
      "[CV 1/5] END .max_depth=5, n_estimators=100; r2: (test=0.437) total time=  42.0s\n",
      "[CV 2/5] END .max_depth=5, n_estimators=100; r2: (test=0.447) total time=  51.0s\n",
      "[CV 3/5] END .max_depth=5, n_estimators=100; r2: (test=0.440) total time=  51.0s\n",
      "[CV 4/5] END .max_depth=5, n_estimators=100; r2: (test=0.438) total time=  44.5s\n",
      "[CV 5/5] END .max_depth=5, n_estimators=100; r2: (test=0.429) total time=  43.1s\n",
      "[CV 1/5] END .max_depth=5, n_estimators=150; r2: (test=0.437) total time= 1.1min\n",
      "[CV 2/5] END .max_depth=5, n_estimators=150; r2: (test=0.448) total time= 1.1min\n",
      "[CV 3/5] END .max_depth=5, n_estimators=150; r2: (test=0.440) total time= 1.1min\n",
      "[CV 4/5] END .max_depth=5, n_estimators=150; r2: (test=0.438) total time= 1.7min\n",
      "[CV 5/5] END .max_depth=5, n_estimators=150; r2: (test=0.429) total time= 1.4min\n",
      "[CV 1/5] END ..max_depth=6, n_estimators=10; r2: (test=0.467) total time=   5.7s\n",
      "[CV 2/5] END ..max_depth=6, n_estimators=10; r2: (test=0.481) total time=   5.4s\n",
      "[CV 3/5] END ..max_depth=6, n_estimators=10; r2: (test=0.473) total time=   5.6s\n",
      "[CV 4/5] END ..max_depth=6, n_estimators=10; r2: (test=0.474) total time=   5.6s\n",
      "[CV 5/5] END ..max_depth=6, n_estimators=10; r2: (test=0.463) total time=   5.6s\n",
      "[CV 1/5] END ..max_depth=6, n_estimators=50; r2: (test=0.472) total time=  27.7s\n",
      "[CV 2/5] END ..max_depth=6, n_estimators=50; r2: (test=0.482) total time=  27.7s\n",
      "[CV 3/5] END ..max_depth=6, n_estimators=50; r2: (test=0.474) total time=  29.1s\n",
      "[CV 4/5] END ..max_depth=6, n_estimators=50; r2: (test=0.473) total time=  28.2s\n",
      "[CV 5/5] END ..max_depth=6, n_estimators=50; r2: (test=0.464) total time=  27.7s\n",
      "[CV 1/5] END .max_depth=6, n_estimators=100; r2: (test=0.471) total time=  57.8s\n",
      "[CV 2/5] END .max_depth=6, n_estimators=100; r2: (test=0.482) total time=  55.0s\n",
      "[CV 3/5] END .max_depth=6, n_estimators=100; r2: (test=0.475) total time=  54.9s\n",
      "[CV 4/5] END .max_depth=6, n_estimators=100; r2: (test=0.472) total time=  55.9s\n",
      "[CV 5/5] END .max_depth=6, n_estimators=100; r2: (test=0.464) total time=  51.6s\n",
      "[CV 1/5] END .max_depth=6, n_estimators=150; r2: (test=0.470) total time= 1.3min\n",
      "[CV 2/5] END .max_depth=6, n_estimators=150; r2: (test=0.482) total time= 1.2min\n",
      "[CV 3/5] END .max_depth=6, n_estimators=150; r2: (test=0.475) total time= 1.3min\n",
      "[CV 4/5] END .max_depth=6, n_estimators=150; r2: (test=0.472) total time= 1.4min\n",
      "[CV 5/5] END .max_depth=6, n_estimators=150; r2: (test=0.464) total time= 1.4min\n",
      "[CV 1/5] END ..max_depth=7, n_estimators=10; r2: (test=0.527) total time=   6.5s\n",
      "[CV 2/5] END ..max_depth=7, n_estimators=10; r2: (test=0.542) total time=   6.4s\n",
      "[CV 3/5] END ..max_depth=7, n_estimators=10; r2: (test=0.538) total time=   6.4s\n",
      "[CV 4/5] END ..max_depth=7, n_estimators=10; r2: (test=0.537) total time=   6.4s\n",
      "[CV 5/5] END ..max_depth=7, n_estimators=10; r2: (test=0.523) total time=   6.4s\n",
      "[CV 1/5] END ..max_depth=7, n_estimators=50; r2: (test=0.534) total time=  32.4s\n",
      "[CV 2/5] END ..max_depth=7, n_estimators=50; r2: (test=0.544) total time=  32.2s\n",
      "[CV 3/5] END ..max_depth=7, n_estimators=50; r2: (test=0.538) total time=  31.4s\n",
      "[CV 4/5] END ..max_depth=7, n_estimators=50; r2: (test=0.536) total time=  31.8s\n",
      "[CV 5/5] END ..max_depth=7, n_estimators=50; r2: (test=0.526) total time=  29.0s\n",
      "[CV 1/5] END .max_depth=7, n_estimators=100; r2: (test=0.534) total time= 1.0min\n",
      "[CV 2/5] END .max_depth=7, n_estimators=100; r2: (test=0.544) total time=  58.5s\n",
      "[CV 3/5] END .max_depth=7, n_estimators=100; r2: (test=0.538) total time=  59.0s\n",
      "[CV 4/5] END .max_depth=7, n_estimators=100; r2: (test=0.536) total time=  57.2s\n",
      "[CV 5/5] END .max_depth=7, n_estimators=100; r2: (test=0.527) total time= 1.1min\n",
      "[CV 1/5] END .max_depth=7, n_estimators=150; r2: (test=0.533) total time= 1.6min\n",
      "[CV 2/5] END .max_depth=7, n_estimators=150; r2: (test=0.544) total time= 1.5min\n",
      "[CV 3/5] END .max_depth=7, n_estimators=150; r2: (test=0.538) total time= 1.5min\n",
      "[CV 4/5] END .max_depth=7, n_estimators=150; r2: (test=0.537) total time= 1.6min\n",
      "[CV 5/5] END .max_depth=7, n_estimators=150; r2: (test=0.527) total time= 1.7min\n",
      "[CV 1/5] END ..max_depth=8, n_estimators=10; r2: (test=0.564) total time=   7.0s\n",
      "[CV 2/5] END ..max_depth=8, n_estimators=10; r2: (test=0.583) total time=   7.0s\n",
      "[CV 3/5] END ..max_depth=8, n_estimators=10; r2: (test=0.578) total time=   7.1s\n",
      "[CV 4/5] END ..max_depth=8, n_estimators=10; r2: (test=0.577) total time=   6.9s\n",
      "[CV 5/5] END ..max_depth=8, n_estimators=10; r2: (test=0.563) total time=   7.0s\n",
      "[CV 1/5] END ..max_depth=8, n_estimators=50; r2: (test=0.571) total time=  34.4s\n",
      "[CV 2/5] END ..max_depth=8, n_estimators=50; r2: (test=0.583) total time=  35.8s\n",
      "[CV 3/5] END ..max_depth=8, n_estimators=50; r2: (test=0.576) total time=  42.3s\n",
      "[CV 4/5] END ..max_depth=8, n_estimators=50; r2: (test=0.573) total time=  38.8s\n",
      "[CV 5/5] END ..max_depth=8, n_estimators=50; r2: (test=0.567) total time=  35.5s\n",
      "[CV 1/5] END .max_depth=8, n_estimators=100; r2: (test=0.572) total time= 1.2min\n",
      "[CV 2/5] END .max_depth=8, n_estimators=100; r2: (test=0.584) total time= 1.1min\n",
      "[CV 3/5] END .max_depth=8, n_estimators=100; r2: (test=0.577) total time= 1.1min\n",
      "[CV 4/5] END .max_depth=8, n_estimators=100; r2: (test=0.574) total time= 1.1min\n",
      "[CV 5/5] END .max_depth=8, n_estimators=100; r2: (test=0.567) total time= 1.1min\n",
      "[CV 1/5] END .max_depth=8, n_estimators=150; r2: (test=0.571) total time= 1.6min\n",
      "[CV 2/5] END .max_depth=8, n_estimators=150; r2: (test=0.583) total time= 1.6min\n",
      "[CV 3/5] END .max_depth=8, n_estimators=150; r2: (test=0.576) total time= 1.6min\n",
      "[CV 4/5] END .max_depth=8, n_estimators=150; r2: (test=0.574) total time= 1.6min\n",
      "[CV 5/5] END .max_depth=8, n_estimators=150; r2: (test=0.567) total time= 1.6min\n",
      "[CV 1/5] END ..max_depth=9, n_estimators=10; r2: (test=0.603) total time=   7.0s\n",
      "[CV 2/5] END ..max_depth=9, n_estimators=10; r2: (test=0.624) total time=   7.4s\n",
      "[CV 3/5] END ..max_depth=9, n_estimators=10; r2: (test=0.623) total time=   7.1s\n",
      "[CV 4/5] END ..max_depth=9, n_estimators=10; r2: (test=0.613) total time=   8.6s\n",
      "[CV 5/5] END ..max_depth=9, n_estimators=10; r2: (test=0.602) total time=   8.7s\n",
      "[CV 1/5] END ..max_depth=9, n_estimators=50; r2: (test=0.609) total time=  38.2s\n",
      "[CV 2/5] END ..max_depth=9, n_estimators=50; r2: (test=0.624) total time=  35.6s\n",
      "[CV 3/5] END ..max_depth=9, n_estimators=50; r2: (test=0.617) total time=  35.9s\n",
      "[CV 4/5] END ..max_depth=9, n_estimators=50; r2: (test=0.611) total time=  35.2s\n",
      "[CV 5/5] END ..max_depth=9, n_estimators=50; r2: (test=0.606) total time=  35.7s\n",
      "[CV 1/5] END .max_depth=9, n_estimators=100; r2: (test=0.611) total time= 1.2min\n",
      "[CV 2/5] END .max_depth=9, n_estimators=100; r2: (test=0.624) total time= 1.2min\n",
      "[CV 3/5] END .max_depth=9, n_estimators=100; r2: (test=0.619) total time= 1.2min\n",
      "[CV 4/5] END .max_depth=9, n_estimators=100; r2: (test=0.612) total time= 1.2min\n",
      "[CV 5/5] END .max_depth=9, n_estimators=100; r2: (test=0.609) total time= 1.2min\n",
      "[CV 1/5] END .max_depth=9, n_estimators=150; r2: (test=0.611) total time= 1.8min\n",
      "[CV 2/5] END .max_depth=9, n_estimators=150; r2: (test=0.623) total time= 1.8min\n",
      "[CV 3/5] END .max_depth=9, n_estimators=150; r2: (test=0.618) total time= 1.8min\n",
      "[CV 4/5] END .max_depth=9, n_estimators=150; r2: (test=0.612) total time= 2.0min\n",
      "[CV 5/5] END .max_depth=9, n_estimators=150; r2: (test=0.609) total time= 2.0min\n",
      "[CV 1/5] END .max_depth=10, n_estimators=10; r2: (test=0.659) total time=   9.8s\n",
      "[CV 2/5] END .max_depth=10, n_estimators=10; r2: (test=0.686) total time=   8.7s\n",
      "[CV 3/5] END .max_depth=10, n_estimators=10; r2: (test=0.672) total time=  11.7s\n",
      "[CV 4/5] END .max_depth=10, n_estimators=10; r2: (test=0.675) total time=  10.2s\n",
      "[CV 5/5] END .max_depth=10, n_estimators=10; r2: (test=0.666) total time=   9.0s\n",
      "[CV 1/5] END .max_depth=10, n_estimators=50; r2: (test=0.667) total time=  46.4s\n",
      "[CV 2/5] END .max_depth=10, n_estimators=50; r2: (test=0.686) total time=  45.1s\n",
      "[CV 3/5] END .max_depth=10, n_estimators=50; r2: (test=0.669) total time=  44.9s\n",
      "[CV 4/5] END .max_depth=10, n_estimators=50; r2: (test=0.672) total time=  44.9s\n",
      "[CV 5/5] END .max_depth=10, n_estimators=50; r2: (test=0.672) total time=  46.1s\n",
      "[CV 1/5] END max_depth=10, n_estimators=100; r2: (test=0.673) total time= 1.6min\n",
      "[CV 2/5] END max_depth=10, n_estimators=100; r2: (test=0.687) total time= 1.6min\n",
      "[CV 3/5] END max_depth=10, n_estimators=100; r2: (test=0.671) total time= 1.6min\n",
      "[CV 4/5] END max_depth=10, n_estimators=100; r2: (test=0.675) total time= 1.6min\n",
      "[CV 5/5] END max_depth=10, n_estimators=100; r2: (test=0.673) total time= 1.7min\n",
      "[CV 1/5] END max_depth=10, n_estimators=150; r2: (test=0.672) total time= 2.5min\n",
      "[CV 2/5] END max_depth=10, n_estimators=150; r2: (test=0.687) total time= 2.4min\n",
      "[CV 3/5] END max_depth=10, n_estimators=150; r2: (test=0.672) total time= 2.5min\n",
      "[CV 4/5] END max_depth=10, n_estimators=150; r2: (test=0.675) total time= 2.4min\n",
      "[CV 5/5] END max_depth=10, n_estimators=150; r2: (test=0.673) total time= 2.6min\n"
     ]
    },
    {
     "data": {
      "text/plain": [
       "GridSearchCV(cv=5,\n",
       "             estimator=RandomForestRegressor(n_estimators=10, random_state=0),\n",
       "             param_grid={'max_depth': [4, 5, 6, 7, 8, 9, 10],\n",
       "                         'n_estimators': [10, 50, 100, 150]},\n",
       "             refit='r2', scoring=['r2'], verbose=4)"
      ]
     },
     "execution_count": 75,
     "metadata": {},
     "output_type": "execute_result"
    }
   ],
   "source": [
    "# rfc - random forest regressor\n",
    "\n",
    "from sklearn.model_selection import GridSearchCV\n",
    "\n",
    "CV_rfr = GridSearchCV(estimator= rfr, param_grid=param_grid, \n",
    "                      scoring = ['r2'], \n",
    "                      cv= 5,\n",
    "                      refit = 'r2',\n",
    "                      verbose = 4)\n",
    "\n",
    "CV_rfr.fit(X_train, y_train)"
   ]
  },
  {
   "cell_type": "code",
   "execution_count": 76,
   "id": "574ec84e-ca8e-4d70-8588-6f7002c99f7c",
   "metadata": {},
   "outputs": [
    {
     "name": "stdout",
     "output_type": "stream",
     "text": [
      "RandomForestRegressor(max_depth=10, n_estimators=150, random_state=0)\n"
     ]
    }
   ],
   "source": [
    "print(CV_rfr.best_estimator_)"
   ]
  },
  {
   "cell_type": "code",
   "execution_count": 77,
   "id": "445e8613-1b3d-403e-a970-bc54b3b53c54",
   "metadata": {},
   "outputs": [
    {
     "data": {
      "text/plain": [
       "RandomForestRegressor(max_depth=10, random_state=0)"
      ]
     },
     "execution_count": 77,
     "metadata": {},
     "output_type": "execute_result"
    }
   ],
   "source": [
    "rfr_best = RandomForestRegressor(max_depth=10, random_state=0)\n",
    "rfr_best.fit(X_train, y_train)"
   ]
  },
  {
   "cell_type": "code",
   "execution_count": 78,
   "id": "77bd380c-bebb-48be-ac5e-feacc16c085c",
   "metadata": {},
   "outputs": [],
   "source": [
    "# Predict the Test set results\n",
    "y_pred_best = rfr_best.predict(X_test)"
   ]
  },
  {
   "cell_type": "code",
   "execution_count": 79,
   "id": "3aaa5019-ae7b-4a6c-887d-3e44890a78df",
   "metadata": {},
   "outputs": [
    {
     "name": "stdout",
     "output_type": "stream",
     "text": [
      "Random Forest with Grid Search R2 Score:  0.6707090034864107\n"
     ]
    }
   ],
   "source": [
    "print(\"Random Forest with Grid Search R2 Score: \",r2_score(y_test, y_pred_best)) "
   ]
  },
  {
   "cell_type": "markdown",
   "id": "293ad439-98f4-4f95-b97a-339822bf734d",
   "metadata": {},
   "source": [
    "### Ensemble"
   ]
  },
  {
   "cell_type": "code",
   "execution_count": 80,
   "id": "e5521391-e0d9-44c7-9d62-de3d3b5dfc6a",
   "metadata": {},
   "outputs": [],
   "source": [
    "import xgboost as xgb\n",
    "from sklearn.metrics import mean_squared_error"
   ]
  },
  {
   "cell_type": "code",
   "execution_count": 81,
   "id": "4dfb4732-45c4-4950-bf7a-f33d67876287",
   "metadata": {},
   "outputs": [],
   "source": [
    "# convert the dataset into an optimized data structure called Dmatrix\n",
    "\n",
    "data_dmatrix = xgb.DMatrix(data=X,label=y)"
   ]
  },
  {
   "cell_type": "code",
   "execution_count": 84,
   "id": "f3d5101a-6fde-40e4-8c98-1091a91c23e1",
   "metadata": {},
   "outputs": [],
   "source": [
    "# Instantiate an XGBoost regressor object by calling the XGBRegressor() class from the XGBoost library with the \n",
    "# hyper-parameters passed as arguments\n",
    "\n",
    "xg_reg = xgb.XGBRegressor(objective ='reg:squarederror', colsample_bytree = 0.5, learning_rate = 0.1,\n",
    "                max_depth = 5, alpha = 10, n_estimators = 10)"
   ]
  },
  {
   "cell_type": "code",
   "execution_count": 87,
   "id": "181f2533-8cfc-4ac4-9ab8-c7d622437bc5",
   "metadata": {},
   "outputs": [],
   "source": [
    "# Fit training data and predict with test data\n",
    "\n",
    "xg_reg.fit(X_train,y_train)\n",
    "\n",
    "y_test_pred = xg_reg.predict(X_test)"
   ]
  },
  {
   "cell_type": "code",
   "execution_count": 89,
   "id": "8e3e6b26-9e1a-4482-a99b-88d1c36dbdbe",
   "metadata": {},
   "outputs": [
    {
     "name": "stdout",
     "output_type": "stream",
     "text": [
      "RMSE: 0.821591\n",
      "MSE: 0.675012\n"
     ]
    }
   ],
   "source": [
    "# Compute the root mean squared error\n",
    "\n",
    "rmse = mean_squared_error(y_test, y_test_pred, squared = False)\n",
    "print(\"RMSE: %f\" % (rmse))\n",
    "\n",
    "# Compute the mean squared error\n",
    "\n",
    "mse = mean_squared_error(y_test, y_test_pred)\n",
    "print(\"MSE: %f\" % (mse))"
   ]
  },
  {
   "cell_type": "code",
   "execution_count": 90,
   "id": "8d737f58-7561-401e-8578-dd9530344329",
   "metadata": {},
   "outputs": [
    {
     "name": "stdout",
     "output_type": "stream",
     "text": [
      "XGBoost R2 Score:  0.3191394345229218\n"
     ]
    }
   ],
   "source": [
    "print(\"XGBoost R2 Score: \",r2_score(y_test, y_test_pred)) "
   ]
  },
  {
   "cell_type": "code",
   "execution_count": 91,
   "id": "0c31adb0-246c-4b31-b672-3b0c4ee12969",
   "metadata": {},
   "outputs": [
    {
     "name": "stdout",
     "output_type": "stream",
     "text": [
      "   train-rmse-mean  train-rmse-std  test-rmse-mean  test-rmse-std\n",
      "0         1.073462        0.001059        1.073598       0.002047\n",
      "1         1.032608        0.013266        1.032702       0.011237\n",
      "2         0.995133        0.007614        0.995221       0.004914\n",
      "3         0.959319        0.011310        0.959359       0.009655\n",
      "4         0.924629        0.010723        0.924697       0.009395\n",
      "49    0.609496\n",
      "Name: test-rmse-mean, dtype: float64\n"
     ]
    }
   ],
   "source": [
    "# k-fold Cross Validation using XGBoost\n",
    "\n",
    "# create a hyper-parameter dictionary params which holds all the hyper-parameters and their values as key-value pairs \n",
    "# but will exclude the n_estimators from the hyper-parameter dictionary because you will use num_boost_rounds instead.\n",
    "\n",
    "params = {\"objective\":\"reg:squarederror\",'colsample_bytree': 0.5,'learning_rate': 0.1,\n",
    "                'max_depth': 5, 'alpha': 10}\n",
    "\n",
    "cv_results = xgb.cv(dtrain=data_dmatrix, params=params, nfold=3,\n",
    "                    num_boost_round=50, early_stopping_rounds=10, metrics=\"rmse\", as_pandas=True, seed=123)\n",
    "\n",
    "# cv_results contains train and test RMSE metrics for each boosting round.\n",
    "\n",
    "print(cv_results.head())\n",
    "\n",
    "# Extract and print the final boosting round metric(present at the end)\n",
    "\n",
    "print((cv_results[\"test-rmse-mean\"]).tail(1))"
   ]
  },
  {
   "cell_type": "code",
   "execution_count": 93,
   "id": "1b1d90f0-a3c1-4c0e-a83a-973f4ae80f43",
   "metadata": {},
   "outputs": [
    {
     "name": "stdout",
     "output_type": "stream",
     "text": [
      "Fitting 2 folds for each of 36 candidates, totalling 72 fits\n",
      "0.8828941282104754\n",
      "{'colsample_bytree': 0.8, 'learning_rate': 0.07, 'max_depth': 7, 'n_estimators': 100, 'objective': 'reg:squarederror'}\n"
     ]
    }
   ],
   "source": [
    "# Use GridSearchCV to find optimal paramaters of models\n",
    "\n",
    "from sklearn.model_selection import GridSearchCV\n",
    "from xgboost.sklearn import XGBRegressor\n",
    "\n",
    "# Various hyper-parameters to tune\n",
    "\n",
    "xgb1 = XGBRegressor()\n",
    "\n",
    "parameters = {'objective':['reg:squarederror'],\n",
    "              'colsample_bytree': [0.5, 0.6, 0.7, 0.8],\n",
    "              'learning_rate': [.03, 0.05, .07], #so called `eta` value\n",
    "              'max_depth': [5, 6, 7],\n",
    "              'n_estimators': [100]}\n",
    "\n",
    "xgb_grid = GridSearchCV(xgb1,\n",
    "                        parameters,\n",
    "                        cv = 2,\n",
    "                        n_jobs = 5,\n",
    "                        verbose=True)\n",
    "\n",
    "xgb_grid.fit(X_train, y_train)\n",
    "\n",
    "print(xgb_grid.best_score_)\n",
    "print(xgb_grid.best_params_)"
   ]
  },
  {
   "cell_type": "code",
   "execution_count": 104,
   "id": "cf396dcd-85de-4030-9ba9-01c3489941e3",
   "metadata": {},
   "outputs": [
    {
     "name": "stdout",
     "output_type": "stream",
     "text": [
      "Lasso RMSE: 0.354516\n",
      "Lasso MSE: 0.125682\n"
     ]
    }
   ],
   "source": [
    "# Alpha - L1 regularization on leaf weights (Lasso Regression)\n",
    "\n",
    "\n",
    "xg_reg_L1 = xgb.XGBRegressor(objective ='reg:squarederror', colsample_bytree = 0.8, learning_rate = 0.07,\n",
    "                max_depth = 7, alpha = 8, n_estimators = 100)\n",
    "\n",
    "# Fit training data and predict with test data\n",
    "\n",
    "xg_reg_L1.fit(X_train,y_train)\n",
    "\n",
    "preds = xg_reg_L1.predict(X_test)\n",
    "\n",
    "# Compute the root mean squared error\n",
    "rmse = mean_squared_error(y_test, preds, squared = False)\n",
    "print(\"Lasso RMSE: %f\" % (rmse))\n",
    "\n",
    "# Compute the mean squared error\n",
    "mse = mean_squared_error(y_test, preds)\n",
    "print(\"Lasso MSE: %f\" % (mse))"
   ]
  },
  {
   "cell_type": "markdown",
   "id": "992a3f5b-23ec-4173-a8c1-bee970f62286",
   "metadata": {},
   "source": [
    "alpha = 10, Lasso RMSE: 0.358267, Lasso MSE: 0.128355\n",
    "\n",
    "alpha = 8, Lasso RMSE: 0.354516, Lasso MSE: 0.125682\n",
    "\n",
    "alpha = 6, Lasso RMSE: 0.357340, Lasso MSE: 0.127692"
   ]
  },
  {
   "cell_type": "code",
   "execution_count": 113,
   "id": "fbb6c001-1e0b-44bb-8deb-b96203ab382d",
   "metadata": {},
   "outputs": [
    {
     "name": "stdout",
     "output_type": "stream",
     "text": [
      "Ridge RMSE: 0.345872\n",
      "Ridge MSE: 0.119627\n"
     ]
    }
   ],
   "source": [
    "# lambda - L2 regularization on leaf weights (Ridge Regression)\n",
    "\n",
    "xg_reg_L2 = xgb.XGBRegressor(objective ='reg:squarederror', colsample_bytree = 0.8, learning_rate = 0.07,\n",
    "                max_depth = 7, reg_lambda = 10, n_estimators = 100)\n",
    "\n",
    "# Fit training data and predict with test data\n",
    "\n",
    "xg_reg_L2.fit(X_train,y_train)\n",
    "\n",
    "preds = xg_reg_L2.predict(X_test)\n",
    "\n",
    "# Compute the root mean squared error\n",
    "rmse = mean_squared_error(y_test, preds, squared = False)\n",
    "print(\"Ridge RMSE: %f\" % (rmse))\n",
    "\n",
    "# Compute the mean squared error\n",
    "mse = mean_squared_error(y_test, preds)\n",
    "print(\"Ridge MSE: %f\" % (mse))"
   ]
  },
  {
   "cell_type": "markdown",
   "id": "5e48bb82-a6a0-4165-91d7-56ba40ace23c",
   "metadata": {},
   "source": [
    "reg_lambda = 10, Ridge RMSE: 0.345872, Ridge MSE: 0.119627\n",
    "\n",
    "reg_lambda = 15, Ridge RMSE: 0.346135, Ridge MSE: 0.119810\n",
    "\n",
    "reg_lambda = 9, Ridge RMSE: 0.348422, Ridge MSE: 0.121398"
   ]
  },
  {
   "cell_type": "code",
   "execution_count": null,
   "id": "5f94d289-7dc6-42f9-b70f-cd4d3aea588b",
   "metadata": {},
   "outputs": [],
   "source": []
  },
  {
   "cell_type": "markdown",
   "id": "8882de9b-54fa-4117-a47e-6bd25198153c",
   "metadata": {},
   "source": [
    "## Model prediction using Flights_test"
   ]
  },
  {
   "cell_type": "code",
   "execution_count": null,
   "id": "a9e40e09-53ac-41ae-b1ab-2a05f2e31e22",
   "metadata": {},
   "outputs": [],
   "source": [
    "df_test = pd.read_csv('flights_test.csv', sep=',', skipinitialspace=True)"
   ]
  },
  {
   "cell_type": "code",
   "execution_count": null,
   "id": "51b83891-8cf8-4cc9-b536-cb24366a08f2",
   "metadata": {},
   "outputs": [],
   "source": [
    "df_test.columns"
   ]
  },
  {
   "cell_type": "code",
   "execution_count": null,
   "id": "bad29356-f189-41ea-b6c0-badbbdb77475",
   "metadata": {},
   "outputs": [],
   "source": [
    "y_lr = lr.predict(df_test)\n",
    "\n",
    "print(\"LR-MAE for the Training set: \",mean_absolute_error(y_train, y_lr))"
   ]
  },
  {
   "cell_type": "code",
   "execution_count": null,
   "id": "a4c60c39-0a82-4ca3-a912-e5a680110b17",
   "metadata": {},
   "outputs": [],
   "source": [
    "X.columns"
   ]
  },
  {
   "cell_type": "code",
   "execution_count": null,
   "id": "ceed4d18-8825-43b6-9697-3f9d9687fb98",
   "metadata": {},
   "outputs": [],
   "source": []
  },
  {
   "cell_type": "code",
   "execution_count": null,
   "id": "ca254c40-eec1-4d65-bf5f-cf0ed112523c",
   "metadata": {},
   "outputs": [],
   "source": []
  }
 ],
 "metadata": {
  "kernelspec": {
   "display_name": "Python 3 (ipykernel)",
   "language": "python",
   "name": "python3"
  },
  "language_info": {
   "codemirror_mode": {
    "name": "ipython",
    "version": 3
   },
   "file_extension": ".py",
   "mimetype": "text/x-python",
   "name": "python",
   "nbconvert_exporter": "python",
   "pygments_lexer": "ipython3",
   "version": "3.7.10"
  }
 },
 "nbformat": 4,
 "nbformat_minor": 5
}
