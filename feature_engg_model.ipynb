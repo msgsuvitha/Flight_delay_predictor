{
 "cells": [
  {
   "cell_type": "code",
   "execution_count": 1,
   "id": "274f90de-8013-4257-b7f6-96e845474947",
   "metadata": {},
   "outputs": [],
   "source": [
    "import pandas as pd\n",
    "import numpy as np\n",
    "import seaborn as sns"
   ]
  },
  {
   "cell_type": "code",
   "execution_count": 245,
   "id": "f9411081-e344-4962-a4b8-67a067b8ac9b",
   "metadata": {},
   "outputs": [],
   "source": [
    "df = pd.read_csv('B500Kflight.csv', sep=',', skipinitialspace=True)"
   ]
  },
  {
   "cell_type": "code",
   "execution_count": 246,
   "id": "1dd8f02b-3105-41cc-9e33-1f21b97c288f",
   "metadata": {},
   "outputs": [
    {
     "data": {
      "text/plain": [
       "True"
      ]
     },
     "execution_count": 246,
     "metadata": {},
     "output_type": "execute_result"
    }
   ],
   "source": [
    "df.isnull().any().any()"
   ]
  },
  {
   "cell_type": "code",
   "execution_count": 247,
   "id": "70636e9d-88e5-4dd3-b894-fec7f6737e44",
   "metadata": {},
   "outputs": [
    {
     "data": {
      "text/plain": [
       "tail_num                 0.3526\n",
       "dep_time                 1.8728\n",
       "dep_delay                1.8730\n",
       "taxi_out                 1.9328\n",
       "wheels_off               1.9328\n",
       "wheels_on                1.9958\n",
       "taxi_in                  1.9958\n",
       "arr_time                 1.9958\n",
       "arr_delay                2.2154\n",
       "cancellation_code       98.0494\n",
       "actual_elapsed_time      2.2154\n",
       "air_time                 2.2154\n",
       "carrier_delay           81.1046\n",
       "weather_delay           81.1046\n",
       "nas_delay               81.1046\n",
       "security_delay          81.1046\n",
       "late_aircraft_delay     81.1046\n",
       "first_dep_time          99.2920\n",
       "total_add_gtime         99.2920\n",
       "longest_add_gtime       99.2920\n",
       "no_name                100.0000\n",
       "dtype: float64"
      ]
     },
     "execution_count": 247,
     "metadata": {},
     "output_type": "execute_result"
    }
   ],
   "source": [
    "# percentage of nulls in columns only with nulls:\n",
    "df.loc[:,list(df.loc[:,df.isnull().any()].columns)].isnull().sum()/(len(df))*100"
   ]
  },
  {
   "cell_type": "code",
   "execution_count": 249,
   "id": "89944b72-fbc3-48fe-a76d-34ddf0704893",
   "metadata": {},
   "outputs": [],
   "source": [
    "df['fl_date'] = pd.to_datetime(df['fl_date'])\n",
    "df['month'] = df['fl_date'].dt.month\n",
    "df['date'] = df['fl_date'].dt.day\n",
    "df['year'] = df['fl_date'].dt.year"
   ]
  },
  {
   "cell_type": "code",
   "execution_count": 250,
   "id": "28880c92-c25f-4931-8cd7-f6a560c5e982",
   "metadata": {},
   "outputs": [
    {
     "data": {
      "text/plain": [
       "<AxesSubplot:xlabel='dep_delay', ylabel='arr_delay'>"
      ]
     },
     "execution_count": 250,
     "metadata": {},
     "output_type": "execute_result"
    },
    {
     "data": {
      "image/png": "[encoded data removed]",
      "text/plain": [
       "<Figure size 432x288 with 1 Axes>"
      ]
     },
     "metadata": {
      "needs_background": "light"
     },
     "output_type": "display_data"
    }
   ],
   "source": [
    "# correlation between dep_delay and arr_delay\n",
    "\n",
    "sns.scatterplot(data=df, x = 'dep_delay', y= 'arr_delay')"
   ]
  },
  {
   "cell_type": "markdown",
   "id": "0fe0f48c-7793-4174-9cb5-c75f60abefea",
   "metadata": {},
   "source": [
    "dep_delay (Departure Delay) was removed from the dataset as its inclusion would result in biased models, since its correlation with arr_delay is high.\n",
    "It is understood that if a plane is leaving late then its chances of arriving late to its destination will increase"
   ]
  },
  {
   "cell_type": "markdown",
   "id": "912e1e1f-65e6-4068-9635-9800410cc902",
   "metadata": {},
   "source": [
    "### Dropping unwanted features\n",
    "\n",
    "- **fl_date**: Flight Date (yyyy-mm-dd)\n",
    "- **op_carrier_fl_num**: Flight Number\n",
    "- **op_unique_carrier**: Unique Scheduled Operating Carrier Code. When the same code has been used by multiple carriers, a numeric suffix is used for earlier users,for example, PA, PA(1), PA(2). Use this field for analysis across a range of years.\n",
    "- **mkt_carrier**: Code assigned by IATA and commonly used to identify a carrier. As the same code may have been assigned to different carriers over time, the code is not always unique. For analysis, use the Unique Carrier Code.\n",
    "- **branded_code_share**: Reporting Carrier Operated or Branded Code Share Partners\n",
    "- **cancelled**: Cancelled Flight Indicator (1=Yes)\n",
    "- **cancellation_code**: Specifies The Reason For Cancellation\n",
    "- **carrier_delay**: Carrier Delay, in Minutes\n",
    "- **weather_delay**: Weather Delay, in Minutes\n",
    "- **nas_delay**: National Air System Delay, in Minutes\n",
    "- **security_delay**: Security Delay, in Minutes\n",
    "- **late_aircraft_delay**: Late Aircraft Delay, in Minutes\n",
    "- **taxi_out**: Taxi Out Time, in Minutes\n",
    "- **wheels_off**: Wheels Off Time (local time: hhmm)\n",
    "- **wheels_on**: Wheels On Time (local time: hhmm)\n",
    "- **taxi_in**: \tTaxi In Time, in Minutes\n",
    "- **first_dep_time**: First Gate Departure Time at Origin Airport\n",
    "- **total_add_gtime**: Total Ground Time Away from Gate for Gate Return or Cancelled Flight\n",
    "- **longest_add_gtime**: Longest Time Away from Gate for Gate Return or Cancelled Flight\n",
    "- **origin**: Origin Airport\n",
    "- **dest**: Destination Airport\n",
    "- **tail_num**: Tail Number\n",
    "- **dup**: Duplicate flag marked Y if the flight is swapped based on Form-3A data\n",
    "- **diverted**: Diverted Flight Indicator (1=Yes)\n",
    "- **flights**: Number of Flights\n",
    "- **distance**: Distance between airports (miles)\n",
    "- **dep_delay**: Difference in minutes between scheduled and actual departure time. Early departures show negative numbers.\t\n",
    "\n",
    "\n",
    "- 'no_name'\n",
    "\n"
   ]
  },
  {
   "cell_type": "code",
   "execution_count": 223,
   "id": "b3765eb2-2915-4ef6-88fe-60e7409d4872",
   "metadata": {},
   "outputs": [],
   "source": [
    "# Dropping unwanted features\n",
    "\n",
    "df.drop(['mkt_carrier', 'branded_code_share','cancelled', 'cancellation_code', 'carrier_delay', 'weather_delay', \n",
    "         'nas_delay',  'security_delay','late_aircraft_delay', 'taxi_out', 'wheels_off', 'wheels_on', 'taxi_in', \n",
    "        'no_name', 'first_dep_time','total_add_gtime', 'longest_add_gtime', 'origin', 'dest', 'tail_num', 'dup', \n",
    "        'diverted','flights', 'dep_delay', 'op_carrier_fl_num', 'op_unique_carrier', 'distance', 'fl_date'], \n",
    "        axis=1, inplace=True)"
   ]
  },
  {
   "cell_type": "code",
   "execution_count": 224,
   "id": "d21223fe-1e1e-4eef-9640-bf3fc99f3b1e",
   "metadata": {},
   "outputs": [
    {
     "data": {
      "text/html": [
       "<div>\n",
       "<style scoped>\n",
       "    .dataframe tbody tr th:only-of-type {\n",
       "        vertical-align: middle;\n",
       "    }\n",
       "\n",
       "    .dataframe tbody tr th {\n",
       "        vertical-align: top;\n",
       "    }\n",
       "\n",
       "    .dataframe thead th {\n",
       "        text-align: right;\n",
       "    }\n",
       "</style>\n",
       "<table border=\"1\" class=\"dataframe\">\n",
       "  <thead>\n",
       "    <tr style=\"text-align: right;\">\n",
       "      <th></th>\n",
       "      <th>mkt_unique_carrier</th>\n",
       "      <th>mkt_carrier_fl_num</th>\n",
       "      <th>origin_airport_id</th>\n",
       "      <th>origin_city_name</th>\n",
       "      <th>dest_airport_id</th>\n",
       "      <th>dest_city_name</th>\n",
       "      <th>crs_dep_time</th>\n",
       "      <th>dep_time</th>\n",
       "      <th>crs_arr_time</th>\n",
       "      <th>arr_time</th>\n",
       "      <th>arr_delay</th>\n",
       "      <th>crs_elapsed_time</th>\n",
       "      <th>actual_elapsed_time</th>\n",
       "      <th>air_time</th>\n",
       "      <th>month</th>\n",
       "      <th>date</th>\n",
       "      <th>year</th>\n",
       "    </tr>\n",
       "  </thead>\n",
       "  <tbody>\n",
       "    <tr>\n",
       "      <th>0</th>\n",
       "      <td>AA</td>\n",
       "      <td>1924</td>\n",
       "      <td>13204</td>\n",
       "      <td>Orlando, FL</td>\n",
       "      <td>11057</td>\n",
       "      <td>Charlotte, NC</td>\n",
       "      <td>500</td>\n",
       "      <td>458</td>\n",
       "      <td>638</td>\n",
       "      <td>626</td>\n",
       "      <td>-12</td>\n",
       "      <td>98</td>\n",
       "      <td>88</td>\n",
       "      <td>69</td>\n",
       "      <td>1</td>\n",
       "      <td>3</td>\n",
       "      <td>2018</td>\n",
       "    </tr>\n",
       "    <tr>\n",
       "      <th>1</th>\n",
       "      <td>AA</td>\n",
       "      <td>1925</td>\n",
       "      <td>13303</td>\n",
       "      <td>Miami, FL</td>\n",
       "      <td>13204</td>\n",
       "      <td>Orlando, FL</td>\n",
       "      <td>2245</td>\n",
       "      <td>207</td>\n",
       "      <td>2355</td>\n",
       "      <td>309</td>\n",
       "      <td>194</td>\n",
       "      <td>70</td>\n",
       "      <td>62</td>\n",
       "      <td>36</td>\n",
       "      <td>1</td>\n",
       "      <td>3</td>\n",
       "      <td>2018</td>\n",
       "    </tr>\n",
       "    <tr>\n",
       "      <th>2</th>\n",
       "      <td>AA</td>\n",
       "      <td>1926</td>\n",
       "      <td>13204</td>\n",
       "      <td>Orlando, FL</td>\n",
       "      <td>13303</td>\n",
       "      <td>Miami, FL</td>\n",
       "      <td>630</td>\n",
       "      <td>631</td>\n",
       "      <td>739</td>\n",
       "      <td>755</td>\n",
       "      <td>16</td>\n",
       "      <td>69</td>\n",
       "      <td>84</td>\n",
       "      <td>51</td>\n",
       "      <td>1</td>\n",
       "      <td>3</td>\n",
       "      <td>2018</td>\n",
       "    </tr>\n",
       "    <tr>\n",
       "      <th>3</th>\n",
       "      <td>AA</td>\n",
       "      <td>1927</td>\n",
       "      <td>14307</td>\n",
       "      <td>Providence, RI</td>\n",
       "      <td>11057</td>\n",
       "      <td>Charlotte, NC</td>\n",
       "      <td>755</td>\n",
       "      <td>750</td>\n",
       "      <td>1032</td>\n",
       "      <td>1012</td>\n",
       "      <td>-20</td>\n",
       "      <td>157</td>\n",
       "      <td>142</td>\n",
       "      <td>118</td>\n",
       "      <td>1</td>\n",
       "      <td>3</td>\n",
       "      <td>2018</td>\n",
       "    </tr>\n",
       "    <tr>\n",
       "      <th>4</th>\n",
       "      <td>AA</td>\n",
       "      <td>1928</td>\n",
       "      <td>11057</td>\n",
       "      <td>Charlotte, NC</td>\n",
       "      <td>14307</td>\n",
       "      <td>Providence, RI</td>\n",
       "      <td>1150</td>\n",
       "      <td>1146</td>\n",
       "      <td>1354</td>\n",
       "      <td>1339</td>\n",
       "      <td>-15</td>\n",
       "      <td>124</td>\n",
       "      <td>113</td>\n",
       "      <td>90</td>\n",
       "      <td>1</td>\n",
       "      <td>3</td>\n",
       "      <td>2018</td>\n",
       "    </tr>\n",
       "  </tbody>\n",
       "</table>\n",
       "</div>"
      ],
      "text/plain": [
       "  mkt_unique_carrier  mkt_carrier_fl_num  origin_airport_id origin_city_name  \\\n",
       "0                 AA                1924              13204      Orlando, FL   \n",
       "1                 AA                1925              13303        Miami, FL   \n",
       "2                 AA                1926              13204      Orlando, FL   \n",
       "3                 AA                1927              14307   Providence, RI   \n",
       "4                 AA                1928              11057    Charlotte, NC   \n",
       "\n",
       "   dest_airport_id  dest_city_name  crs_dep_time  dep_time  crs_arr_time  \\\n",
       "0            11057   Charlotte, NC           500       458           638   \n",
       "1            13204     Orlando, FL          2245       207          2355   \n",
       "2            13303       Miami, FL           630       631           739   \n",
       "3            11057   Charlotte, NC           755       750          1032   \n",
       "4            14307  Providence, RI          1150      1146          1354   \n",
       "\n",
       "   arr_time  arr_delay  crs_elapsed_time  actual_elapsed_time  air_time  \\\n",
       "0       626        -12                98                   88        69   \n",
       "1       309        194                70                   62        36   \n",
       "2       755         16                69                   84        51   \n",
       "3      1012        -20               157                  142       118   \n",
       "4      1339        -15               124                  113        90   \n",
       "\n",
       "   month  date  year  \n",
       "0      1     3  2018  \n",
       "1      1     3  2018  \n",
       "2      1     3  2018  \n",
       "3      1     3  2018  \n",
       "4      1     3  2018  "
      ]
     },
     "execution_count": 224,
     "metadata": {},
     "output_type": "execute_result"
    }
   ],
   "source": [
    "df.head()"
   ]
  },
  {
   "cell_type": "code",
   "execution_count": 225,
   "id": "5acec96a-51eb-4222-a693-5a90bc93c7f4",
   "metadata": {},
   "outputs": [],
   "source": [
    "df['mkt_unique_carrier'].replace({\n",
    "    'AA': 0,\n",
    "    'DL': 1,\n",
    "    'UA': 2,\n",
    "    'AS': 3,\n",
    "    'WN': 4,\n",
    "    'B6': 5,\n",
    "    'HA': 6,\n",
    "    'F9': 7,\n",
    "    'NK': 8,\n",
    "    'G4': 9\n",
    "    \n",
    "}, inplace = True)"
   ]
  },
  {
   "cell_type": "code",
   "execution_count": 226,
   "id": "d03b702b-b33d-4a9c-8522-81d37b7302bf",
   "metadata": {},
   "outputs": [
    {
     "data": {
      "text/html": [
       "<div>\n",
       "<style scoped>\n",
       "    .dataframe tbody tr th:only-of-type {\n",
       "        vertical-align: middle;\n",
       "    }\n",
       "\n",
       "    .dataframe tbody tr th {\n",
       "        vertical-align: top;\n",
       "    }\n",
       "\n",
       "    .dataframe thead th {\n",
       "        text-align: right;\n",
       "    }\n",
       "</style>\n",
       "<table border=\"1\" class=\"dataframe\">\n",
       "  <thead>\n",
       "    <tr style=\"text-align: right;\">\n",
       "      <th></th>\n",
       "      <th>mkt_unique_carrier</th>\n",
       "      <th>mkt_carrier_fl_num</th>\n",
       "      <th>origin_airport_id</th>\n",
       "      <th>origin_city_name</th>\n",
       "      <th>dest_airport_id</th>\n",
       "      <th>dest_city_name</th>\n",
       "      <th>crs_dep_time</th>\n",
       "      <th>dep_time</th>\n",
       "      <th>crs_arr_time</th>\n",
       "      <th>arr_time</th>\n",
       "      <th>arr_delay</th>\n",
       "      <th>crs_elapsed_time</th>\n",
       "      <th>actual_elapsed_time</th>\n",
       "      <th>air_time</th>\n",
       "      <th>month</th>\n",
       "      <th>date</th>\n",
       "      <th>year</th>\n",
       "    </tr>\n",
       "  </thead>\n",
       "  <tbody>\n",
       "    <tr>\n",
       "      <th>0</th>\n",
       "      <td>0</td>\n",
       "      <td>1924</td>\n",
       "      <td>13204</td>\n",
       "      <td>Orlando, FL</td>\n",
       "      <td>11057</td>\n",
       "      <td>Charlotte, NC</td>\n",
       "      <td>500</td>\n",
       "      <td>458</td>\n",
       "      <td>638</td>\n",
       "      <td>626</td>\n",
       "      <td>-12</td>\n",
       "      <td>98</td>\n",
       "      <td>88</td>\n",
       "      <td>69</td>\n",
       "      <td>1</td>\n",
       "      <td>3</td>\n",
       "      <td>2018</td>\n",
       "    </tr>\n",
       "    <tr>\n",
       "      <th>1</th>\n",
       "      <td>0</td>\n",
       "      <td>1925</td>\n",
       "      <td>13303</td>\n",
       "      <td>Miami, FL</td>\n",
       "      <td>13204</td>\n",
       "      <td>Orlando, FL</td>\n",
       "      <td>2245</td>\n",
       "      <td>207</td>\n",
       "      <td>2355</td>\n",
       "      <td>309</td>\n",
       "      <td>194</td>\n",
       "      <td>70</td>\n",
       "      <td>62</td>\n",
       "      <td>36</td>\n",
       "      <td>1</td>\n",
       "      <td>3</td>\n",
       "      <td>2018</td>\n",
       "    </tr>\n",
       "    <tr>\n",
       "      <th>2</th>\n",
       "      <td>0</td>\n",
       "      <td>1926</td>\n",
       "      <td>13204</td>\n",
       "      <td>Orlando, FL</td>\n",
       "      <td>13303</td>\n",
       "      <td>Miami, FL</td>\n",
       "      <td>630</td>\n",
       "      <td>631</td>\n",
       "      <td>739</td>\n",
       "      <td>755</td>\n",
       "      <td>16</td>\n",
       "      <td>69</td>\n",
       "      <td>84</td>\n",
       "      <td>51</td>\n",
       "      <td>1</td>\n",
       "      <td>3</td>\n",
       "      <td>2018</td>\n",
       "    </tr>\n",
       "    <tr>\n",
       "      <th>3</th>\n",
       "      <td>0</td>\n",
       "      <td>1927</td>\n",
       "      <td>14307</td>\n",
       "      <td>Providence, RI</td>\n",
       "      <td>11057</td>\n",
       "      <td>Charlotte, NC</td>\n",
       "      <td>755</td>\n",
       "      <td>750</td>\n",
       "      <td>1032</td>\n",
       "      <td>1012</td>\n",
       "      <td>-20</td>\n",
       "      <td>157</td>\n",
       "      <td>142</td>\n",
       "      <td>118</td>\n",
       "      <td>1</td>\n",
       "      <td>3</td>\n",
       "      <td>2018</td>\n",
       "    </tr>\n",
       "    <tr>\n",
       "      <th>4</th>\n",
       "      <td>0</td>\n",
       "      <td>1928</td>\n",
       "      <td>11057</td>\n",
       "      <td>Charlotte, NC</td>\n",
       "      <td>14307</td>\n",
       "      <td>Providence, RI</td>\n",
       "      <td>1150</td>\n",
       "      <td>1146</td>\n",
       "      <td>1354</td>\n",
       "      <td>1339</td>\n",
       "      <td>-15</td>\n",
       "      <td>124</td>\n",
       "      <td>113</td>\n",
       "      <td>90</td>\n",
       "      <td>1</td>\n",
       "      <td>3</td>\n",
       "      <td>2018</td>\n",
       "    </tr>\n",
       "  </tbody>\n",
       "</table>\n",
       "</div>"
      ],
      "text/plain": [
       "  mkt_unique_carrier  mkt_carrier_fl_num  origin_airport_id origin_city_name  \\\n",
       "0                  0                1924              13204      Orlando, FL   \n",
       "1                  0                1925              13303        Miami, FL   \n",
       "2                  0                1926              13204      Orlando, FL   \n",
       "3                  0                1927              14307   Providence, RI   \n",
       "4                  0                1928              11057    Charlotte, NC   \n",
       "\n",
       "   dest_airport_id  dest_city_name  crs_dep_time  dep_time  crs_arr_time  \\\n",
       "0            11057   Charlotte, NC           500       458           638   \n",
       "1            13204     Orlando, FL          2245       207          2355   \n",
       "2            13303       Miami, FL           630       631           739   \n",
       "3            11057   Charlotte, NC           755       750          1032   \n",
       "4            14307  Providence, RI          1150      1146          1354   \n",
       "\n",
       "   arr_time  arr_delay  crs_elapsed_time  actual_elapsed_time  air_time  \\\n",
       "0       626        -12                98                   88        69   \n",
       "1       309        194                70                   62        36   \n",
       "2       755         16                69                   84        51   \n",
       "3      1012        -20               157                  142       118   \n",
       "4      1339        -15               124                  113        90   \n",
       "\n",
       "   month  date  year  \n",
       "0      1     3  2018  \n",
       "1      1     3  2018  \n",
       "2      1     3  2018  \n",
       "3      1     3  2018  \n",
       "4      1     3  2018  "
      ]
     },
     "execution_count": 226,
     "metadata": {},
     "output_type": "execute_result"
    }
   ],
   "source": [
    "df.head()"
   ]
  },
  {
   "cell_type": "code",
   "execution_count": null,
   "id": "4fd77728-42ae-43ac-87ea-b0c69a3f527c",
   "metadata": {},
   "outputs": [],
   "source": [
    "df['origin_city_name'].unique()"
   ]
  },
  {
   "cell_type": "code",
   "execution_count": null,
   "id": "70955d2f-0ff0-45c6-a752-8ee079f9f944",
   "metadata": {},
   "outputs": [],
   "source": [
    "df['arr_delay'].describe()"
   ]
  },
  {
   "cell_type": "markdown",
   "id": "7950fbdf-db0e-402e-95d2-1a5607549bb9",
   "metadata": {},
   "source": [
    "# Trial with limited features"
   ]
  },
  {
   "cell_type": "code",
   "execution_count": 228,
   "id": "65fb11dc-df49-4922-8065-4b635ec2e7f4",
   "metadata": {},
   "outputs": [],
   "source": [
    "# Making a new copy of the dataframe df\n",
    "\n",
    "df_clean_data = df.copy()"
   ]
  },
  {
   "cell_type": "code",
   "execution_count": 229,
   "id": "9d2434dc-d680-4bd4-804d-7cbb7971fafb",
   "metadata": {},
   "outputs": [
    {
     "data": {
      "text/html": [
       "<div>\n",
       "<style scoped>\n",
       "    .dataframe tbody tr th:only-of-type {\n",
       "        vertical-align: middle;\n",
       "    }\n",
       "\n",
       "    .dataframe tbody tr th {\n",
       "        vertical-align: top;\n",
       "    }\n",
       "\n",
       "    .dataframe thead th {\n",
       "        text-align: right;\n",
       "    }\n",
       "</style>\n",
       "<table border=\"1\" class=\"dataframe\">\n",
       "  <thead>\n",
       "    <tr style=\"text-align: right;\">\n",
       "      <th></th>\n",
       "      <th>crs_dep_time</th>\n",
       "      <th>dep_time</th>\n",
       "      <th>crs_arr_time</th>\n",
       "      <th>arr_time</th>\n",
       "      <th>arr_delay</th>\n",
       "      <th>crs_elapsed_time</th>\n",
       "      <th>actual_elapsed_time</th>\n",
       "      <th>air_time</th>\n",
       "    </tr>\n",
       "  </thead>\n",
       "  <tbody>\n",
       "    <tr>\n",
       "      <th>0</th>\n",
       "      <td>500</td>\n",
       "      <td>458</td>\n",
       "      <td>638</td>\n",
       "      <td>626</td>\n",
       "      <td>-12</td>\n",
       "      <td>98</td>\n",
       "      <td>88</td>\n",
       "      <td>69</td>\n",
       "    </tr>\n",
       "    <tr>\n",
       "      <th>1</th>\n",
       "      <td>2245</td>\n",
       "      <td>207</td>\n",
       "      <td>2355</td>\n",
       "      <td>309</td>\n",
       "      <td>194</td>\n",
       "      <td>70</td>\n",
       "      <td>62</td>\n",
       "      <td>36</td>\n",
       "    </tr>\n",
       "    <tr>\n",
       "      <th>2</th>\n",
       "      <td>630</td>\n",
       "      <td>631</td>\n",
       "      <td>739</td>\n",
       "      <td>755</td>\n",
       "      <td>16</td>\n",
       "      <td>69</td>\n",
       "      <td>84</td>\n",
       "      <td>51</td>\n",
       "    </tr>\n",
       "    <tr>\n",
       "      <th>3</th>\n",
       "      <td>755</td>\n",
       "      <td>750</td>\n",
       "      <td>1032</td>\n",
       "      <td>1012</td>\n",
       "      <td>-20</td>\n",
       "      <td>157</td>\n",
       "      <td>142</td>\n",
       "      <td>118</td>\n",
       "    </tr>\n",
       "    <tr>\n",
       "      <th>4</th>\n",
       "      <td>1150</td>\n",
       "      <td>1146</td>\n",
       "      <td>1354</td>\n",
       "      <td>1339</td>\n",
       "      <td>-15</td>\n",
       "      <td>124</td>\n",
       "      <td>113</td>\n",
       "      <td>90</td>\n",
       "    </tr>\n",
       "  </tbody>\n",
       "</table>\n",
       "</div>"
      ],
      "text/plain": [
       "   crs_dep_time  dep_time  crs_arr_time  arr_time  arr_delay  \\\n",
       "0           500       458           638       626        -12   \n",
       "1          2245       207          2355       309        194   \n",
       "2           630       631           739       755         16   \n",
       "3           755       750          1032      1012        -20   \n",
       "4          1150      1146          1354      1339        -15   \n",
       "\n",
       "   crs_elapsed_time  actual_elapsed_time  air_time  \n",
       "0                98                   88        69  \n",
       "1                70                   62        36  \n",
       "2                69                   84        51  \n",
       "3               157                  142       118  \n",
       "4               124                  113        90  "
      ]
     },
     "execution_count": 229,
     "metadata": {},
     "output_type": "execute_result"
    }
   ],
   "source": [
    "# copy month feature for one-hot encoded Month\n",
    "\n",
    "df_month = df_clean_data['month']\n",
    "\n",
    "# dropping columns mkt_unique_carrier\tmkt_carrier_fl_num\torigin_airport_id\torigin_city_name\t\n",
    "# dest_airport_id\tdest_city_name\tyear, month\n",
    "\n",
    "df_clean_data.drop(['mkt_unique_carrier', 'mkt_carrier_fl_num', 'origin_airport_id', \n",
    "                    'origin_city_name', 'dest_airport_id', 'dest_city_name', 'year', 'date', 'month'], axis = 1, inplace = True)\n",
    "\n",
    "df_clean_data.head(5)\n"
   ]
  },
  {
   "cell_type": "code",
   "execution_count": 230,
   "id": "fa53ccfe-e26d-4e6e-87a9-ea2f9a5cab0b",
   "metadata": {},
   "outputs": [
    {
     "data": {
      "text/plain": [
       "crs_dep_time           0\n",
       "dep_time               0\n",
       "crs_arr_time           0\n",
       "arr_time               0\n",
       "arr_delay              0\n",
       "crs_elapsed_time       0\n",
       "actual_elapsed_time    0\n",
       "air_time               0\n",
       "dtype: int64"
      ]
     },
     "execution_count": 230,
     "metadata": {},
     "output_type": "execute_result"
    }
   ],
   "source": [
    "df_clean_data.isnull().sum()"
   ]
  },
  {
   "cell_type": "code",
   "execution_count": 231,
   "id": "434714a1-8e11-4974-b2da-4b5d13fa1474",
   "metadata": {},
   "outputs": [],
   "source": [
    "# Data Standardization\n",
    "\n",
    "from sklearn.preprocessing import StandardScaler\n",
    "\n",
    "scaler = StandardScaler()\n",
    "df_data_scaled = pd.DataFrame(scaler.fit_transform(df_clean_data.astype(float)),\n",
    "                                   columns=df_clean_data.columns)"
   ]
  },
  {
   "cell_type": "code",
   "execution_count": 232,
   "id": "ecfad7f3-0ae4-4fa3-bf6b-0473fbd46408",
   "metadata": {},
   "outputs": [
    {
     "data": {
      "text/html": [
       "<div>\n",
       "<style scoped>\n",
       "    .dataframe tbody tr th:only-of-type {\n",
       "        vertical-align: middle;\n",
       "    }\n",
       "\n",
       "    .dataframe tbody tr th {\n",
       "        vertical-align: top;\n",
       "    }\n",
       "\n",
       "    .dataframe thead th {\n",
       "        text-align: right;\n",
       "    }\n",
       "</style>\n",
       "<table border=\"1\" class=\"dataframe\">\n",
       "  <thead>\n",
       "    <tr style=\"text-align: right;\">\n",
       "      <th></th>\n",
       "      <th>crs_dep_time</th>\n",
       "      <th>dep_time</th>\n",
       "      <th>crs_arr_time</th>\n",
       "      <th>arr_time</th>\n",
       "      <th>arr_delay</th>\n",
       "      <th>crs_elapsed_time</th>\n",
       "      <th>actual_elapsed_time</th>\n",
       "      <th>air_time</th>\n",
       "    </tr>\n",
       "  </thead>\n",
       "  <tbody>\n",
       "    <tr>\n",
       "      <th>0</th>\n",
       "      <td>-1.701170</td>\n",
       "      <td>-1.761674</td>\n",
       "      <td>-1.661234</td>\n",
       "      <td>-1.581383</td>\n",
       "      <td>-0.374390</td>\n",
       "      <td>-0.580672</td>\n",
       "      <td>-0.637655</td>\n",
       "      <td>-0.568257</td>\n",
       "    </tr>\n",
       "    <tr>\n",
       "      <th>1</th>\n",
       "      <td>1.874229</td>\n",
       "      <td>-2.261470</td>\n",
       "      <td>1.684097</td>\n",
       "      <td>-2.173469</td>\n",
       "      <td>3.143865</td>\n",
       "      <td>-0.957770</td>\n",
       "      <td>-0.991054</td>\n",
       "      <td>-1.030627</td>\n",
       "    </tr>\n",
       "    <tr>\n",
       "      <th>2</th>\n",
       "      <td>-1.434808</td>\n",
       "      <td>-1.417194</td>\n",
       "      <td>-1.464449</td>\n",
       "      <td>-1.340439</td>\n",
       "      <td>0.103819</td>\n",
       "      <td>-0.971238</td>\n",
       "      <td>-0.692024</td>\n",
       "      <td>-0.820458</td>\n",
       "    </tr>\n",
       "    <tr>\n",
       "      <th>3</th>\n",
       "      <td>-1.178691</td>\n",
       "      <td>-1.180239</td>\n",
       "      <td>-0.893580</td>\n",
       "      <td>-0.860419</td>\n",
       "      <td>-0.511021</td>\n",
       "      <td>0.213926</td>\n",
       "      <td>0.096328</td>\n",
       "      <td>0.118293</td>\n",
       "    </tr>\n",
       "    <tr>\n",
       "      <th>4</th>\n",
       "      <td>-0.369360</td>\n",
       "      <td>-0.391717</td>\n",
       "      <td>-0.266209</td>\n",
       "      <td>-0.249655</td>\n",
       "      <td>-0.425627</td>\n",
       "      <td>-0.230510</td>\n",
       "      <td>-0.297848</td>\n",
       "      <td>-0.274021</td>\n",
       "    </tr>\n",
       "    <tr>\n",
       "      <th>...</th>\n",
       "      <td>...</td>\n",
       "      <td>...</td>\n",
       "      <td>...</td>\n",
       "      <td>...</td>\n",
       "      <td>...</td>\n",
       "      <td>...</td>\n",
       "      <td>...</td>\n",
       "      <td>...</td>\n",
       "    </tr>\n",
       "    <tr>\n",
       "      <th>99995</th>\n",
       "      <td>0.452265</td>\n",
       "      <td>0.410744</td>\n",
       "      <td>0.819026</td>\n",
       "      <td>0.829922</td>\n",
       "      <td>-0.066970</td>\n",
       "      <td>3.217241</td>\n",
       "      <td>3.440030</td>\n",
       "      <td>3.438949</td>\n",
       "    </tr>\n",
       "    <tr>\n",
       "      <th>99996</th>\n",
       "      <td>-1.424563</td>\n",
       "      <td>-1.427150</td>\n",
       "      <td>-0.088908</td>\n",
       "      <td>-0.090894</td>\n",
       "      <td>-0.528100</td>\n",
       "      <td>2.274496</td>\n",
       "      <td>2.216724</td>\n",
       "      <td>2.304041</td>\n",
       "    </tr>\n",
       "    <tr>\n",
       "      <th>99997</th>\n",
       "      <td>-1.215571</td>\n",
       "      <td>-1.218072</td>\n",
       "      <td>-1.102055</td>\n",
       "      <td>-1.028520</td>\n",
       "      <td>-0.220680</td>\n",
       "      <td>-0.445995</td>\n",
       "      <td>-0.325033</td>\n",
       "      <td>-0.231988</td>\n",
       "    </tr>\n",
       "    <tr>\n",
       "      <th>99998</th>\n",
       "      <td>-0.645966</td>\n",
       "      <td>-0.646593</td>\n",
       "      <td>-0.753299</td>\n",
       "      <td>-0.682980</td>\n",
       "      <td>-0.118207</td>\n",
       "      <td>-1.240593</td>\n",
       "      <td>-1.167754</td>\n",
       "      <td>-1.002604</td>\n",
       "    </tr>\n",
       "    <tr>\n",
       "      <th>99999</th>\n",
       "      <td>-0.361164</td>\n",
       "      <td>-0.377778</td>\n",
       "      <td>-0.344143</td>\n",
       "      <td>-0.303821</td>\n",
       "      <td>-0.237759</td>\n",
       "      <td>-0.823092</td>\n",
       "      <td>-0.787170</td>\n",
       "      <td>-0.568257</td>\n",
       "    </tr>\n",
       "  </tbody>\n",
       "</table>\n",
       "<p>100000 rows × 8 columns</p>\n",
       "</div>"
      ],
      "text/plain": [
       "       crs_dep_time  dep_time  crs_arr_time  arr_time  arr_delay  \\\n",
       "0         -1.701170 -1.761674     -1.661234 -1.581383  -0.374390   \n",
       "1          1.874229 -2.261470      1.684097 -2.173469   3.143865   \n",
       "2         -1.434808 -1.417194     -1.464449 -1.340439   0.103819   \n",
       "3         -1.178691 -1.180239     -0.893580 -0.860419  -0.511021   \n",
       "4         -0.369360 -0.391717     -0.266209 -0.249655  -0.425627   \n",
       "...             ...       ...           ...       ...        ...   \n",
       "99995      0.452265  0.410744      0.819026  0.829922  -0.066970   \n",
       "99996     -1.424563 -1.427150     -0.088908 -0.090894  -0.528100   \n",
       "99997     -1.215571 -1.218072     -1.102055 -1.028520  -0.220680   \n",
       "99998     -0.645966 -0.646593     -0.753299 -0.682980  -0.118207   \n",
       "99999     -0.361164 -0.377778     -0.344143 -0.303821  -0.237759   \n",
       "\n",
       "       crs_elapsed_time  actual_elapsed_time  air_time  \n",
       "0             -0.580672            -0.637655 -0.568257  \n",
       "1             -0.957770            -0.991054 -1.030627  \n",
       "2             -0.971238            -0.692024 -0.820458  \n",
       "3              0.213926             0.096328  0.118293  \n",
       "4             -0.230510            -0.297848 -0.274021  \n",
       "...                 ...                  ...       ...  \n",
       "99995          3.217241             3.440030  3.438949  \n",
       "99996          2.274496             2.216724  2.304041  \n",
       "99997         -0.445995            -0.325033 -0.231988  \n",
       "99998         -1.240593            -1.167754 -1.002604  \n",
       "99999         -0.823092            -0.787170 -0.568257  \n",
       "\n",
       "[100000 rows x 8 columns]"
      ]
     },
     "execution_count": 232,
     "metadata": {},
     "output_type": "execute_result"
    }
   ],
   "source": [
    "df_data_scaled"
   ]
  },
  {
   "cell_type": "code",
   "execution_count": 233,
   "id": "fda335d3-f31f-4dc2-8823-29fb3c2666bf",
   "metadata": {},
   "outputs": [
    {
     "data": {
      "text/plain": [
       "(100000, 0)"
      ]
     },
     "execution_count": 233,
     "metadata": {},
     "output_type": "execute_result"
    }
   ],
   "source": [
    "# Creating dummy variable for month feature\n",
    "\n",
    "month_dummy = pd.get_dummies(df_month.astype(str), drop_first=True)\n",
    "month_dummy.shape"
   ]
  },
  {
   "cell_type": "code",
   "execution_count": 236,
   "id": "9b6e3f20-a61a-4ad5-88e5-b86ac4c9e569",
   "metadata": {},
   "outputs": [
    {
     "data": {
      "text/html": [
       "<div>\n",
       "<style scoped>\n",
       "    .dataframe tbody tr th:only-of-type {\n",
       "        vertical-align: middle;\n",
       "    }\n",
       "\n",
       "    .dataframe tbody tr th {\n",
       "        vertical-align: top;\n",
       "    }\n",
       "\n",
       "    .dataframe thead th {\n",
       "        text-align: right;\n",
       "    }\n",
       "</style>\n",
       "<table border=\"1\" class=\"dataframe\">\n",
       "  <thead>\n",
       "    <tr style=\"text-align: right;\">\n",
       "      <th></th>\n",
       "      <th>crs_dep_time</th>\n",
       "      <th>dep_time</th>\n",
       "      <th>crs_arr_time</th>\n",
       "      <th>arr_time</th>\n",
       "      <th>arr_delay</th>\n",
       "      <th>crs_elapsed_time</th>\n",
       "      <th>actual_elapsed_time</th>\n",
       "      <th>air_time</th>\n",
       "    </tr>\n",
       "  </thead>\n",
       "  <tbody>\n",
       "    <tr>\n",
       "      <th>0</th>\n",
       "      <td>-1.701170</td>\n",
       "      <td>-1.761674</td>\n",
       "      <td>-1.661234</td>\n",
       "      <td>-1.581383</td>\n",
       "      <td>-0.374390</td>\n",
       "      <td>-0.580672</td>\n",
       "      <td>-0.637655</td>\n",
       "      <td>-0.568257</td>\n",
       "    </tr>\n",
       "    <tr>\n",
       "      <th>1</th>\n",
       "      <td>1.874229</td>\n",
       "      <td>-2.261470</td>\n",
       "      <td>1.684097</td>\n",
       "      <td>-2.173469</td>\n",
       "      <td>3.143865</td>\n",
       "      <td>-0.957770</td>\n",
       "      <td>-0.991054</td>\n",
       "      <td>-1.030627</td>\n",
       "    </tr>\n",
       "    <tr>\n",
       "      <th>2</th>\n",
       "      <td>-1.434808</td>\n",
       "      <td>-1.417194</td>\n",
       "      <td>-1.464449</td>\n",
       "      <td>-1.340439</td>\n",
       "      <td>0.103819</td>\n",
       "      <td>-0.971238</td>\n",
       "      <td>-0.692024</td>\n",
       "      <td>-0.820458</td>\n",
       "    </tr>\n",
       "    <tr>\n",
       "      <th>3</th>\n",
       "      <td>-1.178691</td>\n",
       "      <td>-1.180239</td>\n",
       "      <td>-0.893580</td>\n",
       "      <td>-0.860419</td>\n",
       "      <td>-0.511021</td>\n",
       "      <td>0.213926</td>\n",
       "      <td>0.096328</td>\n",
       "      <td>0.118293</td>\n",
       "    </tr>\n",
       "    <tr>\n",
       "      <th>4</th>\n",
       "      <td>-0.369360</td>\n",
       "      <td>-0.391717</td>\n",
       "      <td>-0.266209</td>\n",
       "      <td>-0.249655</td>\n",
       "      <td>-0.425627</td>\n",
       "      <td>-0.230510</td>\n",
       "      <td>-0.297848</td>\n",
       "      <td>-0.274021</td>\n",
       "    </tr>\n",
       "  </tbody>\n",
       "</table>\n",
       "</div>"
      ],
      "text/plain": [
       "   crs_dep_time  dep_time  crs_arr_time  arr_time  arr_delay  \\\n",
       "0     -1.701170 -1.761674     -1.661234 -1.581383  -0.374390   \n",
       "1      1.874229 -2.261470      1.684097 -2.173469   3.143865   \n",
       "2     -1.434808 -1.417194     -1.464449 -1.340439   0.103819   \n",
       "3     -1.178691 -1.180239     -0.893580 -0.860419  -0.511021   \n",
       "4     -0.369360 -0.391717     -0.266209 -0.249655  -0.425627   \n",
       "\n",
       "   crs_elapsed_time  actual_elapsed_time  air_time  \n",
       "0         -0.580672            -0.637655 -0.568257  \n",
       "1         -0.957770            -0.991054 -1.030627  \n",
       "2         -0.971238            -0.692024 -0.820458  \n",
       "3          0.213926             0.096328  0.118293  \n",
       "4         -0.230510            -0.297848 -0.274021  "
      ]
     },
     "execution_count": 236,
     "metadata": {},
     "output_type": "execute_result"
    }
   ],
   "source": [
    "# concatinating month_dummy with the scaled data\n",
    "\n",
    "df_data_scaled = pd.concat([df_data_scaled, month_dummy], axis=1)\n",
    "df_data_scaled.head()"
   ]
  },
  {
   "cell_type": "code",
   "execution_count": 277,
   "id": "bc1f8a69-111a-432e-b5b8-28fc5095daf0",
   "metadata": {},
   "outputs": [
    {
     "name": "stdout",
     "output_type": "stream",
     "text": [
      "Total Explained Variance: 77.26%\n"
     ]
    },
    {
     "data": {
      "text/plain": [
       "{'0': 'PC 1 (40.1%)', '1': 'PC 2 (37.2%)'}"
      ]
     },
     "execution_count": 277,
     "metadata": {},
     "output_type": "execute_result"
    }
   ],
   "source": [
    "# Dimensional Reductionality\n",
    "from sklearn.decomposition import PCA\n",
    "\n",
    "n_components = 2\n",
    "pca = PCA(n_components=n_components)\n",
    "components = pca.fit_transform(df_data_scaled)\n",
    "labels = {\n",
    "    str(i): f'PC {i+1} ({var:.1f}%)'\n",
    "    for i, var in enumerate(pca.explained_variance_ratio_ * 100)\n",
    "}\n",
    "\n",
    "\n",
    "total_var = pca.explained_variance_ratio_.sum() * 100\n",
    "print(f'Total Explained Variance: {total_var:.2f}%')\n",
    "\n",
    "labels"
   ]
  },
  {
   "cell_type": "code",
   "execution_count": 168,
   "id": "7cc9335b-730f-44b0-8d50-5e0643672ce1",
   "metadata": {},
   "outputs": [],
   "source": [
    "#Feature Selection\n",
    "#split dataset into features and target variable\n",
    "\n",
    "X = df_data_scaled.drop(['arr_delay'], axis = 1)\n",
    "y = df_data_scaled['arr_delay']"
   ]
  },
  {
   "cell_type": "code",
   "execution_count": 169,
   "id": "7f69597a-ff9a-455a-aeb6-5be77d0e7faa",
   "metadata": {},
   "outputs": [],
   "source": [
    "from sklearn.model_selection import train_test_split\n",
    "\n",
    "# Split dataset into training set and test set\n",
    "X_train, X_test, y_train, y_test = train_test_split(X, y, test_size=0.3, random_state=101) # 70% training and 30% test"
   ]
  },
  {
   "cell_type": "code",
   "execution_count": 170,
   "id": "4aa725fc-cd39-4685-81ac-3acbba396f4a",
   "metadata": {},
   "outputs": [
    {
     "data": {
      "text/plain": [
       "((70000, 7), (30000, 7))"
      ]
     },
     "execution_count": 170,
     "metadata": {},
     "output_type": "execute_result"
    }
   ],
   "source": [
    "# check the shape of X_train and X_test\n",
    "\n",
    "X_train.shape, X_test.shape"
   ]
  },
  {
   "cell_type": "code",
   "execution_count": 269,
   "id": "837f6c12-f3e2-4bd4-a1f7-eb3bf9a394d3",
   "metadata": {},
   "outputs": [
    {
     "name": "stdout",
     "output_type": "stream",
     "text": [
      "LR-MAE for the Training set:  0.4300682303875301\n"
     ]
    }
   ],
   "source": [
    "from sklearn.linear_model import LinearRegression, Ridge\n",
    "# import MAE from sklearn\n",
    "from sklearn.metrics import mean_absolute_error\n",
    "\n",
    "# Baseline Model, fit and predict linear regression\n",
    "\n",
    "lr = LinearRegression()\n",
    "lr.fit(X_train,y_train)\n",
    "y_lr = lr.predict(X_train)\n",
    "\n",
    "print(\"LR-MAE for the Training set: \",mean_absolute_error(y_train, y_lr))"
   ]
  },
  {
   "cell_type": "code",
   "execution_count": 263,
   "id": "1734de84-37fe-407f-a43b-7e0a0c7671d4",
   "metadata": {},
   "outputs": [
    {
     "name": "stdout",
     "output_type": "stream",
     "text": [
      "MAE for the test set:  0.4310990832056329\n"
     ]
    }
   ],
   "source": [
    "# Predicting using the test set\n",
    "\n",
    "y_test_lr = lr.predict(X_test)\n",
    "print(\"MAE for the test set: \", mean_absolute_error(y_test, y_test_lr))"
   ]
  },
  {
   "cell_type": "code",
   "execution_count": 268,
   "id": "52b02746-194b-4f9b-b349-b9589eeaa887",
   "metadata": {},
   "outputs": [
    {
     "name": "stdout",
     "output_type": "stream",
     "text": [
      "RR-MAE for the Training set:  0.43006874835295855\n"
     ]
    }
   ],
   "source": [
    "# creating ridge regression\n",
    "rr = Ridge(alpha=0.1)\n",
    "rr.fit(X_train,y_train)\n",
    "y_rr = rr.predict(X_train)\n",
    "print(\"RR-MAE for the Training set: \",mean_absolute_error(y_train, y_rr))"
   ]
  },
  {
   "cell_type": "code",
   "execution_count": 267,
   "id": "6718d9e0-4786-4010-8f5c-c2169292637a",
   "metadata": {},
   "outputs": [
    {
     "name": "stdout",
     "output_type": "stream",
     "text": [
      "Linear Regression is better\n"
     ]
    }
   ],
   "source": [
    "# According to MAE, what is the better model?\n",
    "\n",
    "if mean_absolute_error(y_train, y_lr) < mean_absolute_error(y_train, y_rr):\n",
    "    print(\"Linear Regression is better\")\n",
    "else:\n",
    "    print(\"Ridge Regression is better\")"
   ]
  },
  {
   "cell_type": "code",
   "execution_count": 270,
   "id": "8d74fb8d-a88c-4c84-aa62-ae437b0cf030",
   "metadata": {},
   "outputs": [
    {
     "name": "stdout",
     "output_type": "stream",
     "text": [
      "LR-R2 Score for the Training set:  0.10346005186604779\n"
     ]
    }
   ],
   "source": [
    "# import r2_score from sklearn\n",
    "from sklearn.metrics import r2_score\n",
    "\n",
    "print(\"LR-R2 Score for the Training set: \",r2_score(y_train, y_lr)) # linear Regression"
   ]
  },
  {
   "cell_type": "code",
   "execution_count": 271,
   "id": "f8c83bb7-c9c3-4752-8389-0cca1b8cdfa6",
   "metadata": {},
   "outputs": [
    {
     "name": "stdout",
     "output_type": "stream",
     "text": [
      "RR-R2 Score for the Training set:  0.10346005142469783\n"
     ]
    }
   ],
   "source": [
    "print(\"RR-R2 Score for the Training set: \",r2_score(y_train, y_rr)) # ridge regression"
   ]
  },
  {
   "cell_type": "code",
   "execution_count": 273,
   "id": "eec88d92-5b3f-401f-842b-3c10de57513f",
   "metadata": {},
   "outputs": [],
   "source": [
    "# Gridsearch\n",
    "\n",
    "#Use grid_search to find the best value of the parameter alpha for Ridge and Lasso regressions\n",
    "\n",
    "from sklearn.model_selection import GridSearchCV"
   ]
  },
  {
   "cell_type": "code",
   "execution_count": 274,
   "id": "c7bca1ea-55c5-4fe9-b4de-d096810ea710",
   "metadata": {},
   "outputs": [
    {
     "name": "stdout",
     "output_type": "stream",
     "text": [
      "Training score for Ridge: 0.10178422594779682\n",
      "Best alpha for Ridge: 0.1\n"
     ]
    }
   ],
   "source": [
    "#define possible alphas\n",
    "param_grid = [{'alpha': [0.0001, 0.001, 0.01, 0.1]}]\n",
    "\n",
    "#create gridsearch object\n",
    "gridsearch_obj = GridSearchCV(estimator=rr, scoring='r2', param_grid=param_grid, n_jobs=-1)\n",
    "\n",
    "#save fit to training data set\n",
    "rr_fit = gridsearch_obj.fit(X_train, y_train)\n",
    "\n",
    "# View the accuracy score\n",
    "print('Training score for Ridge:', gridsearch_obj.best_score_) \n",
    "print('Best alpha for Ridge:', gridsearch_obj.best_estimator_.alpha)\n"
   ]
  },
  {
   "cell_type": "code",
   "execution_count": null,
   "id": "717cefdc-6eb3-4be2-9d3a-46daf459fdba",
   "metadata": {},
   "outputs": [],
   "source": []
  }
 ],
 "metadata": {
  "kernelspec": {
   "display_name": "Python 3 (ipykernel)",
   "language": "python",
   "name": "python3"
  },
  "language_info": {
   "codemirror_mode": {
    "name": "ipython",
    "version": 3
   },
   "file_extension": ".py",
   "mimetype": "text/x-python",
   "name": "python",
   "nbconvert_exporter": "python",
   "pygments_lexer": "ipython3",
   "version": "3.7.10"
  }
 },
 "nbformat": 4,
 "nbformat_minor": 5
}
